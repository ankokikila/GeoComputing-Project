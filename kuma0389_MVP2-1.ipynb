{
 "cells": [
  {
   "cell_type": "markdown",
   "metadata": {
    "id": "eZ6V5VLe1GDS",
    "tags": []
   },
   "source": [
    "# Title: MVP 2 HealthAccessGIS\n",
    "\n",
    "Name- Ankila Kumari| Email - kuma0389@umn.edu\n",
    "\n",
    "### Description\n",
    "HealthAccessGIS is a Geographic Information System (GIS) tool designed to analyze and visualize healthcare accessibility within urban environments. By integrating and processing geospatial data, this MVP assists in identifying areas with limited access to healthcare facilities, thereby supporting informed decision making for urban planning and public health initiatives."
   ]
  },
  {
   "cell_type": "markdown",
   "metadata": {
    "id": "jFQsyQxF1GDU"
   },
   "source": [
    "## 1. Design Framework\n",
    "\n",
    "### 1.1. Problem Statement\n",
    "Urban populations often face disparities in accessing healthcare services due to uneven distribution of facilities and varying population densities. Identifying these disparities is crucial for improving healthcare equity and planning.\n",
    "\n",
    "### 1.2. Solution\n",
    "Develop a GIS-based application that overlays population density data with healthcare facility locations to assess and visualize accessibility gaps. This tool will enable stakeholders to pinpoint underserved areas and strategize the placement of new healthcare facilities effectively.\n",
    "\n",
    "### 1.3. Challenge\n",
    "Ensuring the accuracy and consistency of diverse geospatial datasets while providing an interactive and user-friendly interface poses a significant challenge in implementing this MVP.​\n"
   ]
  },
  {
   "cell_type": "markdown",
   "metadata": {
    "id": "y2tXirb-1GDU"
   },
   "source": [
    "___\n",
    "\n",
    "# 2. Minimal Viable Product"
   ]
  },
  {
   "cell_type": "markdown",
   "metadata": {
    "id": "BEMcvCAq1GDU"
   },
   "source": [
    "## 2.1. Setup & Installation\n",
    "\n",
    "In the code cell below, you will write all your import and load statements for the packages and data needed for your project."
   ]
  },
  {
   "cell_type": "code",
   "execution_count": 22,
   "metadata": {
    "id": "ix8r8pHx1GDV"
   },
   "outputs": [],
   "source": [
    "# Import Packages\n",
    "import numpy as np\n",
    "import geopandas as gpd\n",
    "import rasterio\n",
    "from rasterio.plot import show\n",
    "from rasterio.windows import Window\n",
    "import matplotlib.pyplot as plt\n",
    "from ipywidgets import interact, interactive, fixed, interact_manual\n",
    "import ipywidgets as widgets\n",
    "import folium\n",
    "from folium import Choropleth, Marker, GeoJson\n"
   ]
  },
  {
   "cell_type": "markdown",
   "metadata": {
    "id": "Ati4WcPQ1GDV"
   },
   "source": [
    "## 2.2. Data IO and Processing (Functions)\n",
    "Add all your data read, write, and processing functionality here."
   ]
  },
  {
   "cell_type": "code",
   "execution_count": 34,
   "metadata": {},
   "outputs": [],
   "source": [
    "# Raster processing functions\n",
    "def raster_calculator_add(raster1_path, raster2_path):\n",
    "    with rasterio.open(raster1_path) as r1, rasterio.open(raster2_path) as r2:\n",
    "        data1 = r1.read(1)\n",
    "        data2 = r2.read(1)\n",
    "        return data1 + data2\n",
    "\n",
    "def raster_calculator_max(raster1_path, raster2_path):\n",
    "    with rasterio.open(raster1_path) as r1, rasterio.open(raster2_path) as r2:\n",
    "        data1 = r1.read(1)\n",
    "        data2 = r2.read(1)\n",
    "        return np.maximum(data1, data2)\n",
    "\n",
    "def focal_mean(raster_path):\n",
    "    from scipy.ndimage import uniform_filter\n",
    "    with rasterio.open(raster_path) as src:\n",
    "        data = src.read(1)\n",
    "        return uniform_filter(data, size=3)\n",
    "\n",
    "def global_average(raster_path):\n",
    "    with rasterio.open(raster_path) as src:\n",
    "        data = src.read(1)\n",
    "        return np.mean(data)\n",
    "\n",
    "# Vector data processing functions\n",
    "def find_northernmost_feature(gdf):\n",
    "    northernmost = gdf.geometry.apply(lambda geom: geom.centroid.y).idxmax()\n",
    "    return gdf.loc[northernmost]\n",
    "\n",
    "def filter_features(gdf, column, threshold):\n",
    "    return gdf[gdf[column] > threshold]\n"
   ]
  },
  {
   "cell_type": "markdown",
   "metadata": {},
   "source": [
    "## 2.3. Interactivity (Functions)\n",
    "Add all your user interaction functionality here. If you want to be fancy and add some improvements, then check out Box in https://ipywidgets.readthedocs.io/en/latest/examples/Widget%20Layout.html."
   ]
  },
  {
   "cell_type": "code",
   "execution_count": 35,
   "metadata": {},
   "outputs": [
    {
     "data": {
      "application/vnd.jupyter.widget-view+json": {
       "model_id": "f69aa1dd77b9442ba252e77013b56bff",
       "version_major": 2,
       "version_minor": 0
      },
      "text/plain": [
       "Dropdown(description='Vector File:', options=(('hospitals.geojson', 'hospitals.geojson'), ('pop_density.tif', …"
      ]
     },
     "metadata": {},
     "output_type": "display_data"
    }
   ],
   "source": [
    "vector_dropdown = widgets.Dropdown(\n",
    "    options=[('hospitals.geojson', 'data/hospitals.geojson'), \n",
    "             ('pop_density.tif)', 'data/pop_density.tif')],\n",
    "    description='Vector File:',\n",
    ")\n",
    "vector_dropdown = widgets.Dropdown(\n",
    "    options=[('hospitals.geojson', 'hospitals.geojson'), \n",
    "             ('pop_density.tif', 'pop_density.tif')],\n",
    "    description='Vector File:',\n",
    ")\n",
    "\n",
    "raster_dropdown = widgets.Dropdown(\n",
    "    options=[('Population Density (tif)', 'pop_density.tif'), \n",
    "             ('Elevation (asc)', 'elevation.asc')],\n",
    "    description='Raster File:',\n",
    ")\n",
    "\n",
    "raster_dropdown\n",
    "vector_dropdown\n"
   ]
  },
  {
   "cell_type": "code",
   "execution_count": null,
   "metadata": {},
   "outputs": [],
   "source": []
  },
  {
   "cell_type": "markdown",
   "metadata": {
    "id": "pyX0qLUK1GDV"
   },
   "source": [
    "## 2.4. Execution\n",
    "### 2.4.1. Run <code>main</code>\n",
    "The code cell(s) below are meant for your exection of your project objective (serving as your MVP). Remember, it should be simple."
   ]
  },
  {
   "cell_type": "code",
   "execution_count": 53,
   "metadata": {
    "id": "NknIW-SV1GDW"
   },
   "outputs": [
    {
     "name": "stdout",
     "output_type": "stream",
     "text": [
      "Welcome to my GIS MVP titled HealthAccessGIS\n",
      "This GIS MVP is authored by Swetabh Patel\n",
      "\n",
      "\n",
      "Raster file selected: pop_density.tif\n",
      "Vector file selected: hospitals.geojson\n",
      "Global average raster value: 53.560001373291016\n"
     ]
    },
    {
     "data": {
      "image/png": "[encoded data removed]",
      "text/plain": [
       "<Figure size 432x288 with 1 Axes>"
      ]
     },
     "metadata": {
      "needs_background": "light"
     },
     "output_type": "display_data"
    },
    {
     "name": "stderr",
     "output_type": "stream",
     "text": [
      "/tmp/ipykernel_730/4201354286.py:25: UserWarning: Geometry is in a geographic CRS. Results from 'centroid' are likely incorrect. Use 'GeoSeries.to_crs()' to re-project geometries to a projected CRS before this operation.\n",
      "\n",
      "  center = [gdf.geometry.centroid.y.mean(), gdf.geometry.centroid.x.mean()]\n",
      "/tmp/ipykernel_730/4201354286.py:25: UserWarning: Geometry is in a geographic CRS. Results from 'centroid' are likely incorrect. Use 'GeoSeries.to_crs()' to re-project geometries to a projected CRS before this operation.\n",
      "\n",
      "  center = [gdf.geometry.centroid.y.mean(), gdf.geometry.centroid.x.mean()]\n"
     ]
    },
    {
     "data": {
      "text/html": [
       "<div style=\"width:100%;\"><div style=\"position:relative;width:100%;height:0;padding-bottom:60%;\"><span style=\"color:#565656\">Make this Notebook Trusted to load map: File -> Trust Notebook</span><iframe src=\"about:blank\" style=\"position:absolute;width:100%;height:100%;left:0;top:0;border:none !important;\" data-html=%3C%21DOCTYPE%20html%3E%0A%3Chead%3E%20%20%20%20%0A%20%20%20%20%3Cmeta%20http-equiv%3D%22content-type%22%20content%3D%22text/html%3B%20charset%3DUTF-8%22%20/%3E%0A%20%20%20%20%0A%20%20%20%20%20%20%20%20%3Cscript%3E%0A%20%20%20%20%20%20%20%20%20%20%20%20L_NO_TOUCH%20%3D%20false%3B%0A%20%20%20%20%20%20%20%20%20%20%20%20L_DISABLE_3D%20%3D%20false%3B%0A%20%20%20%20%20%20%20%20%3C/script%3E%0A%20%20%20%20%0A%20%20%20%20%3Cstyle%3Ehtml%2C%20body%20%7Bwidth%3A%20100%25%3Bheight%3A%20100%25%3Bmargin%3A%200%3Bpadding%3A%200%3B%7D%3C/style%3E%0A%20%20%20%20%3Cstyle%3E%23map%20%7Bposition%3Aabsolute%3Btop%3A0%3Bbottom%3A0%3Bright%3A0%3Bleft%3A0%3B%7D%3C/style%3E%0A%20%20%20%20%3Cscript%20src%3D%22https%3A//cdn.jsdelivr.net/npm/leaflet%401.6.0/dist/leaflet.js%22%3E%3C/script%3E%0A%20%20%20%20%3Cscript%20src%3D%22https%3A//code.jquery.com/jquery-1.12.4.min.js%22%3E%3C/script%3E%0A%20%20%20%20%3Cscript%20src%3D%22https%3A//maxcdn.bootstrapcdn.com/bootstrap/3.2.0/js/bootstrap.min.js%22%3E%3C/script%3E%0A%20%20%20%20%3Cscript%20src%3D%22https%3A//cdnjs.cloudflare.com/ajax/libs/Leaflet.awesome-markers/2.0.2/leaflet.awesome-markers.js%22%3E%3C/script%3E%0A%20%20%20%20%3Clink%20rel%3D%22stylesheet%22%20href%3D%22https%3A//cdn.jsdelivr.net/npm/leaflet%401.6.0/dist/leaflet.css%22/%3E%0A%20%20%20%20%3Clink%20rel%3D%22stylesheet%22%20href%3D%22https%3A//maxcdn.bootstrapcdn.com/bootstrap/3.2.0/css/bootstrap.min.css%22/%3E%0A%20%20%20%20%3Clink%20rel%3D%22stylesheet%22%20href%3D%22https%3A//maxcdn.bootstrapcdn.com/bootstrap/3.2.0/css/bootstrap-theme.min.css%22/%3E%0A%20%20%20%20%3Clink%20rel%3D%22stylesheet%22%20href%3D%22https%3A//maxcdn.bootstrapcdn.com/font-awesome/4.6.3/css/font-awesome.min.css%22/%3E%0A%20%20%20%20%3Clink%20rel%3D%22stylesheet%22%20href%3D%22https%3A//cdnjs.cloudflare.com/ajax/libs/Leaflet.awesome-markers/2.0.2/leaflet.awesome-markers.css%22/%3E%0A%20%20%20%20%3Clink%20rel%3D%22stylesheet%22%20href%3D%22https%3A//cdn.jsdelivr.net/gh/python-visualization/folium/folium/templates/leaflet.awesome.rotate.min.css%22/%3E%0A%20%20%20%20%0A%20%20%20%20%20%20%20%20%20%20%20%20%3Cmeta%20name%3D%22viewport%22%20content%3D%22width%3Ddevice-width%2C%0A%20%20%20%20%20%20%20%20%20%20%20%20%20%20%20%20initial-scale%3D1.0%2C%20maximum-scale%3D1.0%2C%20user-scalable%3Dno%22%20/%3E%0A%20%20%20%20%20%20%20%20%20%20%20%20%3Cstyle%3E%0A%20%20%20%20%20%20%20%20%20%20%20%20%20%20%20%20%23map_ba1aa53a6cf543f6b25858623a69fe92%20%7B%0A%20%20%20%20%20%20%20%20%20%20%20%20%20%20%20%20%20%20%20%20position%3A%20relative%3B%0A%20%20%20%20%20%20%20%20%20%20%20%20%20%20%20%20%20%20%20%20width%3A%20100.0%25%3B%0A%20%20%20%20%20%20%20%20%20%20%20%20%20%20%20%20%20%20%20%20height%3A%20100.0%25%3B%0A%20%20%20%20%20%20%20%20%20%20%20%20%20%20%20%20%20%20%20%20left%3A%200.0%25%3B%0A%20%20%20%20%20%20%20%20%20%20%20%20%20%20%20%20%20%20%20%20top%3A%200.0%25%3B%0A%20%20%20%20%20%20%20%20%20%20%20%20%20%20%20%20%7D%0A%20%20%20%20%20%20%20%20%20%20%20%20%3C/style%3E%0A%20%20%20%20%20%20%20%20%0A%3C/head%3E%0A%3Cbody%3E%20%20%20%20%0A%20%20%20%20%0A%20%20%20%20%20%20%20%20%20%20%20%20%3Cdiv%20class%3D%22folium-map%22%20id%3D%22map_ba1aa53a6cf543f6b25858623a69fe92%22%20%3E%3C/div%3E%0A%20%20%20%20%20%20%20%20%0A%3C/body%3E%0A%3Cscript%3E%20%20%20%20%0A%20%20%20%20%0A%20%20%20%20%20%20%20%20%20%20%20%20var%20map_ba1aa53a6cf543f6b25858623a69fe92%20%3D%20L.map%28%0A%20%20%20%20%20%20%20%20%20%20%20%20%20%20%20%20%22map_ba1aa53a6cf543f6b25858623a69fe92%22%2C%0A%20%20%20%20%20%20%20%20%20%20%20%20%20%20%20%20%7B%0A%20%20%20%20%20%20%20%20%20%20%20%20%20%20%20%20%20%20%20%20center%3A%20%5B44.96575%2C%20-93.1773%5D%2C%0A%20%20%20%20%20%20%20%20%20%20%20%20%20%20%20%20%20%20%20%20crs%3A%20L.CRS.EPSG3857%2C%0A%20%20%20%20%20%20%20%20%20%20%20%20%20%20%20%20%20%20%20%20zoom%3A%2012%2C%0A%20%20%20%20%20%20%20%20%20%20%20%20%20%20%20%20%20%20%20%20zoomControl%3A%20true%2C%0A%20%20%20%20%20%20%20%20%20%20%20%20%20%20%20%20%20%20%20%20preferCanvas%3A%20false%2C%0A%20%20%20%20%20%20%20%20%20%20%20%20%20%20%20%20%7D%0A%20%20%20%20%20%20%20%20%20%20%20%20%29%3B%0A%0A%20%20%20%20%20%20%20%20%20%20%20%20%0A%0A%20%20%20%20%20%20%20%20%0A%20%20%20%20%0A%20%20%20%20%20%20%20%20%20%20%20%20var%20tile_layer_c8636d9206774549bd404517f80ab924%20%3D%20L.tileLayer%28%0A%20%20%20%20%20%20%20%20%20%20%20%20%20%20%20%20%22https%3A//%7Bs%7D.tile.openstreetmap.org/%7Bz%7D/%7Bx%7D/%7By%7D.png%22%2C%0A%20%20%20%20%20%20%20%20%20%20%20%20%20%20%20%20%7B%22attribution%22%3A%20%22Data%20by%20%5Cu0026copy%3B%20%5Cu003ca%20href%3D%5C%22http%3A//openstreetmap.org%5C%22%5Cu003eOpenStreetMap%5Cu003c/a%5Cu003e%2C%20under%20%5Cu003ca%20href%3D%5C%22http%3A//www.openstreetmap.org/copyright%5C%22%5Cu003eODbL%5Cu003c/a%5Cu003e.%22%2C%20%22detectRetina%22%3A%20false%2C%20%22maxNativeZoom%22%3A%2018%2C%20%22maxZoom%22%3A%2018%2C%20%22minZoom%22%3A%200%2C%20%22noWrap%22%3A%20false%2C%20%22opacity%22%3A%201%2C%20%22subdomains%22%3A%20%22abc%22%2C%20%22tms%22%3A%20false%7D%0A%20%20%20%20%20%20%20%20%20%20%20%20%29.addTo%28map_ba1aa53a6cf543f6b25858623a69fe92%29%3B%0A%20%20%20%20%20%20%20%20%0A%20%20%20%20%0A%0A%20%20%20%20%20%20%20%20function%20geo_json_fbcbea74593f46628e4cbbd6a0bf0240_onEachFeature%28feature%2C%20layer%29%20%7B%0A%20%20%20%20%20%20%20%20%20%20%20%20layer.on%28%7B%0A%20%20%20%20%20%20%20%20%20%20%20%20%7D%29%3B%0A%20%20%20%20%20%20%20%20%7D%3B%0A%20%20%20%20%20%20%20%20var%20geo_json_fbcbea74593f46628e4cbbd6a0bf0240%20%3D%20L.geoJson%28null%2C%20%7B%0A%20%20%20%20%20%20%20%20%20%20%20%20%20%20%20%20onEachFeature%3A%20geo_json_fbcbea74593f46628e4cbbd6a0bf0240_onEachFeature%2C%0A%20%20%20%20%20%20%20%20%20%20%20%20%0A%20%20%20%20%20%20%20%20%7D%29%3B%0A%0A%20%20%20%20%20%20%20%20function%20geo_json_fbcbea74593f46628e4cbbd6a0bf0240_add%20%28data%29%20%7B%0A%20%20%20%20%20%20%20%20%20%20%20%20geo_json_fbcbea74593f46628e4cbbd6a0bf0240%0A%20%20%20%20%20%20%20%20%20%20%20%20%20%20%20%20.addData%28data%29%0A%20%20%20%20%20%20%20%20%20%20%20%20%20%20%20%20.addTo%28map_ba1aa53a6cf543f6b25858623a69fe92%29%3B%0A%20%20%20%20%20%20%20%20%7D%0A%20%20%20%20%20%20%20%20%20%20%20%20geo_json_fbcbea74593f46628e4cbbd6a0bf0240_add%28%7B%22bbox%22%3A%20%5B-93.265%2C%2044.9537%2C%20-93.0896%2C%2044.9778%5D%2C%20%22features%22%3A%20%5B%7B%22bbox%22%3A%20%5B-93.265%2C%2044.9778%2C%20-93.265%2C%2044.9778%5D%2C%20%22geometry%22%3A%20%7B%22coordinates%22%3A%20%5B-93.265%2C%2044.9778%5D%2C%20%22type%22%3A%20%22Point%22%7D%2C%20%22id%22%3A%20%220%22%2C%20%22properties%22%3A%20%7B%22Beds%22%3A%20300%2C%20%22Name%22%3A%20%22General%20Hospital%22%7D%2C%20%22type%22%3A%20%22Feature%22%7D%2C%20%7B%22bbox%22%3A%20%5B-93.0896%2C%2044.9537%2C%20-93.0896%2C%2044.9537%5D%2C%20%22geometry%22%3A%20%7B%22coordinates%22%3A%20%5B-93.0896%2C%2044.9537%5D%2C%20%22type%22%3A%20%22Point%22%7D%2C%20%22id%22%3A%20%221%22%2C%20%22properties%22%3A%20%7B%22Beds%22%3A%20150%2C%20%22Name%22%3A%20%22Community%20Hospital%22%7D%2C%20%22type%22%3A%20%22Feature%22%7D%5D%2C%20%22type%22%3A%20%22FeatureCollection%22%7D%29%3B%0A%0A%20%20%20%20%20%20%20%20%0A%3C/script%3E onload=\"this.contentDocument.open();this.contentDocument.write(    decodeURIComponent(this.getAttribute('data-html')));this.contentDocument.close();\" allowfullscreen webkitallowfullscreen mozallowfullscreen></iframe></div></div>"
      ],
      "text/plain": [
       "<folium.folium.Map at 0x7f4a80363940>"
      ]
     },
     "metadata": {},
     "output_type": "display_data"
    }
   ],
   "source": [
    "def print_welcome():    \n",
    "    print(\"Welcome to my GIS MVP titled HealthAccessGIS\")\n",
    "    print(\"This GIS MVP is authored by Swetabh Patel\")\n",
    "    print(\"\\n\")\n",
    "\n",
    "def main():\n",
    "    print_welcome()\n",
    "    \n",
    "    raster1 = raster_dropdown.value\n",
    "    vector1 = vector_dropdown.value\n",
    "    \n",
    "    print(\"Raster file selected:\", raster1)\n",
    "    print(\"Vector file selected:\", vector1)\n",
    "    \n",
    "    # Example global average calculation\n",
    "    avg = global_average(raster1)\n",
    "    print(f\"Global average raster value: {avg}\")\n",
    "\n",
    "    # Display raster\n",
    "    with rasterio.open(raster1) as src:\n",
    "        show(src)\n",
    "\n",
    "    # Display vector on map\n",
    "    gdf = gpd.read_file(vector1)\n",
    "    center = [gdf.geometry.centroid.y.mean(), gdf.geometry.centroid.x.mean()]\n",
    "    m = folium.Map(location=center, zoom_start=12)\n",
    "    folium.GeoJson(gdf).add_to(m)\n",
    "    display(m)\n",
    "\n",
    "main()\n"
   ]
  },
  {
   "cell_type": "markdown",
   "metadata": {
    "id": "F-FThgLj1GDW"
   },
   "source": [
    "## 2.5. Rationale\n",
    "Why is this an MVP for a GIS?\n",
    "\n",
    "Insert your 2-3 sentence answer here"
   ]
  },
  {
   "cell_type": "code",
   "execution_count": null,
   "metadata": {},
   "outputs": [],
   "source": [
    "This MVP exemplifies a GIS application by integrating raster and vector data to analyze and visualize healthcare accessibility. It provides essential functionalities such as data reading, processing, and interactive mapping, serving as a foundational tool for identifying and addressing disparities in healthcare access within urban areas.​"
   ]
  }
 ],
 "metadata": {
  "colab": {
   "provenance": []
  },
  "kernelspec": {
   "display_name": "Python 3 (ipykernel)",
   "language": "python",
   "name": "python3"
  },
  "language_info": {
   "codemirror_mode": {
    "name": "ipython",
    "version": 3
   },
   "file_extension": ".py",
   "mimetype": "text/x-python",
   "name": "python",
   "nbconvert_exporter": "python",
   "pygments_lexer": "ipython3",
   "version": "3.9.7"
  }
 },
 "nbformat": 4,
 "nbformat_minor": 4
}
