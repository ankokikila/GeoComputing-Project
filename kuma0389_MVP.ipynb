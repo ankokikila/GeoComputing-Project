{
 "cells": [
  {
   "cell_type": "markdown",
   "metadata": {},
   "source": [
    "# Title of Your MVP- Geocomputing Data Processor MVP\n",
    " * **Name**: Ankila Kumari\n",
    " * **Email**: kuma0389@umn.edu\n",
    " * **Who you helped**: List anyone who you helped\n",
    " * **Who helped you**: Google\n",
    " * **AI**: Identify how AI was used during this assignment (if any).\n",
    "\n"
   ]
  },
  {
   "cell_type": "markdown",
   "metadata": {},
   "source": [
    "### Description\n",
    "\n",
    "The \"Geocomputing Data Processor MVP\" is a Python based Simple Information System designed to manage and process numerical data efficiently. It offers functionalities for data entry, basic arithmetic operations, statistical analysis, data retrieval, and error handling. This tool serves as a foundational platform for geocomputing applications, enabling users to perform essential data management and processing tasks."
   ]
  },
  {
   "cell_type": "markdown",
   "metadata": {},
   "source": [
    "--------- "
   ]
  },
  {
   "cell_type": "markdown",
   "metadata": {},
   "source": [
    "## Setup\n",
    "\n",
    "### Import modules\n",
    "\n",
    "In the code cell below, you will write all your import statements for the packages needed for your project.\n"
   ]
  },
  {
   "cell_type": "code",
   "execution_count": 1,
   "metadata": {},
   "outputs": [],
   "source": [
    "# Import Packages \n",
    "import math # In case you want to use the math package."
   ]
  },
  {
   "cell_type": "markdown",
   "metadata": {},
   "source": [
    "### Functions\n",
    "Here you will define all the functions you will need in your MVP."
   ]
  },
  {
   "cell_type": "code",
   "execution_count": 15,
   "metadata": {},
   "outputs": [],
   "source": [
    "numerical_data = []\n",
    "def add_number(number):\n",
    "    if isinstance(number,(int, float)):\n",
    "        numerical_data.append(number)\n",
    "    else:\n",
    "        print(\"Error: only numerical value accepted.\")\n",
    "def display_data():\n",
    "    print(\"current numerical data:\", numerical_data)"
   ]
  },
  {
   "cell_type": "code",
   "execution_count": 4,
   "metadata": {},
   "outputs": [],
   "source": [
    "def add(a,b):\n",
    "    return a+b\n",
    "def subtract(a,b):\n",
    "    return a-b\n",
    "def multiply(a,b):\n",
    "    return a*b\n",
    "def divide(a,b):\n",
    "    if b == 0:\n",
    "        return \"error:division by 0 is not allowed.\"\n",
    "    return a/b\n",
    "def summation():\n",
    "    return sum(numerical_data)\n",
    "def minimum():\n",
    "    return min(numerical_data)\n",
    "def maximum():\n",
    "    return max(numerical_data)"
   ]
  },
  {
   "cell_type": "code",
   "execution_count": 20,
   "metadata": {},
   "outputs": [],
   "source": [
    "def mean():\n",
    "    if numerical_data:\n",
    "        return sum(numerical_data)/ len(numerical_data)\n",
    "    else:\n",
    "        return \"error : no data present to calculate mean\""
   ]
  },
  {
   "cell_type": "code",
   "execution_count": 21,
   "metadata": {},
   "outputs": [],
   "source": [
    "def display_data():\n",
    "    if numerical_data:\n",
    "        print(\"current Data:\", numerical_data)\n",
    "    else:\n",
    "        print(\"no data available\")"
   ]
  },
  {
   "cell_type": "code",
   "execution_count": 22,
   "metadata": {},
   "outputs": [],
   "source": [
    "def validate_number_input(input_value):\n",
    "    try:\n",
    "        return float(input_value)\n",
    "    except ValueError:\n",
    "        print(\"invalid input: please enter a numeric value.\")\n",
    "        return None"
   ]
  },
  {
   "cell_type": "markdown",
   "metadata": {},
   "source": [
    "## Execution \n",
    "\n",
    "The code cell(s) below are meant for your exection of your project objective (serving as your MVP). Remember, it should be simple."
   ]
  },
  {
   "cell_type": "code",
   "execution_count": 23,
   "metadata": {},
   "outputs": [
    {
     "name": "stdout",
     "output_type": "stream",
     "text": [
      "Error: only numerical values are accepted.\n",
      "current Data: [16, 25.7, 16, 25.7]\n",
      "addition (16+5): 21\n",
      "subtraction (16-5): 11\n",
      "multiplication (16*5): 80\n",
      "division (16/5): 3.2\n",
      "division (16/0): error:division by 0 is not allowed.\n",
      "sum of data: 83.4\n",
      "minimum of data: 16\n",
      "maximum of data: 25.7\n",
      "mean of data: 20.85\n"
     ]
    }
   ],
   "source": [
    "\n",
    "add_number(16)\n",
    "add_number(25.7)\n",
    "add_number('a')\n",
    "\n",
    "display_data()\n",
    "\n",
    "print(\"addition (16+5):\", add(16,5))\n",
    "print(\"subtraction (16-5):\", subtract(16,5))\n",
    "print(\"multiplication (16*5):\", multiply(16,5))\n",
    "print(\"division (16/5):\", divide(16,5))\n",
    "print(\"division (16/0):\", divide(16,0))\n",
    "\n",
    "print(\"sum of data:\", summation())\n",
    "print(\"minimum of data:\", minimum())\n",
    "print(\"maximum of data:\", maximum())\n",
    "print(\"mean of data:\", mean())"
   ]
  },
  {
   "cell_type": "code",
   "execution_count": null,
   "metadata": {},
   "outputs": [],
   "source": []
  },
  {
   "cell_type": "markdown",
   "metadata": {},
   "source": [
    "## Rationale\n",
    "Why is this an MVP for your project?"
   ]
  },
  {
   "cell_type": "markdown",
   "metadata": {},
   "source": [
    "This MVP serves as a foundational tool for geocomputing applications by providing essential data management and processing capabilities. It allows users to input, store, and manipulate numerical data, perform basic arithmetic and statistical analyses, and ensures robust error handling. By establishing these core functionalities, the system lays the groundwork for more advanced geospatial data processing tasks, facilitating efficient and accurate geocomputing workflows."
   ]
  }
 ],
 "metadata": {
  "kernelspec": {
   "display_name": "Python 3 (ipykernel)",
   "language": "python",
   "name": "python3"
  },
  "language_info": {
   "codemirror_mode": {
    "name": "ipython",
    "version": 3
   },
   "file_extension": ".py",
   "mimetype": "text/x-python",
   "name": "python",
   "nbconvert_exporter": "python",
   "pygments_lexer": "ipython3",
   "version": "3.9.7"
  }
 },
 "nbformat": 4,
 "nbformat_minor": 4
}
