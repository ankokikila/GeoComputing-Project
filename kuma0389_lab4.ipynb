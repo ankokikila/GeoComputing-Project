{
 "cells": [
  {
   "cell_type": "markdown",
   "metadata": {},
   "source": [
    "# Principles of Geocomputing: Lab 4 (4 points)"
   ]
  },
  {
   "cell_type": "markdown",
   "metadata": {},
   "source": [
    "This fourth lab continues building on the geospatial aspects of geospatial computing. We begin to use more geospatial modules to provide more functionality and features to solve problems."
   ]
  },
  {
   "cell_type": "markdown",
   "metadata": {},
   "source": [
    "## 0. Submission Preparation\n",
    "\n",
    "**Please read these steps carefully, they have been updated based on feedback.**\n",
    "\n",
    "Before submitting this lab in Canvas:\n",
    " 1. Make sure that you executed all code cells, so we see the results of your code\n",
    " 2. Delete this cell (0. Submission preparation)\n",
    " 3. Save the Notebook (File -> Save Notebook)\n",
    " 4. Download the Notebook, as a .ipynb file (File -> Download)\n",
    " 5. Save this as a PDF file (File -> Save and Export Notebook as... -> PDF) \n",
    " 5. Rename the notebook **and the PDF** file using the lab file naming convention below.\n",
    " 6. Upload the renamed notebook file and the PDF file to Canvas.\n",
    "\n",
    "Lab file naming convention for your Notebook before uploading to Canvas\n",
    "* __Standard__:&nbsp;&nbsp;&nbsp; <tt>&lt;InternetID&gt;_lab&lt;lab#&gt;.ipynb</tt>\n",
    "* __Example__:&nbsp;&nbsp;&nbsp; <tt>thork015_lab1.ipynb</tt>\n",
    "\n",
    "Lab file naming convention for your PDF before uploading to Canvas\n",
    "* __Standard__:&nbsp;&nbsp;&nbsp; <tt>&lt;InternetID&gt;_lab&lt;lab#&gt;.pdf</tt>\n",
    "* __Example__:&nbsp;&nbsp;&nbsp; <tt>thork015_lab1.pdf</tt>\n",
    "\n",
    "The first section of each lab assignment should contain your name, Internet ID, and hours spent, declared using the variables below (<tt>**hours_spent**</tt> should be an <tt>**int**</tt> or a <tt>**float**</tt>, not a string). You may be asked to make use of these variables within the lab, so be careful not to overwrite their values further down.\n",
    "\n",
    "For the first 3 variables below, replace the value <tt>None</tt> with an appropriate value.\n",
    "  * Your name (*your_name*) should be a String\n",
    "  * Your internet id (*your_intid*) should be a String\n",
    "  * The number of hours spent on the lab should be an Integer or a Float. Let's say you spend 90 minutes on the lab, then feel free to say 1.5 to indicate 1 hour and 30 minutes. This helps us track how much time each student is spending on each lab so we can make adjustments for future labs or potentially review key concepts.\n",
    "\n",
    "\n",
    "In the final three variables (*who_helped_you*, *who_you_helped*, and *genAI_helped_me*) you must indicate who/what helped you on this lab assignment. First, any student who helped you and which problem(s) they helped you with (*who_helped_you*). You must also indicate any student who you helped and which problems you helped them with (*who_you_helped*). This helps us avoid any problems of academic dishonesty by being honest and recognizing the hard work of our peers who are willing to help us all out. It is win-win! \n",
    "\n",
    "Lastly, what percentage of the assignment was written/completed with the help of generative AI (e.g., ChatGPT, Co-Pilot, etc)? Again, you must give credit where credit is due so if you used generative AI or other technologies to complete the assignment. This does not affect your grade, we are using this to understand where AI has been used in the assignment and so that you do not cross any lines with academic dishonesty, because you are acknowledging that generative AI and related technologies helped you with your work.\n",
    "\n",
    "**Reminder** Run the code cell below by clicking on the Cell and then click on the \"Run Cell\" button above, which looks like a Play button.\n"
   ]
  },
  {
   "cell_type": "markdown",
   "metadata": {},
   "source": [
    "## 1. Lab information"
   ]
  },
  {
   "cell_type": "code",
   "execution_count": null,
   "metadata": {},
   "outputs": [],
   "source": [
    "your_name = \"Ankila Kumari\"\n",
    "your_intid = \"kuma0389\"\n",
    "hours_spent = 2\n",
    "\n",
    "who_helped_you = \"Used GGE for Co-ordinates and used google because I was getting this error in 2D \"File \"/tmp/ipykernel_165/3623463105.py\", line 28\n",
    "    icon=folium.Icon(color='blue', icon='info-sign')\n",
    "    ^\n",
    "IndentationError: unexpected indent\"\"\n",
    "who_you_helped = \", used google for this (e.g., focalmean, aspect, hillshade, etc.)\"\n",
    "genAI_helped_me = \"%\""
   ]
  },
  {
   "cell_type": "markdown",
   "metadata": {},
   "source": [
    "## 2. Basic Warm-up"
   ]
  },
  {
   "cell_type": "markdown",
   "metadata": {},
   "source": [
    "### 2a. Make a map\n",
    "\n",
    "In the code cell below, make a Folium map that is centered on Blegen Hall, West Bank, University of Minnesota. Set the zoom in the map so the outline of the building is clearly visible."
   ]
  },
  {
   "cell_type": "code",
   "execution_count": 56,
   "metadata": {
    "tags": []
   },
   "outputs": [
    {
     "data": {
      "text/html": [
       "<div style=\"width:100%;\"><div style=\"position:relative;width:100%;height:0;padding-bottom:60%;\"><span style=\"color:#565656\">Make this Notebook Trusted to load map: File -> Trust Notebook</span><iframe src=\"about:blank\" style=\"position:absolute;width:100%;height:100%;left:0;top:0;border:none !important;\" data-html=%3C%21DOCTYPE%20html%3E%0A%3Chead%3E%20%20%20%20%0A%20%20%20%20%3Cmeta%20http-equiv%3D%22content-type%22%20content%3D%22text/html%3B%20charset%3DUTF-8%22%20/%3E%0A%20%20%20%20%0A%20%20%20%20%20%20%20%20%3Cscript%3E%0A%20%20%20%20%20%20%20%20%20%20%20%20L_NO_TOUCH%20%3D%20false%3B%0A%20%20%20%20%20%20%20%20%20%20%20%20L_DISABLE_3D%20%3D%20false%3B%0A%20%20%20%20%20%20%20%20%3C/script%3E%0A%20%20%20%20%0A%20%20%20%20%3Cstyle%3Ehtml%2C%20body%20%7Bwidth%3A%20100%25%3Bheight%3A%20100%25%3Bmargin%3A%200%3Bpadding%3A%200%3B%7D%3C/style%3E%0A%20%20%20%20%3Cstyle%3E%23map%20%7Bposition%3Aabsolute%3Btop%3A0%3Bbottom%3A0%3Bright%3A0%3Bleft%3A0%3B%7D%3C/style%3E%0A%20%20%20%20%3Cscript%20src%3D%22https%3A//cdn.jsdelivr.net/npm/leaflet%401.6.0/dist/leaflet.js%22%3E%3C/script%3E%0A%20%20%20%20%3Cscript%20src%3D%22https%3A//code.jquery.com/jquery-1.12.4.min.js%22%3E%3C/script%3E%0A%20%20%20%20%3Cscript%20src%3D%22https%3A//maxcdn.bootstrapcdn.com/bootstrap/3.2.0/js/bootstrap.min.js%22%3E%3C/script%3E%0A%20%20%20%20%3Cscript%20src%3D%22https%3A//cdnjs.cloudflare.com/ajax/libs/Leaflet.awesome-markers/2.0.2/leaflet.awesome-markers.js%22%3E%3C/script%3E%0A%20%20%20%20%3Clink%20rel%3D%22stylesheet%22%20href%3D%22https%3A//cdn.jsdelivr.net/npm/leaflet%401.6.0/dist/leaflet.css%22/%3E%0A%20%20%20%20%3Clink%20rel%3D%22stylesheet%22%20href%3D%22https%3A//maxcdn.bootstrapcdn.com/bootstrap/3.2.0/css/bootstrap.min.css%22/%3E%0A%20%20%20%20%3Clink%20rel%3D%22stylesheet%22%20href%3D%22https%3A//maxcdn.bootstrapcdn.com/bootstrap/3.2.0/css/bootstrap-theme.min.css%22/%3E%0A%20%20%20%20%3Clink%20rel%3D%22stylesheet%22%20href%3D%22https%3A//maxcdn.bootstrapcdn.com/font-awesome/4.6.3/css/font-awesome.min.css%22/%3E%0A%20%20%20%20%3Clink%20rel%3D%22stylesheet%22%20href%3D%22https%3A//cdnjs.cloudflare.com/ajax/libs/Leaflet.awesome-markers/2.0.2/leaflet.awesome-markers.css%22/%3E%0A%20%20%20%20%3Clink%20rel%3D%22stylesheet%22%20href%3D%22https%3A//cdn.jsdelivr.net/gh/python-visualization/folium/folium/templates/leaflet.awesome.rotate.min.css%22/%3E%0A%20%20%20%20%0A%20%20%20%20%20%20%20%20%20%20%20%20%3Cmeta%20name%3D%22viewport%22%20content%3D%22width%3Ddevice-width%2C%0A%20%20%20%20%20%20%20%20%20%20%20%20%20%20%20%20initial-scale%3D1.0%2C%20maximum-scale%3D1.0%2C%20user-scalable%3Dno%22%20/%3E%0A%20%20%20%20%20%20%20%20%20%20%20%20%3Cstyle%3E%0A%20%20%20%20%20%20%20%20%20%20%20%20%20%20%20%20%23map_38dadee0e7f74d5badcb5d3566f8acf4%20%7B%0A%20%20%20%20%20%20%20%20%20%20%20%20%20%20%20%20%20%20%20%20position%3A%20relative%3B%0A%20%20%20%20%20%20%20%20%20%20%20%20%20%20%20%20%20%20%20%20width%3A%20100.0%25%3B%0A%20%20%20%20%20%20%20%20%20%20%20%20%20%20%20%20%20%20%20%20height%3A%20100.0%25%3B%0A%20%20%20%20%20%20%20%20%20%20%20%20%20%20%20%20%20%20%20%20left%3A%200.0%25%3B%0A%20%20%20%20%20%20%20%20%20%20%20%20%20%20%20%20%20%20%20%20top%3A%200.0%25%3B%0A%20%20%20%20%20%20%20%20%20%20%20%20%20%20%20%20%7D%0A%20%20%20%20%20%20%20%20%20%20%20%20%3C/style%3E%0A%20%20%20%20%20%20%20%20%0A%3C/head%3E%0A%3Cbody%3E%20%20%20%20%0A%20%20%20%20%0A%20%20%20%20%20%20%20%20%20%20%20%20%3Cdiv%20class%3D%22folium-map%22%20id%3D%22map_38dadee0e7f74d5badcb5d3566f8acf4%22%20%3E%3C/div%3E%0A%20%20%20%20%20%20%20%20%0A%3C/body%3E%0A%3Cscript%3E%20%20%20%20%0A%20%20%20%20%0A%20%20%20%20%20%20%20%20%20%20%20%20var%20map_38dadee0e7f74d5badcb5d3566f8acf4%20%3D%20L.map%28%0A%20%20%20%20%20%20%20%20%20%20%20%20%20%20%20%20%22map_38dadee0e7f74d5badcb5d3566f8acf4%22%2C%0A%20%20%20%20%20%20%20%20%20%20%20%20%20%20%20%20%7B%0A%20%20%20%20%20%20%20%20%20%20%20%20%20%20%20%20%20%20%20%20center%3A%20%5B44.9717%2C%20-93.2434%5D%2C%0A%20%20%20%20%20%20%20%20%20%20%20%20%20%20%20%20%20%20%20%20crs%3A%20L.CRS.EPSG3857%2C%0A%20%20%20%20%20%20%20%20%20%20%20%20%20%20%20%20%20%20%20%20zoom%3A%2077%2C%0A%20%20%20%20%20%20%20%20%20%20%20%20%20%20%20%20%20%20%20%20zoomControl%3A%20true%2C%0A%20%20%20%20%20%20%20%20%20%20%20%20%20%20%20%20%20%20%20%20preferCanvas%3A%20false%2C%0A%20%20%20%20%20%20%20%20%20%20%20%20%20%20%20%20%7D%0A%20%20%20%20%20%20%20%20%20%20%20%20%29%3B%0A%0A%20%20%20%20%20%20%20%20%20%20%20%20%0A%0A%20%20%20%20%20%20%20%20%0A%20%20%20%20%0A%20%20%20%20%20%20%20%20%20%20%20%20var%20tile_layer_afee8ae54a524d2bb55cfdadff2493d5%20%3D%20L.tileLayer%28%0A%20%20%20%20%20%20%20%20%20%20%20%20%20%20%20%20%22https%3A//%7Bs%7D.tile.openstreetmap.org/%7Bz%7D/%7Bx%7D/%7By%7D.png%22%2C%0A%20%20%20%20%20%20%20%20%20%20%20%20%20%20%20%20%7B%22attribution%22%3A%20%22Data%20by%20%5Cu0026copy%3B%20%5Cu003ca%20href%3D%5C%22http%3A//openstreetmap.org%5C%22%5Cu003eOpenStreetMap%5Cu003c/a%5Cu003e%2C%20under%20%5Cu003ca%20href%3D%5C%22http%3A//www.openstreetmap.org/copyright%5C%22%5Cu003eODbL%5Cu003c/a%5Cu003e.%22%2C%20%22detectRetina%22%3A%20false%2C%20%22maxNativeZoom%22%3A%2018%2C%20%22maxZoom%22%3A%2018%2C%20%22minZoom%22%3A%200%2C%20%22noWrap%22%3A%20false%2C%20%22opacity%22%3A%201%2C%20%22subdomains%22%3A%20%22abc%22%2C%20%22tms%22%3A%20false%7D%0A%20%20%20%20%20%20%20%20%20%20%20%20%29.addTo%28map_38dadee0e7f74d5badcb5d3566f8acf4%29%3B%0A%20%20%20%20%20%20%20%20%0A%3C/script%3E onload=\"this.contentDocument.open();this.contentDocument.write(    decodeURIComponent(this.getAttribute('data-html')));this.contentDocument.close();\" allowfullscreen webkitallowfullscreen mozallowfullscreen></iframe></div></div>"
      ],
      "text/plain": [
       "<folium.folium.Map at 0x7fcc4ab51eb0>"
      ]
     },
     "execution_count": 56,
     "metadata": {},
     "output_type": "execute_result"
    }
   ],
   "source": [
    "import folium\n",
    "\n",
    "latitude = 44.97170\n",
    "longitude = -93.2434\n",
    "\n",
    "map_blegen = folium.Map(location=[latitude, longitude], zoom_start=77)\n",
    "\n",
    "map_blegen\n"
   ]
  },
  {
   "cell_type": "markdown",
   "metadata": {},
   "source": [
    "### 2b. Add a Marker\n",
    "\n",
    "Make a new Folium map that includes a Marker centered on Blegen Hall."
   ]
  },
  {
   "cell_type": "code",
   "execution_count": 65,
   "metadata": {},
   "outputs": [
    {
     "data": {
      "text/html": [
       "<div style=\"width:100%;\"><div style=\"position:relative;width:100%;height:0;padding-bottom:60%;\"><span style=\"color:#565656\">Make this Notebook Trusted to load map: File -> Trust Notebook</span><iframe src=\"about:blank\" style=\"position:absolute;width:100%;height:100%;left:0;top:0;border:none !important;\" data-html=%3C%21DOCTYPE%20html%3E%0A%3Chead%3E%20%20%20%20%0A%20%20%20%20%3Cmeta%20http-equiv%3D%22content-type%22%20content%3D%22text/html%3B%20charset%3DUTF-8%22%20/%3E%0A%20%20%20%20%0A%20%20%20%20%20%20%20%20%3Cscript%3E%0A%20%20%20%20%20%20%20%20%20%20%20%20L_NO_TOUCH%20%3D%20false%3B%0A%20%20%20%20%20%20%20%20%20%20%20%20L_DISABLE_3D%20%3D%20false%3B%0A%20%20%20%20%20%20%20%20%3C/script%3E%0A%20%20%20%20%0A%20%20%20%20%3Cstyle%3Ehtml%2C%20body%20%7Bwidth%3A%20100%25%3Bheight%3A%20100%25%3Bmargin%3A%200%3Bpadding%3A%200%3B%7D%3C/style%3E%0A%20%20%20%20%3Cstyle%3E%23map%20%7Bposition%3Aabsolute%3Btop%3A0%3Bbottom%3A0%3Bright%3A0%3Bleft%3A0%3B%7D%3C/style%3E%0A%20%20%20%20%3Cscript%20src%3D%22https%3A//cdn.jsdelivr.net/npm/leaflet%401.6.0/dist/leaflet.js%22%3E%3C/script%3E%0A%20%20%20%20%3Cscript%20src%3D%22https%3A//code.jquery.com/jquery-1.12.4.min.js%22%3E%3C/script%3E%0A%20%20%20%20%3Cscript%20src%3D%22https%3A//maxcdn.bootstrapcdn.com/bootstrap/3.2.0/js/bootstrap.min.js%22%3E%3C/script%3E%0A%20%20%20%20%3Cscript%20src%3D%22https%3A//cdnjs.cloudflare.com/ajax/libs/Leaflet.awesome-markers/2.0.2/leaflet.awesome-markers.js%22%3E%3C/script%3E%0A%20%20%20%20%3Clink%20rel%3D%22stylesheet%22%20href%3D%22https%3A//cdn.jsdelivr.net/npm/leaflet%401.6.0/dist/leaflet.css%22/%3E%0A%20%20%20%20%3Clink%20rel%3D%22stylesheet%22%20href%3D%22https%3A//maxcdn.bootstrapcdn.com/bootstrap/3.2.0/css/bootstrap.min.css%22/%3E%0A%20%20%20%20%3Clink%20rel%3D%22stylesheet%22%20href%3D%22https%3A//maxcdn.bootstrapcdn.com/bootstrap/3.2.0/css/bootstrap-theme.min.css%22/%3E%0A%20%20%20%20%3Clink%20rel%3D%22stylesheet%22%20href%3D%22https%3A//maxcdn.bootstrapcdn.com/font-awesome/4.6.3/css/font-awesome.min.css%22/%3E%0A%20%20%20%20%3Clink%20rel%3D%22stylesheet%22%20href%3D%22https%3A//cdnjs.cloudflare.com/ajax/libs/Leaflet.awesome-markers/2.0.2/leaflet.awesome-markers.css%22/%3E%0A%20%20%20%20%3Clink%20rel%3D%22stylesheet%22%20href%3D%22https%3A//cdn.jsdelivr.net/gh/python-visualization/folium/folium/templates/leaflet.awesome.rotate.min.css%22/%3E%0A%20%20%20%20%0A%20%20%20%20%20%20%20%20%20%20%20%20%3Cmeta%20name%3D%22viewport%22%20content%3D%22width%3Ddevice-width%2C%0A%20%20%20%20%20%20%20%20%20%20%20%20%20%20%20%20initial-scale%3D1.0%2C%20maximum-scale%3D1.0%2C%20user-scalable%3Dno%22%20/%3E%0A%20%20%20%20%20%20%20%20%20%20%20%20%3Cstyle%3E%0A%20%20%20%20%20%20%20%20%20%20%20%20%20%20%20%20%23map_494f3b520ecc4054a265df5a654bf9ab%20%7B%0A%20%20%20%20%20%20%20%20%20%20%20%20%20%20%20%20%20%20%20%20position%3A%20relative%3B%0A%20%20%20%20%20%20%20%20%20%20%20%20%20%20%20%20%20%20%20%20width%3A%20100.0%25%3B%0A%20%20%20%20%20%20%20%20%20%20%20%20%20%20%20%20%20%20%20%20height%3A%20100.0%25%3B%0A%20%20%20%20%20%20%20%20%20%20%20%20%20%20%20%20%20%20%20%20left%3A%200.0%25%3B%0A%20%20%20%20%20%20%20%20%20%20%20%20%20%20%20%20%20%20%20%20top%3A%200.0%25%3B%0A%20%20%20%20%20%20%20%20%20%20%20%20%20%20%20%20%7D%0A%20%20%20%20%20%20%20%20%20%20%20%20%3C/style%3E%0A%20%20%20%20%20%20%20%20%0A%3C/head%3E%0A%3Cbody%3E%20%20%20%20%0A%20%20%20%20%0A%20%20%20%20%20%20%20%20%20%20%20%20%3Cdiv%20class%3D%22folium-map%22%20id%3D%22map_494f3b520ecc4054a265df5a654bf9ab%22%20%3E%3C/div%3E%0A%20%20%20%20%20%20%20%20%0A%3C/body%3E%0A%3Cscript%3E%20%20%20%20%0A%20%20%20%20%0A%20%20%20%20%20%20%20%20%20%20%20%20var%20map_494f3b520ecc4054a265df5a654bf9ab%20%3D%20L.map%28%0A%20%20%20%20%20%20%20%20%20%20%20%20%20%20%20%20%22map_494f3b520ecc4054a265df5a654bf9ab%22%2C%0A%20%20%20%20%20%20%20%20%20%20%20%20%20%20%20%20%7B%0A%20%20%20%20%20%20%20%20%20%20%20%20%20%20%20%20%20%20%20%20center%3A%20%5B44.9717%2C%20-93.2434%5D%2C%0A%20%20%20%20%20%20%20%20%20%20%20%20%20%20%20%20%20%20%20%20crs%3A%20L.CRS.EPSG3857%2C%0A%20%20%20%20%20%20%20%20%20%20%20%20%20%20%20%20%20%20%20%20zoom%3A%2077%2C%0A%20%20%20%20%20%20%20%20%20%20%20%20%20%20%20%20%20%20%20%20zoomControl%3A%20true%2C%0A%20%20%20%20%20%20%20%20%20%20%20%20%20%20%20%20%20%20%20%20preferCanvas%3A%20false%2C%0A%20%20%20%20%20%20%20%20%20%20%20%20%20%20%20%20%7D%0A%20%20%20%20%20%20%20%20%20%20%20%20%29%3B%0A%0A%20%20%20%20%20%20%20%20%20%20%20%20%0A%0A%20%20%20%20%20%20%20%20%0A%20%20%20%20%0A%20%20%20%20%20%20%20%20%20%20%20%20var%20tile_layer_04a8f51c1eac49eba7931ae6da3ede17%20%3D%20L.tileLayer%28%0A%20%20%20%20%20%20%20%20%20%20%20%20%20%20%20%20%22https%3A//%7Bs%7D.tile.openstreetmap.org/%7Bz%7D/%7Bx%7D/%7By%7D.png%22%2C%0A%20%20%20%20%20%20%20%20%20%20%20%20%20%20%20%20%7B%22attribution%22%3A%20%22Data%20by%20%5Cu0026copy%3B%20%5Cu003ca%20href%3D%5C%22http%3A//openstreetmap.org%5C%22%5Cu003eOpenStreetMap%5Cu003c/a%5Cu003e%2C%20under%20%5Cu003ca%20href%3D%5C%22http%3A//www.openstreetmap.org/copyright%5C%22%5Cu003eODbL%5Cu003c/a%5Cu003e.%22%2C%20%22detectRetina%22%3A%20false%2C%20%22maxNativeZoom%22%3A%2018%2C%20%22maxZoom%22%3A%2018%2C%20%22minZoom%22%3A%200%2C%20%22noWrap%22%3A%20false%2C%20%22opacity%22%3A%201%2C%20%22subdomains%22%3A%20%22abc%22%2C%20%22tms%22%3A%20false%7D%0A%20%20%20%20%20%20%20%20%20%20%20%20%29.addTo%28map_494f3b520ecc4054a265df5a654bf9ab%29%3B%0A%20%20%20%20%20%20%20%20%0A%20%20%20%20%0A%20%20%20%20%20%20%20%20%20%20%20%20var%20marker_c594584fa7494a43a181c5e530de9159%20%3D%20L.marker%28%0A%20%20%20%20%20%20%20%20%20%20%20%20%20%20%20%20%5B44.9717%2C%20-93.2434%5D%2C%0A%20%20%20%20%20%20%20%20%20%20%20%20%20%20%20%20%7B%7D%0A%20%20%20%20%20%20%20%20%20%20%20%20%29.addTo%28map_494f3b520ecc4054a265df5a654bf9ab%29%3B%0A%20%20%20%20%20%20%20%20%0A%20%20%20%20%0A%20%20%20%20%20%20%20%20%20%20%20%20var%20icon_0b626fca699844ca883e2bd9286ef36e%20%3D%20L.AwesomeMarkers.icon%28%0A%20%20%20%20%20%20%20%20%20%20%20%20%20%20%20%20%7B%22extraClasses%22%3A%20%22fa-rotate-0%22%2C%20%22icon%22%3A%20%22info-sign%22%2C%20%22iconColor%22%3A%20%22white%22%2C%20%22markerColor%22%3A%20%22red%22%2C%20%22prefix%22%3A%20%22glyphicon%22%7D%0A%20%20%20%20%20%20%20%20%20%20%20%20%29%3B%0A%20%20%20%20%20%20%20%20%20%20%20%20marker_c594584fa7494a43a181c5e530de9159.setIcon%28icon_0b626fca699844ca883e2bd9286ef36e%29%3B%0A%20%20%20%20%20%20%20%20%0A%20%20%20%20%0A%20%20%20%20%20%20%20%20var%20popup_68d005a26c3042b98132bebf9324fba1%20%3D%20L.popup%28%7B%22maxWidth%22%3A%20%22100%25%22%7D%29%3B%0A%0A%20%20%20%20%20%20%20%20%0A%20%20%20%20%20%20%20%20%20%20%20%20var%20html_350bf4c4880943e79c0b674ad1892e20%20%3D%20%24%28%60%3Cdiv%20id%3D%22html_350bf4c4880943e79c0b674ad1892e20%22%20style%3D%22width%3A%20100.0%25%3B%20height%3A%20100.0%25%3B%22%3EBlegen%20Hall%3C/div%3E%60%29%5B0%5D%3B%0A%20%20%20%20%20%20%20%20%20%20%20%20popup_68d005a26c3042b98132bebf9324fba1.setContent%28html_350bf4c4880943e79c0b674ad1892e20%29%3B%0A%20%20%20%20%20%20%20%20%0A%0A%20%20%20%20%20%20%20%20marker_c594584fa7494a43a181c5e530de9159.bindPopup%28popup_68d005a26c3042b98132bebf9324fba1%29%0A%20%20%20%20%20%20%20%20%3B%0A%0A%20%20%20%20%20%20%20%20%0A%20%20%20%20%0A%3C/script%3E onload=\"this.contentDocument.open();this.contentDocument.write(    decodeURIComponent(this.getAttribute('data-html')));this.contentDocument.close();\" allowfullscreen webkitallowfullscreen mozallowfullscreen></iframe></div></div>"
      ],
      "text/plain": [
       "<folium.folium.Map at 0x7fcc4a8dceb0>"
      ]
     },
     "metadata": {},
     "output_type": "display_data"
    }
   ],
   "source": [
    "import folium\n",
    "from IPython.display import display\n",
    "\n",
    "blegen_hall_coords = [44.97170, -93.2434]\n",
    "\n",
    "map_blegen = folium.Map(location=blegen_hall_coords, zoom_start=77)\n",
    "\n",
    "folium.Marker(\n",
    "    location=blegen_hall_coords,\n",
    "    popup='Blegen Hall',\n",
    "    icon=folium.Icon(color='red', icon='info-sign')\n",
    ").add_to(map_blegen)\n",
    "\n",
    "display(map_blegen)\n"
   ]
  },
  {
   "cell_type": "markdown",
   "metadata": {},
   "source": [
    "## 2c. Add a polygon\n",
    "\n",
    "Make a new Folium map that includes a polygon that outlines the Social Sciences Building (next to Blegen Hall)."
   ]
  },
  {
   "cell_type": "code",
   "execution_count": 58,
   "metadata": {},
   "outputs": [
    {
     "data": {
      "text/html": [
       "<div style=\"width:100%;\"><div style=\"position:relative;width:100%;height:0;padding-bottom:60%;\"><span style=\"color:#565656\">Make this Notebook Trusted to load map: File -> Trust Notebook</span><iframe src=\"about:blank\" style=\"position:absolute;width:100%;height:100%;left:0;top:0;border:none !important;\" data-html=%3C%21DOCTYPE%20html%3E%0A%3Chead%3E%20%20%20%20%0A%20%20%20%20%3Cmeta%20http-equiv%3D%22content-type%22%20content%3D%22text/html%3B%20charset%3DUTF-8%22%20/%3E%0A%20%20%20%20%0A%20%20%20%20%20%20%20%20%3Cscript%3E%0A%20%20%20%20%20%20%20%20%20%20%20%20L_NO_TOUCH%20%3D%20false%3B%0A%20%20%20%20%20%20%20%20%20%20%20%20L_DISABLE_3D%20%3D%20false%3B%0A%20%20%20%20%20%20%20%20%3C/script%3E%0A%20%20%20%20%0A%20%20%20%20%3Cstyle%3Ehtml%2C%20body%20%7Bwidth%3A%20100%25%3Bheight%3A%20100%25%3Bmargin%3A%200%3Bpadding%3A%200%3B%7D%3C/style%3E%0A%20%20%20%20%3Cstyle%3E%23map%20%7Bposition%3Aabsolute%3Btop%3A0%3Bbottom%3A0%3Bright%3A0%3Bleft%3A0%3B%7D%3C/style%3E%0A%20%20%20%20%3Cscript%20src%3D%22https%3A//cdn.jsdelivr.net/npm/leaflet%401.6.0/dist/leaflet.js%22%3E%3C/script%3E%0A%20%20%20%20%3Cscript%20src%3D%22https%3A//code.jquery.com/jquery-1.12.4.min.js%22%3E%3C/script%3E%0A%20%20%20%20%3Cscript%20src%3D%22https%3A//maxcdn.bootstrapcdn.com/bootstrap/3.2.0/js/bootstrap.min.js%22%3E%3C/script%3E%0A%20%20%20%20%3Cscript%20src%3D%22https%3A//cdnjs.cloudflare.com/ajax/libs/Leaflet.awesome-markers/2.0.2/leaflet.awesome-markers.js%22%3E%3C/script%3E%0A%20%20%20%20%3Clink%20rel%3D%22stylesheet%22%20href%3D%22https%3A//cdn.jsdelivr.net/npm/leaflet%401.6.0/dist/leaflet.css%22/%3E%0A%20%20%20%20%3Clink%20rel%3D%22stylesheet%22%20href%3D%22https%3A//maxcdn.bootstrapcdn.com/bootstrap/3.2.0/css/bootstrap.min.css%22/%3E%0A%20%20%20%20%3Clink%20rel%3D%22stylesheet%22%20href%3D%22https%3A//maxcdn.bootstrapcdn.com/bootstrap/3.2.0/css/bootstrap-theme.min.css%22/%3E%0A%20%20%20%20%3Clink%20rel%3D%22stylesheet%22%20href%3D%22https%3A//maxcdn.bootstrapcdn.com/font-awesome/4.6.3/css/font-awesome.min.css%22/%3E%0A%20%20%20%20%3Clink%20rel%3D%22stylesheet%22%20href%3D%22https%3A//cdnjs.cloudflare.com/ajax/libs/Leaflet.awesome-markers/2.0.2/leaflet.awesome-markers.css%22/%3E%0A%20%20%20%20%3Clink%20rel%3D%22stylesheet%22%20href%3D%22https%3A//cdn.jsdelivr.net/gh/python-visualization/folium/folium/templates/leaflet.awesome.rotate.min.css%22/%3E%0A%20%20%20%20%0A%20%20%20%20%20%20%20%20%20%20%20%20%3Cmeta%20name%3D%22viewport%22%20content%3D%22width%3Ddevice-width%2C%0A%20%20%20%20%20%20%20%20%20%20%20%20%20%20%20%20initial-scale%3D1.0%2C%20maximum-scale%3D1.0%2C%20user-scalable%3Dno%22%20/%3E%0A%20%20%20%20%20%20%20%20%20%20%20%20%3Cstyle%3E%0A%20%20%20%20%20%20%20%20%20%20%20%20%20%20%20%20%23map_702b9686b06c4d119bd6f34380266d6e%20%7B%0A%20%20%20%20%20%20%20%20%20%20%20%20%20%20%20%20%20%20%20%20position%3A%20relative%3B%0A%20%20%20%20%20%20%20%20%20%20%20%20%20%20%20%20%20%20%20%20width%3A%20100.0%25%3B%0A%20%20%20%20%20%20%20%20%20%20%20%20%20%20%20%20%20%20%20%20height%3A%20100.0%25%3B%0A%20%20%20%20%20%20%20%20%20%20%20%20%20%20%20%20%20%20%20%20left%3A%200.0%25%3B%0A%20%20%20%20%20%20%20%20%20%20%20%20%20%20%20%20%20%20%20%20top%3A%200.0%25%3B%0A%20%20%20%20%20%20%20%20%20%20%20%20%20%20%20%20%7D%0A%20%20%20%20%20%20%20%20%20%20%20%20%3C/style%3E%0A%20%20%20%20%20%20%20%20%0A%3C/head%3E%0A%3Cbody%3E%20%20%20%20%0A%20%20%20%20%0A%20%20%20%20%20%20%20%20%20%20%20%20%3Cdiv%20class%3D%22folium-map%22%20id%3D%22map_702b9686b06c4d119bd6f34380266d6e%22%20%3E%3C/div%3E%0A%20%20%20%20%20%20%20%20%0A%3C/body%3E%0A%3Cscript%3E%20%20%20%20%0A%20%20%20%20%0A%20%20%20%20%20%20%20%20%20%20%20%20var%20map_702b9686b06c4d119bd6f34380266d6e%20%3D%20L.map%28%0A%20%20%20%20%20%20%20%20%20%20%20%20%20%20%20%20%22map_702b9686b06c4d119bd6f34380266d6e%22%2C%0A%20%20%20%20%20%20%20%20%20%20%20%20%20%20%20%20%7B%0A%20%20%20%20%20%20%20%20%20%20%20%20%20%20%20%20%20%20%20%20center%3A%20%5B44.9717%2C%20-93.2434%5D%2C%0A%20%20%20%20%20%20%20%20%20%20%20%20%20%20%20%20%20%20%20%20crs%3A%20L.CRS.EPSG3857%2C%0A%20%20%20%20%20%20%20%20%20%20%20%20%20%20%20%20%20%20%20%20zoom%3A%2077%2C%0A%20%20%20%20%20%20%20%20%20%20%20%20%20%20%20%20%20%20%20%20zoomControl%3A%20true%2C%0A%20%20%20%20%20%20%20%20%20%20%20%20%20%20%20%20%20%20%20%20preferCanvas%3A%20false%2C%0A%20%20%20%20%20%20%20%20%20%20%20%20%20%20%20%20%7D%0A%20%20%20%20%20%20%20%20%20%20%20%20%29%3B%0A%0A%20%20%20%20%20%20%20%20%20%20%20%20%0A%0A%20%20%20%20%20%20%20%20%0A%20%20%20%20%0A%20%20%20%20%20%20%20%20%20%20%20%20var%20tile_layer_6839832b314b4d5085972554356706be%20%3D%20L.tileLayer%28%0A%20%20%20%20%20%20%20%20%20%20%20%20%20%20%20%20%22https%3A//%7Bs%7D.tile.openstreetmap.org/%7Bz%7D/%7Bx%7D/%7By%7D.png%22%2C%0A%20%20%20%20%20%20%20%20%20%20%20%20%20%20%20%20%7B%22attribution%22%3A%20%22Data%20by%20%5Cu0026copy%3B%20%5Cu003ca%20href%3D%5C%22http%3A//openstreetmap.org%5C%22%5Cu003eOpenStreetMap%5Cu003c/a%5Cu003e%2C%20under%20%5Cu003ca%20href%3D%5C%22http%3A//www.openstreetmap.org/copyright%5C%22%5Cu003eODbL%5Cu003c/a%5Cu003e.%22%2C%20%22detectRetina%22%3A%20false%2C%20%22maxNativeZoom%22%3A%2018%2C%20%22maxZoom%22%3A%2018%2C%20%22minZoom%22%3A%200%2C%20%22noWrap%22%3A%20false%2C%20%22opacity%22%3A%201%2C%20%22subdomains%22%3A%20%22abc%22%2C%20%22tms%22%3A%20false%7D%0A%20%20%20%20%20%20%20%20%20%20%20%20%29.addTo%28map_702b9686b06c4d119bd6f34380266d6e%29%3B%0A%20%20%20%20%20%20%20%20%0A%20%20%20%20%0A%20%20%20%20%20%20%20%20%20%20%20%20var%20polygon_5cba0d7d3510461dbe5648c4ca651096%20%3D%20L.polygon%28%0A%20%20%20%20%20%20%20%20%20%20%20%20%20%20%20%20%5B%5B44.9716%2C%20-93.243%5D%2C%20%5B44.9713%2C%20-93.243%5D%2C%20%5B44.9713%2C%20-93.2425%5D%2C%20%5B44.9716%2C%20-93.2425%5D%2C%20%5B44.9716%2C%20-93.243%5D%5D%2C%0A%20%20%20%20%20%20%20%20%20%20%20%20%20%20%20%20%7B%22bubblingMouseEvents%22%3A%20true%2C%20%22color%22%3A%20%22black%22%2C%20%22dashArray%22%3A%20null%2C%20%22dashOffset%22%3A%20null%2C%20%22fill%22%3A%20true%2C%20%22fillColor%22%3A%20%22red%22%2C%20%22fillOpacity%22%3A%200.5%2C%20%22fillRule%22%3A%20%22evenodd%22%2C%20%22lineCap%22%3A%20%22round%22%2C%20%22lineJoin%22%3A%20%22round%22%2C%20%22noClip%22%3A%20false%2C%20%22opacity%22%3A%201.0%2C%20%22smoothFactor%22%3A%201.0%2C%20%22stroke%22%3A%20true%2C%20%22weight%22%3A%203%7D%0A%20%20%20%20%20%20%20%20%20%20%20%20%29.addTo%28map_702b9686b06c4d119bd6f34380266d6e%29%3B%0A%20%20%20%20%20%20%20%20%0A%20%20%20%20%0A%20%20%20%20%20%20%20%20var%20popup_97987897f8844f71a0e1d140575154c0%20%3D%20L.popup%28%7B%22maxWidth%22%3A%20%22100%25%22%7D%29%3B%0A%0A%20%20%20%20%20%20%20%20%0A%20%20%20%20%20%20%20%20%20%20%20%20var%20html_4690f62a430949f492cfb61b036e0331%20%3D%20%24%28%60%3Cdiv%20id%3D%22html_4690f62a430949f492cfb61b036e0331%22%20style%3D%22width%3A%20100.0%25%3B%20height%3A%20100.0%25%3B%22%3ESocial%20Sciences%20Building%3C/div%3E%60%29%5B0%5D%3B%0A%20%20%20%20%20%20%20%20%20%20%20%20popup_97987897f8844f71a0e1d140575154c0.setContent%28html_4690f62a430949f492cfb61b036e0331%29%3B%0A%20%20%20%20%20%20%20%20%0A%0A%20%20%20%20%20%20%20%20polygon_5cba0d7d3510461dbe5648c4ca651096.bindPopup%28popup_97987897f8844f71a0e1d140575154c0%29%0A%20%20%20%20%20%20%20%20%3B%0A%0A%20%20%20%20%20%20%20%20%0A%20%20%20%20%0A%3C/script%3E onload=\"this.contentDocument.open();this.contentDocument.write(    decodeURIComponent(this.getAttribute('data-html')));this.contentDocument.close();\" allowfullscreen webkitallowfullscreen mozallowfullscreen></iframe></div></div>"
      ],
      "text/plain": [
       "<folium.folium.Map at 0x7fcc4a985850>"
      ]
     },
     "metadata": {},
     "output_type": "display_data"
    }
   ],
   "source": [
    "import folium\n",
    "from IPython.display import display\n",
    "\n",
    "blegen_hall_coords = [44.97170, -93.2434]\n",
    "\n",
    "social_sciences_coords = [\n",
    "    [44.9716, -93.2430],  \n",
    "    [44.9713, -93.2430],  \n",
    "    [44.9713, -93.2425],  \n",
    "    [44.9716, -93.2425],  \n",
    "    [44.9716, -93.2430]   \n",
    "]\n",
    "\n",
    "\n",
    "map_blegen = folium.Map(location=blegen_hall_coords, zoom_start=77)\n",
    "\n",
    "\n",
    "folium.Polygon(\n",
    "    locations=social_sciences_coords,\n",
    "    color='black',  \n",
    "    fill=True,\n",
    "    fill_color='red',  \n",
    "    fill_opacity=0.5,  \n",
    "    popup='Social Sciences Building'\n",
    ").add_to(map_blegen)\n",
    "\n",
    "\n",
    "display(map_blegen)\n"
   ]
  },
  {
   "cell_type": "markdown",
   "metadata": {},
   "source": [
    "##  2d. Combine it all\n",
    "\n",
    "Make a new Folium map that includes both a Marker on Blegen Hall and a polygon outlining the Social Sciences Building"
   ]
  },
  {
   "cell_type": "code",
   "execution_count": 59,
   "metadata": {},
   "outputs": [
    {
     "data": {
      "text/html": [
       "<div style=\"width:100%;\"><div style=\"position:relative;width:100%;height:0;padding-bottom:60%;\"><span style=\"color:#565656\">Make this Notebook Trusted to load map: File -> Trust Notebook</span><iframe src=\"about:blank\" style=\"position:absolute;width:100%;height:100%;left:0;top:0;border:none !important;\" data-html=%3C%21DOCTYPE%20html%3E%0A%3Chead%3E%20%20%20%20%0A%20%20%20%20%3Cmeta%20http-equiv%3D%22content-type%22%20content%3D%22text/html%3B%20charset%3DUTF-8%22%20/%3E%0A%20%20%20%20%0A%20%20%20%20%20%20%20%20%3Cscript%3E%0A%20%20%20%20%20%20%20%20%20%20%20%20L_NO_TOUCH%20%3D%20false%3B%0A%20%20%20%20%20%20%20%20%20%20%20%20L_DISABLE_3D%20%3D%20false%3B%0A%20%20%20%20%20%20%20%20%3C/script%3E%0A%20%20%20%20%0A%20%20%20%20%3Cstyle%3Ehtml%2C%20body%20%7Bwidth%3A%20100%25%3Bheight%3A%20100%25%3Bmargin%3A%200%3Bpadding%3A%200%3B%7D%3C/style%3E%0A%20%20%20%20%3Cstyle%3E%23map%20%7Bposition%3Aabsolute%3Btop%3A0%3Bbottom%3A0%3Bright%3A0%3Bleft%3A0%3B%7D%3C/style%3E%0A%20%20%20%20%3Cscript%20src%3D%22https%3A//cdn.jsdelivr.net/npm/leaflet%401.6.0/dist/leaflet.js%22%3E%3C/script%3E%0A%20%20%20%20%3Cscript%20src%3D%22https%3A//code.jquery.com/jquery-1.12.4.min.js%22%3E%3C/script%3E%0A%20%20%20%20%3Cscript%20src%3D%22https%3A//maxcdn.bootstrapcdn.com/bootstrap/3.2.0/js/bootstrap.min.js%22%3E%3C/script%3E%0A%20%20%20%20%3Cscript%20src%3D%22https%3A//cdnjs.cloudflare.com/ajax/libs/Leaflet.awesome-markers/2.0.2/leaflet.awesome-markers.js%22%3E%3C/script%3E%0A%20%20%20%20%3Clink%20rel%3D%22stylesheet%22%20href%3D%22https%3A//cdn.jsdelivr.net/npm/leaflet%401.6.0/dist/leaflet.css%22/%3E%0A%20%20%20%20%3Clink%20rel%3D%22stylesheet%22%20href%3D%22https%3A//maxcdn.bootstrapcdn.com/bootstrap/3.2.0/css/bootstrap.min.css%22/%3E%0A%20%20%20%20%3Clink%20rel%3D%22stylesheet%22%20href%3D%22https%3A//maxcdn.bootstrapcdn.com/bootstrap/3.2.0/css/bootstrap-theme.min.css%22/%3E%0A%20%20%20%20%3Clink%20rel%3D%22stylesheet%22%20href%3D%22https%3A//maxcdn.bootstrapcdn.com/font-awesome/4.6.3/css/font-awesome.min.css%22/%3E%0A%20%20%20%20%3Clink%20rel%3D%22stylesheet%22%20href%3D%22https%3A//cdnjs.cloudflare.com/ajax/libs/Leaflet.awesome-markers/2.0.2/leaflet.awesome-markers.css%22/%3E%0A%20%20%20%20%3Clink%20rel%3D%22stylesheet%22%20href%3D%22https%3A//cdn.jsdelivr.net/gh/python-visualization/folium/folium/templates/leaflet.awesome.rotate.min.css%22/%3E%0A%20%20%20%20%0A%20%20%20%20%20%20%20%20%20%20%20%20%3Cmeta%20name%3D%22viewport%22%20content%3D%22width%3Ddevice-width%2C%0A%20%20%20%20%20%20%20%20%20%20%20%20%20%20%20%20initial-scale%3D1.0%2C%20maximum-scale%3D1.0%2C%20user-scalable%3Dno%22%20/%3E%0A%20%20%20%20%20%20%20%20%20%20%20%20%3Cstyle%3E%0A%20%20%20%20%20%20%20%20%20%20%20%20%20%20%20%20%23map_e13d597925534fc5a989ec4f4d7ea8be%20%7B%0A%20%20%20%20%20%20%20%20%20%20%20%20%20%20%20%20%20%20%20%20position%3A%20relative%3B%0A%20%20%20%20%20%20%20%20%20%20%20%20%20%20%20%20%20%20%20%20width%3A%20100.0%25%3B%0A%20%20%20%20%20%20%20%20%20%20%20%20%20%20%20%20%20%20%20%20height%3A%20100.0%25%3B%0A%20%20%20%20%20%20%20%20%20%20%20%20%20%20%20%20%20%20%20%20left%3A%200.0%25%3B%0A%20%20%20%20%20%20%20%20%20%20%20%20%20%20%20%20%20%20%20%20top%3A%200.0%25%3B%0A%20%20%20%20%20%20%20%20%20%20%20%20%20%20%20%20%7D%0A%20%20%20%20%20%20%20%20%20%20%20%20%3C/style%3E%0A%20%20%20%20%20%20%20%20%0A%3C/head%3E%0A%3Cbody%3E%20%20%20%20%0A%20%20%20%20%0A%20%20%20%20%20%20%20%20%20%20%20%20%3Cdiv%20class%3D%22folium-map%22%20id%3D%22map_e13d597925534fc5a989ec4f4d7ea8be%22%20%3E%3C/div%3E%0A%20%20%20%20%20%20%20%20%0A%3C/body%3E%0A%3Cscript%3E%20%20%20%20%0A%20%20%20%20%0A%20%20%20%20%20%20%20%20%20%20%20%20var%20map_e13d597925534fc5a989ec4f4d7ea8be%20%3D%20L.map%28%0A%20%20%20%20%20%20%20%20%20%20%20%20%20%20%20%20%22map_e13d597925534fc5a989ec4f4d7ea8be%22%2C%0A%20%20%20%20%20%20%20%20%20%20%20%20%20%20%20%20%7B%0A%20%20%20%20%20%20%20%20%20%20%20%20%20%20%20%20%20%20%20%20center%3A%20%5B44.9717%2C%20-93.2434%5D%2C%0A%20%20%20%20%20%20%20%20%20%20%20%20%20%20%20%20%20%20%20%20crs%3A%20L.CRS.EPSG3857%2C%0A%20%20%20%20%20%20%20%20%20%20%20%20%20%20%20%20%20%20%20%20zoom%3A%2077%2C%0A%20%20%20%20%20%20%20%20%20%20%20%20%20%20%20%20%20%20%20%20zoomControl%3A%20true%2C%0A%20%20%20%20%20%20%20%20%20%20%20%20%20%20%20%20%20%20%20%20preferCanvas%3A%20false%2C%0A%20%20%20%20%20%20%20%20%20%20%20%20%20%20%20%20%7D%0A%20%20%20%20%20%20%20%20%20%20%20%20%29%3B%0A%0A%20%20%20%20%20%20%20%20%20%20%20%20%0A%0A%20%20%20%20%20%20%20%20%0A%20%20%20%20%0A%20%20%20%20%20%20%20%20%20%20%20%20var%20tile_layer_b70014f4d59d42e3bcb888523a421b62%20%3D%20L.tileLayer%28%0A%20%20%20%20%20%20%20%20%20%20%20%20%20%20%20%20%22https%3A//%7Bs%7D.tile.openstreetmap.org/%7Bz%7D/%7Bx%7D/%7By%7D.png%22%2C%0A%20%20%20%20%20%20%20%20%20%20%20%20%20%20%20%20%7B%22attribution%22%3A%20%22Data%20by%20%5Cu0026copy%3B%20%5Cu003ca%20href%3D%5C%22http%3A//openstreetmap.org%5C%22%5Cu003eOpenStreetMap%5Cu003c/a%5Cu003e%2C%20under%20%5Cu003ca%20href%3D%5C%22http%3A//www.openstreetmap.org/copyright%5C%22%5Cu003eODbL%5Cu003c/a%5Cu003e.%22%2C%20%22detectRetina%22%3A%20false%2C%20%22maxNativeZoom%22%3A%2018%2C%20%22maxZoom%22%3A%2018%2C%20%22minZoom%22%3A%200%2C%20%22noWrap%22%3A%20false%2C%20%22opacity%22%3A%201%2C%20%22subdomains%22%3A%20%22abc%22%2C%20%22tms%22%3A%20false%7D%0A%20%20%20%20%20%20%20%20%20%20%20%20%29.addTo%28map_e13d597925534fc5a989ec4f4d7ea8be%29%3B%0A%20%20%20%20%20%20%20%20%0A%20%20%20%20%0A%20%20%20%20%20%20%20%20%20%20%20%20var%20marker_59bbc6b4cf9d4505b40c3a8661105ba7%20%3D%20L.marker%28%0A%20%20%20%20%20%20%20%20%20%20%20%20%20%20%20%20%5B44.9717%2C%20-93.2434%5D%2C%0A%20%20%20%20%20%20%20%20%20%20%20%20%20%20%20%20%7B%7D%0A%20%20%20%20%20%20%20%20%20%20%20%20%29.addTo%28map_e13d597925534fc5a989ec4f4d7ea8be%29%3B%0A%20%20%20%20%20%20%20%20%0A%20%20%20%20%0A%20%20%20%20%20%20%20%20%20%20%20%20var%20icon_37fd5bb8c91d41bfb02510c9b1b070d1%20%3D%20L.AwesomeMarkers.icon%28%0A%20%20%20%20%20%20%20%20%20%20%20%20%20%20%20%20%7B%22extraClasses%22%3A%20%22fa-rotate-0%22%2C%20%22icon%22%3A%20%22info-sign%22%2C%20%22iconColor%22%3A%20%22white%22%2C%20%22markerColor%22%3A%20%22blue%22%2C%20%22prefix%22%3A%20%22glyphicon%22%7D%0A%20%20%20%20%20%20%20%20%20%20%20%20%29%3B%0A%20%20%20%20%20%20%20%20%20%20%20%20marker_59bbc6b4cf9d4505b40c3a8661105ba7.setIcon%28icon_37fd5bb8c91d41bfb02510c9b1b070d1%29%3B%0A%20%20%20%20%20%20%20%20%0A%20%20%20%20%0A%20%20%20%20%20%20%20%20var%20popup_80bc42ead2ad4000b81c9dd9f1434e7e%20%3D%20L.popup%28%7B%22maxWidth%22%3A%20%22100%25%22%7D%29%3B%0A%0A%20%20%20%20%20%20%20%20%0A%20%20%20%20%20%20%20%20%20%20%20%20var%20html_6f16f4c77dc245908f40e0b68b058d69%20%3D%20%24%28%60%3Cdiv%20id%3D%22html_6f16f4c77dc245908f40e0b68b058d69%22%20style%3D%22width%3A%20100.0%25%3B%20height%3A%20100.0%25%3B%22%3EBlegen%20Hall%3C/div%3E%60%29%5B0%5D%3B%0A%20%20%20%20%20%20%20%20%20%20%20%20popup_80bc42ead2ad4000b81c9dd9f1434e7e.setContent%28html_6f16f4c77dc245908f40e0b68b058d69%29%3B%0A%20%20%20%20%20%20%20%20%0A%0A%20%20%20%20%20%20%20%20marker_59bbc6b4cf9d4505b40c3a8661105ba7.bindPopup%28popup_80bc42ead2ad4000b81c9dd9f1434e7e%29%0A%20%20%20%20%20%20%20%20%3B%0A%0A%20%20%20%20%20%20%20%20%0A%20%20%20%20%0A%20%20%20%20%0A%20%20%20%20%20%20%20%20%20%20%20%20var%20polygon_e4b23c6e7e1d408d879a998d95fe8f74%20%3D%20L.polygon%28%0A%20%20%20%20%20%20%20%20%20%20%20%20%20%20%20%20%5B%5B44.9716%2C%20-93.243%5D%2C%20%5B44.9713%2C%20-93.243%5D%2C%20%5B44.9713%2C%20-93.2425%5D%2C%20%5B44.9716%2C%20-93.2425%5D%2C%20%5B44.9716%2C%20-93.243%5D%5D%2C%0A%20%20%20%20%20%20%20%20%20%20%20%20%20%20%20%20%7B%22bubblingMouseEvents%22%3A%20true%2C%20%22color%22%3A%20%22black%22%2C%20%22dashArray%22%3A%20null%2C%20%22dashOffset%22%3A%20null%2C%20%22fill%22%3A%20true%2C%20%22fillColor%22%3A%20%22red%22%2C%20%22fillOpacity%22%3A%200.5%2C%20%22fillRule%22%3A%20%22evenodd%22%2C%20%22lineCap%22%3A%20%22round%22%2C%20%22lineJoin%22%3A%20%22round%22%2C%20%22noClip%22%3A%20false%2C%20%22opacity%22%3A%201.0%2C%20%22smoothFactor%22%3A%201.0%2C%20%22stroke%22%3A%20true%2C%20%22weight%22%3A%203%7D%0A%20%20%20%20%20%20%20%20%20%20%20%20%29.addTo%28map_e13d597925534fc5a989ec4f4d7ea8be%29%3B%0A%20%20%20%20%20%20%20%20%0A%20%20%20%20%0A%20%20%20%20%20%20%20%20var%20popup_678b7b1291ed4c2cbf41bd54e97f8104%20%3D%20L.popup%28%7B%22maxWidth%22%3A%20%22100%25%22%7D%29%3B%0A%0A%20%20%20%20%20%20%20%20%0A%20%20%20%20%20%20%20%20%20%20%20%20var%20html_0c6845b56a3440d299c4bee59acc38a2%20%3D%20%24%28%60%3Cdiv%20id%3D%22html_0c6845b56a3440d299c4bee59acc38a2%22%20style%3D%22width%3A%20100.0%25%3B%20height%3A%20100.0%25%3B%22%3ESocial%20Sciences%20Building%3C/div%3E%60%29%5B0%5D%3B%0A%20%20%20%20%20%20%20%20%20%20%20%20popup_678b7b1291ed4c2cbf41bd54e97f8104.setContent%28html_0c6845b56a3440d299c4bee59acc38a2%29%3B%0A%20%20%20%20%20%20%20%20%0A%0A%20%20%20%20%20%20%20%20polygon_e4b23c6e7e1d408d879a998d95fe8f74.bindPopup%28popup_678b7b1291ed4c2cbf41bd54e97f8104%29%0A%20%20%20%20%20%20%20%20%3B%0A%0A%20%20%20%20%20%20%20%20%0A%20%20%20%20%0A%3C/script%3E onload=\"this.contentDocument.open();this.contentDocument.write(    decodeURIComponent(this.getAttribute('data-html')));this.contentDocument.close();\" allowfullscreen webkitallowfullscreen mozallowfullscreen></iframe></div></div>"
      ],
      "text/plain": [
       "<folium.folium.Map at 0x7fcc4a985940>"
      ]
     },
     "metadata": {},
     "output_type": "display_data"
    }
   ],
   "source": [
    "import folium\n",
    "from IPython.display import display\n",
    "\n",
    "\n",
    "blegen_hall_coords = [44.97170, -93.2434]\n",
    "\n",
    "\n",
    "social_sciences_coords = [\n",
    "    [44.9716, -93.2430],  \n",
    "    [44.9713, -93.2430],  \n",
    "    [44.9713, -93.2425],  \n",
    "    [44.9716, -93.2425],  \n",
    "    [44.9716, -93.2430]   \n",
    "]\n",
    "\n",
    "\n",
    "map_blegen = folium.Map(location=blegen_hall_coords, zoom_start=77)\n",
    "\n",
    "\n",
    "folium.Marker(\n",
    "    location=blegen_hall_coords,\n",
    "    popup='Blegen Hall',\n",
    "    icon=folium.Icon(color='blue', icon='info-sign')\n",
    ").add_to(map_blegen)\n",
    "\n",
    "\n",
    "folium.Polygon(\n",
    "    locations=social_sciences_coords,\n",
    "    color='black',  \n",
    "    fill=True,\n",
    "    fill_color='red',  \n",
    "    fill_opacity=0.5,  \n",
    "    popup='Social Sciences Building'\n",
    ").add_to(map_blegen)\n",
    "\n",
    "display(map_blegen)\n"
   ]
  },
  {
   "cell_type": "markdown",
   "metadata": {},
   "source": [
    "## 3. Solving Problems\n",
    "In this section, you will tackle problems to build your spatial thinking and computational thinking abilities."
   ]
  },
  {
   "cell_type": "markdown",
   "metadata": {},
   "source": [
    "### 3a. More GeoJSON vector data\n",
    "\n",
    "Let's continue practicing with GeoJSON data. Remember that we oftentimes will convert shapefile data into GeoJSON data so that it can be analyzed and processed."
   ]
  },
  {
   "cell_type": "markdown",
   "metadata": {},
   "source": [
    "The following cities geoJSON dictionary has a collection of 6 US cities. Write a function that calculates the following information:\n",
    " - Count of the number of cities in the dataset\n",
    " - Total population of all cities\n",
    " - Total land area of all cities"
   ]
  },
  {
   "cell_type": "code",
   "execution_count": 60,
   "metadata": {},
   "outputs": [
    {
     "name": "stdout",
     "output_type": "stream",
     "text": [
      "Number of cities: 6\n",
      "Total population of all cities: 497616\n",
      "Total land area of all cities: 165.53900000000002 square miles\n"
     ]
    }
   ],
   "source": [
    "# Here is a list of the first 6 US cities in the following dataset:\n",
    "# https://raw.githubusercontent.com/jalbertbowden/us-data/master/shapefiles/us-cities/geojson/us_cities.geojson\n",
    "cities = {\n",
    "\"type\": \"FeatureCollection\",\n",
    "\"features\": [\n",
    "{ \"type\": \"Feature\", \"properties\": { \"AREANAME\": \"Ewa Beach\", \"CLASS\": \"CDP\", \"ST\": \"HI\", \"STFIPS\": \"15\", \"PLACEFIP\": \"07450\", \"CAPITAL\": \"N\", \"AREALAND\": 1.417000, \"AREAWATER\": 0.449000, \"POP_CL\": 6, \"POP2000\": 14650, \"WHITE\": 1633, \"BLACK\": 96, \"AMERI_ES\": 16, \"ASIAN\": 7199, \"HAWN_PI\": 1556, \"OTHER\": 151, \"MULT_RACE\": 3999, \"HISPANIC\": 1421, \"MALES\": 7358, \"FEMALES\": 7292, \"AGE_UNDER5\": 1052, \"AGE_5_17\": 3221, \"AGE_18_21\": 881, \"AGE_22_29\": 1620, \"AGE_30_39\": 2122, \"AGE_40_49\": 1920, \"AGE_50_64\": 2246, \"AGE_65_UP\": 1588, \"MED_AGE\": 32.700000, \"MED_AGE_M\": 31.600000, \"MED_AGE_F\": 33.800000, \"HOUSEHOLDS\": 3305, \"AVE_HH_SZ\": 4.390000, \"HSEHLD_1_M\": 124, \"HSEHLD_1_F\": 123, \"MARHH_CHD\": 941, \"MARHH_NO_C\": 1216, \"MHH_CHILD\": 83, \"FHH_CHILD\": 227, \"FAMILIES\": 2941, \"AVE_FAM_SZ\": 4.470000, \"HSE_UNITS\": 3515, \"VACANT\": 210, \"OWNER_OCC\": 2278, \"RENTER_OCC\": 1027 }, \"geometry\": { \"type\": \"Point\", \"coordinates\": [ -7461303.702493, 4728515.729287 ] } }\n",
    ",\n",
    "{ \"type\": \"Feature\", \"properties\": { \"AREANAME\": \"Halawa\", \"CLASS\": \"CDP\", \"ST\": \"HI\", \"STFIPS\": \"15\", \"PLACEFIP\": \"10000\", \"CAPITAL\": \"N\", \"AREALAND\": 2.325000, \"AREAWATER\": 0.000000, \"POP_CL\": 6, \"POP2000\": 13891, \"WHITE\": 2153, \"BLACK\": 254, \"AMERI_ES\": 28, \"ASIAN\": 7070, \"HAWN_PI\": 1449, \"OTHER\": 116, \"MULT_RACE\": 2821, \"HISPANIC\": 905, \"MALES\": 6905, \"FEMALES\": 6986, \"AGE_UNDER5\": 779, \"AGE_5_17\": 2470, \"AGE_18_21\": 780, \"AGE_22_29\": 1574, \"AGE_30_39\": 1908, \"AGE_40_49\": 2080, \"AGE_50_64\": 2108, \"AGE_65_UP\": 2192, \"MED_AGE\": 37.400000, \"MED_AGE_M\": 35.800000, \"MED_AGE_F\": 38.800000, \"HOUSEHOLDS\": 4142, \"AVE_HH_SZ\": 3.280000, \"HSEHLD_1_M\": 289, \"HSEHLD_1_F\": 354, \"MARHH_CHD\": 955, \"MARHH_NO_C\": 1533, \"MHH_CHILD\": 71, \"FHH_CHILD\": 231, \"FAMILIES\": 3277, \"AVE_FAM_SZ\": 3.640000, \"HSE_UNITS\": 4289, \"VACANT\": 147, \"OWNER_OCC\": 2657, \"RENTER_OCC\": 1485 }, \"geometry\": { \"type\": \"Point\", \"coordinates\": [ -7439428.409338, 4728154.637490 ] } }\n",
    ",\n",
    "{ \"type\": \"Feature\", \"properties\": { \"AREANAME\": \"Hilo\", \"CLASS\": \"CDP\", \"ST\": \"HI\", \"STFIPS\": \"15\", \"PLACEFIP\": \"14650\", \"CAPITAL\": \"N\", \"AREALAND\": 54.289000, \"AREAWATER\": 4.147000, \"POP_CL\": 6, \"POP2000\": 40759, \"WHITE\": 6976, \"BLACK\": 183, \"AMERI_ES\": 137, \"ASIAN\": 15610, \"HAWN_PI\": 5348, \"OTHER\": 385, \"MULT_RACE\": 12120, \"HISPANIC\": 3579, \"MALES\": 19950, \"FEMALES\": 20809, \"AGE_UNDER5\": 2301, \"AGE_5_17\": 7764, \"AGE_18_21\": 2663, \"AGE_22_29\": 3722, \"AGE_30_39\": 4738, \"AGE_40_49\": 6176, \"AGE_50_64\": 6572, \"AGE_65_UP\": 6823, \"MED_AGE\": 38.600000, \"MED_AGE_M\": 37.200000, \"MED_AGE_F\": 39.800000, \"HOUSEHOLDS\": 14577, \"AVE_HH_SZ\": 2.700000, \"HSEHLD_1_M\": 1611, \"HSEHLD_1_F\": 1899, \"MARHH_CHD\": 2846, \"MARHH_NO_C\": 4227, \"MHH_CHILD\": 388, \"FHH_CHILD\": 1228, \"FAMILIES\": 10105, \"AVE_FAM_SZ\": 3.190000, \"HSE_UNITS\": 16026, \"VACANT\": 1449, \"OWNER_OCC\": 8873, \"RENTER_OCC\": 5704 }, \"geometry\": { \"type\": \"Point\", \"coordinates\": [ -7161818.443646, 4137136.665217 ] } }\n",
    ",\n",
    "{ \"type\": \"Feature\", \"properties\": { \"AREANAME\": \"Honolulu\", \"CLASS\": \"CDP\", \"ST\": \"HI\", \"STFIPS\": \"15\", \"PLACEFIP\": \"17000\", \"CAPITAL\": \"Y\", \"AREALAND\": 85.702000, \"AREAWATER\": 19.351000, \"POP_CL\": 8, \"POP2000\": 371657, \"WHITE\": 73093, \"BLACK\": 6038, \"AMERI_ES\": 689, \"ASIAN\": 207588, \"HAWN_PI\": 25457, \"OTHER\": 3318, \"MULT_RACE\": 55474, \"HISPANIC\": 16229, \"MALES\": 182628, \"FEMALES\": 189029, \"AGE_UNDER5\": 18896, \"AGE_5_17\": 52576, \"AGE_18_21\": 18274, \"AGE_22_29\": 41526, \"AGE_30_39\": 56230, \"AGE_40_49\": 55990, \"AGE_50_64\": 61908, \"AGE_65_UP\": 66257, \"MED_AGE\": 39.700000, \"MED_AGE_M\": 38.400000, \"MED_AGE_F\": 41.100000, \"HOUSEHOLDS\": 140337, \"AVE_HH_SZ\": 2.570000, \"HSEHLD_1_M\": 19657, \"HSEHLD_1_F\": 22032, \"MARHH_CHD\": 24570, \"MARHH_NO_C\": 39239, \"MHH_CHILD\": 2030, \"FHH_CHILD\": 6592, \"FAMILIES\": 87374, \"AVE_FAM_SZ\": 3.230000, \"HSE_UNITS\": 158663, \"VACANT\": 18326, \"OWNER_OCC\": 65861, \"RENTER_OCC\": 74476 }, \"geometry\": { \"type\": \"Point\", \"coordinates\": [ -7432121.465097, 4705302.093193 ] } }\n",
    ",\n",
    "{ \"type\": \"Feature\", \"properties\": { \"AREANAME\": \"Kahului\", \"CLASS\": \"CDP\", \"ST\": \"HI\", \"STFIPS\": \"15\", \"PLACEFIP\": \"22700\", \"CAPITAL\": \"N\", \"AREALAND\": 15.162000, \"AREAWATER\": 1.175000, \"POP_CL\": 6, \"POP2000\": 20146, \"WHITE\": 2027, \"BLACK\": 49, \"AMERI_ES\": 55, \"ASIAN\": 10803, \"HAWN_PI\": 1997, \"OTHER\": 296, \"MULT_RACE\": 4919, \"HISPANIC\": 1763, \"MALES\": 9936, \"FEMALES\": 10210, \"AGE_UNDER5\": 1438, \"AGE_5_17\": 3751, \"AGE_18_21\": 1051, \"AGE_22_29\": 2223, \"AGE_30_39\": 2833, \"AGE_40_49\": 2535, \"AGE_50_64\": 2948, \"AGE_65_UP\": 3367, \"MED_AGE\": 35.900000, \"MED_AGE_M\": 34.100000, \"MED_AGE_F\": 37.500000, \"HOUSEHOLDS\": 5880, \"AVE_HH_SZ\": 3.290000, \"HSEHLD_1_M\": 464, \"HSEHLD_1_F\": 728, \"MARHH_CHD\": 1371, \"MARHH_NO_C\": 1682, \"MHH_CHILD\": 185, \"FHH_CHILD\": 495, \"FAMILIES\": 4424, \"AVE_FAM_SZ\": 3.760000, \"HSE_UNITS\": 6079, \"VACANT\": 199, \"OWNER_OCC\": 3190, \"RENTER_OCC\": 2690 }, \"geometry\": { \"type\": \"Point\", \"coordinates\": [ -7260796.122058, 4481129.175313 ] } }\n",
    ",\n",
    "{ \"type\": \"Feature\", \"properties\": { \"AREANAME\": \"Kailua\", \"CLASS\": \"CDP\", \"ST\": \"HI\", \"STFIPS\": \"15\", \"PLACEFIP\": \"23150\", \"CAPITAL\": \"N\", \"AREALAND\": 6.644000, \"AREAWATER\": 2.888000, \"POP_CL\": 6, \"POP2000\": 36513, \"WHITE\": 16008, \"BLACK\": 277, \"AMERI_ES\": 109, \"ASIAN\": 7709, \"HAWN_PI\": 2947, \"OTHER\": 338, \"MULT_RACE\": 9125, \"HISPANIC\": 2228, \"MALES\": 18067, \"FEMALES\": 18446, \"AGE_UNDER5\": 2090, \"AGE_5_17\": 6724, \"AGE_18_21\": 1524, \"AGE_22_29\": 3130, \"AGE_30_39\": 5322, \"AGE_40_49\": 6214, \"AGE_50_64\": 6499, \"AGE_65_UP\": 5010, \"MED_AGE\": 39.100000, \"MED_AGE_M\": 38.000000, \"MED_AGE_F\": 40.200000, \"HOUSEHOLDS\": 12229, \"AVE_HH_SZ\": 2.980000, \"HSEHLD_1_M\": 897, \"HSEHLD_1_F\": 1130, \"MARHH_CHD\": 3056, \"MARHH_NO_C\": 4188, \"MHH_CHILD\": 256, \"FHH_CHILD\": 613, \"FAMILIES\": 9324, \"AVE_FAM_SZ\": 3.330000, \"HSE_UNITS\": 12780, \"VACANT\": 551, \"OWNER_OCC\": 8521, \"RENTER_OCC\": 3708 }, \"geometry\": { \"type\": \"Point\", \"coordinates\": [ -7407068.350175, 4710303.343603 ] } }\n",
    "]}\n",
    "\n",
    "def cities_information(geojson):\n",
    "    total_population = 0\n",
    "    total_land_area = 0\n",
    "\n",
    "    num_cities = len(geojson['features'])\n",
    "\n",
    "    for city in geojson['features']:\n",
    "        total_population += city['properties']['POP2000']\n",
    "        total_land_area += city['properties']['AREALAND']\n",
    "\n",
    "    print(f\"Number of cities: {num_cities}\")\n",
    "    print(f\"Total population of all cities: {total_population}\")\n",
    "    print(f\"Total land area of all cities: {total_land_area} square miles\")\n",
    "\n",
    "cities_information(cities)\n",
    "\n"
   ]
  },
  {
   "cell_type": "markdown",
   "metadata": {
    "tags": []
   },
   "source": [
    "### 3b. More Vector!\n",
    "\n",
    "Let's make it more interesting. Using the same cities dataset write a new function that calculates the following:\n",
    " - Average population of all cities\n",
    " - Mean center of all the city locations (now we get to use the spatial information)\n",
    " \n",
    "The mean center is the central point for a set of features (points in our case). For more information check out the following webpage: http://desktop.arcgis.com/en/arcmap/10.3/tools/spatial-statistics-toolbox/mean-center.htm \n",
    "\n",
    "Important note: To get averages you must use the information you already calculated from the previous question (totals and counts). Then it becomes an easy(ish) task.\n"
   ]
  },
  {
   "cell_type": "code",
   "execution_count": 61,
   "metadata": {},
   "outputs": [
    {
     "name": "stdout",
     "output_type": "stream",
     "text": [
      "Average Population of all cities: 82936.00\n",
      "Mean Center (Longitude, Latitude): (-7360422.748801, 4581756.940684)\n"
     ]
    }
   ],
   "source": [
    "# Here is a list of the first 6 US cities in the following dataset:\n",
    "# https://raw.githubusercontent.com/jalbertbowden/us-data/master/shapefiles/us-cities/geojson/us_cities.geojson\n",
    "cities = {\n",
    "\"type\": \"FeatureCollection\",\n",
    "\"features\": [\n",
    "{ \"type\": \"Feature\", \"properties\": { \"AREANAME\": \"Ewa Beach\", \"CLASS\": \"CDP\", \"ST\": \"HI\", \"STFIPS\": \"15\", \"PLACEFIP\": \"07450\", \"CAPITAL\": \"N\", \"AREALAND\": 1.417000, \"AREAWATER\": 0.449000, \"POP_CL\": 6, \"POP2000\": 14650, \"WHITE\": 1633, \"BLACK\": 96, \"AMERI_ES\": 16, \"ASIAN\": 7199, \"HAWN_PI\": 1556, \"OTHER\": 151, \"MULT_RACE\": 3999, \"HISPANIC\": 1421, \"MALES\": 7358, \"FEMALES\": 7292, \"AGE_UNDER5\": 1052, \"AGE_5_17\": 3221, \"AGE_18_21\": 881, \"AGE_22_29\": 1620, \"AGE_30_39\": 2122, \"AGE_40_49\": 1920, \"AGE_50_64\": 2246, \"AGE_65_UP\": 1588, \"MED_AGE\": 32.700000, \"MED_AGE_M\": 31.600000, \"MED_AGE_F\": 33.800000, \"HOUSEHOLDS\": 3305, \"AVE_HH_SZ\": 4.390000, \"HSEHLD_1_M\": 124, \"HSEHLD_1_F\": 123, \"MARHH_CHD\": 941, \"MARHH_NO_C\": 1216, \"MHH_CHILD\": 83, \"FHH_CHILD\": 227, \"FAMILIES\": 2941, \"AVE_FAM_SZ\": 4.470000, \"HSE_UNITS\": 3515, \"VACANT\": 210, \"OWNER_OCC\": 2278, \"RENTER_OCC\": 1027 }, \"geometry\": { \"type\": \"Point\", \"coordinates\": [ -7461303.702493, 4728515.729287 ] } }\n",
    ",\n",
    "{ \"type\": \"Feature\", \"properties\": { \"AREANAME\": \"Halawa\", \"CLASS\": \"CDP\", \"ST\": \"HI\", \"STFIPS\": \"15\", \"PLACEFIP\": \"10000\", \"CAPITAL\": \"N\", \"AREALAND\": 2.325000, \"AREAWATER\": 0.000000, \"POP_CL\": 6, \"POP2000\": 13891, \"WHITE\": 2153, \"BLACK\": 254, \"AMERI_ES\": 28, \"ASIAN\": 7070, \"HAWN_PI\": 1449, \"OTHER\": 116, \"MULT_RACE\": 2821, \"HISPANIC\": 905, \"MALES\": 6905, \"FEMALES\": 6986, \"AGE_UNDER5\": 779, \"AGE_5_17\": 2470, \"AGE_18_21\": 780, \"AGE_22_29\": 1574, \"AGE_30_39\": 1908, \"AGE_40_49\": 2080, \"AGE_50_64\": 2108, \"AGE_65_UP\": 2192, \"MED_AGE\": 37.400000, \"MED_AGE_M\": 35.800000, \"MED_AGE_F\": 38.800000, \"HOUSEHOLDS\": 4142, \"AVE_HH_SZ\": 3.280000, \"HSEHLD_1_M\": 289, \"HSEHLD_1_F\": 354, \"MARHH_CHD\": 955, \"MARHH_NO_C\": 1533, \"MHH_CHILD\": 71, \"FHH_CHILD\": 231, \"FAMILIES\": 3277, \"AVE_FAM_SZ\": 3.640000, \"HSE_UNITS\": 4289, \"VACANT\": 147, \"OWNER_OCC\": 2657, \"RENTER_OCC\": 1485 }, \"geometry\": { \"type\": \"Point\", \"coordinates\": [ -7439428.409338, 4728154.637490 ] } }\n",
    ",\n",
    "{ \"type\": \"Feature\", \"properties\": { \"AREANAME\": \"Hilo\", \"CLASS\": \"CDP\", \"ST\": \"HI\", \"STFIPS\": \"15\", \"PLACEFIP\": \"14650\", \"CAPITAL\": \"N\", \"AREALAND\": 54.289000, \"AREAWATER\": 4.147000, \"POP_CL\": 6, \"POP2000\": 40759, \"WHITE\": 6976, \"BLACK\": 183, \"AMERI_ES\": 137, \"ASIAN\": 15610, \"HAWN_PI\": 5348, \"OTHER\": 385, \"MULT_RACE\": 12120, \"HISPANIC\": 3579, \"MALES\": 19950, \"FEMALES\": 20809, \"AGE_UNDER5\": 2301, \"AGE_5_17\": 7764, \"AGE_18_21\": 2663, \"AGE_22_29\": 3722, \"AGE_30_39\": 4738, \"AGE_40_49\": 6176, \"AGE_50_64\": 6572, \"AGE_65_UP\": 6823, \"MED_AGE\": 38.600000, \"MED_AGE_M\": 37.200000, \"MED_AGE_F\": 39.800000, \"HOUSEHOLDS\": 14577, \"AVE_HH_SZ\": 2.700000, \"HSEHLD_1_M\": 1611, \"HSEHLD_1_F\": 1899, \"MARHH_CHD\": 2846, \"MARHH_NO_C\": 4227, \"MHH_CHILD\": 388, \"FHH_CHILD\": 1228, \"FAMILIES\": 10105, \"AVE_FAM_SZ\": 3.190000, \"HSE_UNITS\": 16026, \"VACANT\": 1449, \"OWNER_OCC\": 8873, \"RENTER_OCC\": 5704 }, \"geometry\": { \"type\": \"Point\", \"coordinates\": [ -7161818.443646, 4137136.665217 ] } }\n",
    ",\n",
    "{ \"type\": \"Feature\", \"properties\": { \"AREANAME\": \"Honolulu\", \"CLASS\": \"CDP\", \"ST\": \"HI\", \"STFIPS\": \"15\", \"PLACEFIP\": \"17000\", \"CAPITAL\": \"Y\", \"AREALAND\": 85.702000, \"AREAWATER\": 19.351000, \"POP_CL\": 8, \"POP2000\": 371657, \"WHITE\": 73093, \"BLACK\": 6038, \"AMERI_ES\": 689, \"ASIAN\": 207588, \"HAWN_PI\": 25457, \"OTHER\": 3318, \"MULT_RACE\": 55474, \"HISPANIC\": 16229, \"MALES\": 182628, \"FEMALES\": 189029, \"AGE_UNDER5\": 18896, \"AGE_5_17\": 52576, \"AGE_18_21\": 18274, \"AGE_22_29\": 41526, \"AGE_30_39\": 56230, \"AGE_40_49\": 55990, \"AGE_50_64\": 61908, \"AGE_65_UP\": 66257, \"MED_AGE\": 39.700000, \"MED_AGE_M\": 38.400000, \"MED_AGE_F\": 41.100000, \"HOUSEHOLDS\": 140337, \"AVE_HH_SZ\": 2.570000, \"HSEHLD_1_M\": 19657, \"HSEHLD_1_F\": 22032, \"MARHH_CHD\": 24570, \"MARHH_NO_C\": 39239, \"MHH_CHILD\": 2030, \"FHH_CHILD\": 6592, \"FAMILIES\": 87374, \"AVE_FAM_SZ\": 3.230000, \"HSE_UNITS\": 158663, \"VACANT\": 18326, \"OWNER_OCC\": 65861, \"RENTER_OCC\": 74476 }, \"geometry\": { \"type\": \"Point\", \"coordinates\": [ -7432121.465097, 4705302.093193 ] } }\n",
    ",\n",
    "{ \"type\": \"Feature\", \"properties\": { \"AREANAME\": \"Kahului\", \"CLASS\": \"CDP\", \"ST\": \"HI\", \"STFIPS\": \"15\", \"PLACEFIP\": \"22700\", \"CAPITAL\": \"N\", \"AREALAND\": 15.162000, \"AREAWATER\": 1.175000, \"POP_CL\": 6, \"POP2000\": 20146, \"WHITE\": 2027, \"BLACK\": 49, \"AMERI_ES\": 55, \"ASIAN\": 10803, \"HAWN_PI\": 1997, \"OTHER\": 296, \"MULT_RACE\": 4919, \"HISPANIC\": 1763, \"MALES\": 9936, \"FEMALES\": 10210, \"AGE_UNDER5\": 1438, \"AGE_5_17\": 3751, \"AGE_18_21\": 1051, \"AGE_22_29\": 2223, \"AGE_30_39\": 2833, \"AGE_40_49\": 2535, \"AGE_50_64\": 2948, \"AGE_65_UP\": 3367, \"MED_AGE\": 35.900000, \"MED_AGE_M\": 34.100000, \"MED_AGE_F\": 37.500000, \"HOUSEHOLDS\": 5880, \"AVE_HH_SZ\": 3.290000, \"HSEHLD_1_M\": 464, \"HSEHLD_1_F\": 728, \"MARHH_CHD\": 1371, \"MARHH_NO_C\": 1682, \"MHH_CHILD\": 185, \"FHH_CHILD\": 495, \"FAMILIES\": 4424, \"AVE_FAM_SZ\": 3.760000, \"HSE_UNITS\": 6079, \"VACANT\": 199, \"OWNER_OCC\": 3190, \"RENTER_OCC\": 2690 }, \"geometry\": { \"type\": \"Point\", \"coordinates\": [ -7260796.122058, 4481129.175313 ] } }\n",
    ",\n",
    "{ \"type\": \"Feature\", \"properties\": { \"AREANAME\": \"Kailua\", \"CLASS\": \"CDP\", \"ST\": \"HI\", \"STFIPS\": \"15\", \"PLACEFIP\": \"23150\", \"CAPITAL\": \"N\", \"AREALAND\": 6.644000, \"AREAWATER\": 2.888000, \"POP_CL\": 6, \"POP2000\": 36513, \"WHITE\": 16008, \"BLACK\": 277, \"AMERI_ES\": 109, \"ASIAN\": 7709, \"HAWN_PI\": 2947, \"OTHER\": 338, \"MULT_RACE\": 9125, \"HISPANIC\": 2228, \"MALES\": 18067, \"FEMALES\": 18446, \"AGE_UNDER5\": 2090, \"AGE_5_17\": 6724, \"AGE_18_21\": 1524, \"AGE_22_29\": 3130, \"AGE_30_39\": 5322, \"AGE_40_49\": 6214, \"AGE_50_64\": 6499, \"AGE_65_UP\": 5010, \"MED_AGE\": 39.100000, \"MED_AGE_M\": 38.000000, \"MED_AGE_F\": 40.200000, \"HOUSEHOLDS\": 12229, \"AVE_HH_SZ\": 2.980000, \"HSEHLD_1_M\": 897, \"HSEHLD_1_F\": 1130, \"MARHH_CHD\": 3056, \"MARHH_NO_C\": 4188, \"MHH_CHILD\": 256, \"FHH_CHILD\": 613, \"FAMILIES\": 9324, \"AVE_FAM_SZ\": 3.330000, \"HSE_UNITS\": 12780, \"VACANT\": 551, \"OWNER_OCC\": 8521, \"RENTER_OCC\": 3708 }, \"geometry\": { \"type\": \"Point\", \"coordinates\": [ -7407068.350175, 4710303.343603 ] } }\n",
    "]}\n",
    "\n",
    "def cities_average_information(geojson):\n",
    "    total_population = 0\n",
    "    total_latitude = 0\n",
    "    total_longitude = 0\n",
    "    city_count = len(geojson['features'])\n",
    "\n",
    "    for city in geojson['features']:\n",
    "        population = city['properties']['POP2000']\n",
    "        longitude, latitude = city['geometry']['coordinates']\n",
    "\n",
    "        total_population += population\n",
    "        total_longitude += longitude\n",
    "        total_latitude += latitude\n",
    "\n",
    "    average_population = total_population / city_count\n",
    "\n",
    "    mean_center_longitude = total_longitude / city_count\n",
    "    mean_center_latitude = total_latitude / city_count\n",
    "\n",
    "    print(f\"Average Population of all cities: {average_population:.2f}\")\n",
    "    print(f\"Mean Center (Longitude, Latitude): ({mean_center_longitude:.6f}, {mean_center_latitude:.6f})\")\n",
    "\n",
    "cities_average_information(cities)\n"
   ]
  },
  {
   "cell_type": "markdown",
   "metadata": {},
   "source": [
    "## 4. Reps (Repetitive actions to build your comfort levels)"
   ]
  },
  {
   "cell_type": "markdown",
   "metadata": {},
   "source": [
    "This series of exercises is designed to build your comfort writing Python code."
   ]
  },
  {
   "cell_type": "markdown",
   "metadata": {},
   "source": [
    "### Reps for Passing data structures into functions, calculating values, and returning something useful."
   ]
  },
  {
   "cell_type": "markdown",
   "metadata": {},
   "source": [
    "#### 4a. Max\n",
    "Write a function named `find_max` that accepts either a list of numbers or a dictionary with numeric values. The function should iterate through the input and return the maximum value found. If the input is a dictionary, consider only the values, not the keys."
   ]
  },
  {
   "cell_type": "code",
   "execution_count": 36,
   "metadata": {},
   "outputs": [
    {
     "name": "stdout",
     "output_type": "stream",
     "text": [
      "9\n",
      "8\n"
     ]
    }
   ],
   "source": [
    "def find_max(data):\n",
    "    if isinstance(data, list):\n",
    "        return max(data)\n",
    "    elif isinstance(data, dict):\n",
    "        return max(data.values())\n",
    "\n",
    "\n",
    "\n",
    "# Do not modify below, these two function calls should work properly!\n",
    "\n",
    "# For a list\n",
    "print(find_max([1, 3, 5, 7, 9]))  # Output: 9\n",
    "\n",
    "# For a dictionary\n",
    "print(find_max({'a': 2, 'b': 4, 'c': 6, 'd': 8}))  # Output: 8"
   ]
  },
  {
   "cell_type": "markdown",
   "metadata": {},
   "source": [
    "#### 4b. Sum\n",
    "Develop a function called `calculate_sum` that takes a list of numbers or a dictionary with numeric values as input. The function should loop over the elements and return the sum of all numbers. For dictionaries, sum up the values, not the keys.\n"
   ]
  },
  {
   "cell_type": "code",
   "execution_count": 37,
   "metadata": {},
   "outputs": [
    {
     "name": "stdout",
     "output_type": "stream",
     "text": [
      "15\n",
      "60\n"
     ]
    }
   ],
   "source": [
    "def calculate_sum(data):\n",
    "    if isinstance(data, list):\n",
    "        return sum(data)\n",
    "    \n",
    "    elif isinstance(data, dict):\n",
    "        return sum(data.values())\n",
    "\n",
    "\n",
    "# Do not modify below, these two function calls should work properly!\n",
    "\n",
    "# For a list\n",
    "print(calculate_sum([1, 2, 3, 4, 5]))  # Output: 15\n",
    "\n",
    "# For a dictionary\n",
    "print(calculate_sum({'x': 10, 'y': 20, 'z': 30}))  # Output: 60\n"
   ]
  },
  {
   "cell_type": "markdown",
   "metadata": {},
   "source": [
    "Use a conditional(s) to check whether variable **z** is greater than variable **y** and that **z** is smaller than the number **10**. Print the results."
   ]
  },
  {
   "cell_type": "code",
   "execution_count": 62,
   "metadata": {},
   "outputs": [
    {
     "name": "stdout",
     "output_type": "stream",
     "text": [
      "z is greater than variable y and that z is smaller than the number 10.\n"
     ]
    }
   ],
   "source": [
    "z = 5 \n",
    "y = 2 \n",
    "\n",
    "if z > y and z < 10:\n",
    "    print(\"z is greater than variable y and that z is smaller than the number 10.\")\n",
    "else:\n",
    "    print(\"Condition not met.\")\n"
   ]
  },
  {
   "cell_type": "markdown",
   "metadata": {},
   "source": [
    "Add variable **x** and **y** together and use a conditional to compare it to variable **z**. Print the results which include (in plain text) which condition you are using to compare the sum of x and y to the variable z."
   ]
  },
  {
   "cell_type": "code",
   "execution_count": 63,
   "metadata": {},
   "outputs": [
    {
     "name": "stdout",
     "output_type": "stream",
     "text": [
      "The sum of x and y (6) is smaller than z (7).\n"
     ]
    }
   ],
   "source": [
    "x = 4  \n",
    "y = 2 \n",
    "z = 7  \n",
    "\n",
    "sum_xy = x + y\n",
    "\n",
    "if sum_xy > z:\n",
    "    print(f\"The sum of x and y ({sum_xy}) is greater than z ({z}).\")\n",
    "elif sum_xy < z:\n",
    "    print(f\"The sum of x and y ({sum_xy}) is smaller than z ({z}).\")\n",
    "else:\n",
    "    print(f\"The sum of x and y ({sum_xy}) is equal to z ({z}).\")\n"
   ]
  },
  {
   "cell_type": "markdown",
   "metadata": {},
   "source": [
    "## 5. Stretch Exercise. Keep moving forward by solving this problem."
   ]
  },
  {
   "cell_type": "markdown",
   "metadata": {},
   "source": [
    "### Show me something that is (in raster)!\n",
    "\n",
    "This is an open-ended question that has 3 components\n",
    " 1. Open the raster dataset provided in class\n",
    " 2. Write a **focal** raster operation (e.g., focalmean, aspect, hillshade, etc.)\n",
    " 3. Plot the resulting output."
   ]
  },
  {
   "cell_type": "code",
   "execution_count": 64,
   "metadata": {},
   "outputs": [
    {
     "name": "stdout",
     "output_type": "stream",
     "text": [
      "Output raster is [[-1, 1, -1, 1], [-1, 1, -1, 1], [-3, -1, -3, -1], [1, 3, 1, 3]]\n"
     ]
    },
    {
     "data": {
      "image/png": "[encoded data removed]",
      "text/plain": [
       "<Figure size 432x288 with 2 Axes>"
      ]
     },
     "metadata": {
      "needs_background": "light"
     },
     "output_type": "display_data"
    }
   ],
   "source": [
    "import numpy as np\n",
    "import matplotlib.pyplot as plt\n",
    "from scipy.ndimage import uniform_filter\n",
    "\n",
    "my_raster_1 = [\n",
    "    [1, 2, 1, 2],\n",
    "    [3, 4, 3, 4],\n",
    "    [1, 2, 1, 2],\n",
    "    [3, 4, 3, 4]\n",
    "]\n",
    "\n",
    "my_raster_2 = [\n",
    "    [2, 1, 2, 1],\n",
    "    [4, 3, 4, 3],\n",
    "    [4, 3, 4, 3],\n",
    "    [2, 1, 2, 1]\n",
    "]\n",
    "\n",
    "def raster_calculator(raster1, raster2, operation_string):\n",
    "    output_raster = [[0 for _ in row] for row in raster1]\n",
    "\n",
    "    for i in range(len(raster1)):\n",
    "        for j in range(len(raster1[i])):\n",
    "            if operation_string == \"+\":\n",
    "                output_raster[i][j] = raster1[i][j] + raster2[i][j]\n",
    "            elif operation_string == \"-\":\n",
    "                output_raster[i][j] = raster1[i][j] - raster2[i][j]\n",
    "\n",
    "    return output_raster\n",
    "\n",
    "\n",
    "operation = \"-\" \n",
    "output_raster = raster_calculator(my_raster_1, my_raster_2, operation)\n",
    "\n",
    "print(\"Output raster is\", output_raster)\n",
    "\n",
    "focal_mean = uniform_filter(output_raster, size=3) \n",
    "\n",
    "plt.imshow(focal_mean, cmap='viridis') \n",
    "plt.colorbar() \n",
    "plt.title('Focal Mean Filter Output')\n",
    "plt.show()\n"
   ]
  },
  {
   "cell_type": "markdown",
   "metadata": {},
   "source": [
    "## 6. Checking in\n",
    "\n",
    "In the Markdown cell below tell us how you think you are doing on a scale of 1-5 (1 is struggling, 5 is rocking it). Then complete the following 2 sentences."
   ]
  },
  {
   "cell_type": "markdown",
   "metadata": {},
   "source": [
    "### How are you doing?\n",
    "\n",
    "On a scale of 1-5 I am 4\n",
    "I gave myself that rating because I feel confident in completing basic exercises and working with simple Python functions but still need practice with more complex geospatial operations and raster handling.\n",
    "\n",
    "\n",
    "I could use the most help understanding ...\"I could use the most help understanding how to apply advanced raster operations like focal statistics and aspect, as well as working with large geospatial datasets effectively.\"\n",
    "\n",
    "\n",
    "I have a really good understanding of ...\"I have a really good understanding of writing Python functions, performing simple raster operations, and plotting data with libraries like matplotlib.\""
   ]
  }
 ],
 "metadata": {
  "anaconda-cloud": {},
  "kernelspec": {
   "display_name": "Python 3 (ipykernel)",
   "language": "python",
   "name": "python3"
  },
  "language_info": {
   "codemirror_mode": {
    "name": "ipython",
    "version": 3
   },
   "file_extension": ".py",
   "mimetype": "text/x-python",
   "name": "python",
   "nbconvert_exporter": "python",
   "pygments_lexer": "ipython3",
   "version": "3.9.7"
  }
 },
 "nbformat": 4,
 "nbformat_minor": 4
}
