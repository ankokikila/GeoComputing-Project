{
 "cells": [
  {
   "cell_type": "markdown",
   "metadata": {},
   "source": [
    "# Principles of Geocomputing: Lab 1 (4 points)"
   ]
  },
  {
   "cell_type": "markdown",
   "metadata": {
    "tags": []
   },
   "source": [
    "\n",
    "## Welcome!\n",
    "\n",
    "This first lab is an introduction to Python, Jupyter Notebooks, and the class itself. This introductory lab is primarily designed to get you familiar with Jupyter Notebooks, writing small Python statements, and debugging Python code.\n",
    "\n",
    "## Preparing this file for submission\n",
    "\n",
    "Before submitting this lab in Canvas, remove all cells that are not:\n",
    "\n",
    "* the assignment title,\n",
    "* your name, Internet ID, and hours spent,\n",
    "* numbered question headings (e.g., “1. Lab info and submission…”),\n",
    "* code cells (provided in the lab and your additions),\n",
    "* your own comments in markdown (# comments in code cells are OK), or\n",
    "* cells you're explicity told to keep.\n",
    "\n",
    "For example, this cell and the \"Lab information and submission preparation\" cell should be deleted.\n",
    "\n",
    "When submitting this lab: remove unneeded sections, and then upload to Canvas using the lab file naming convention below. \n",
    "\n",
    "\n",
    "* __Standard__:&nbsp;&nbsp;&nbsp; <tt>&lt;InternetID&gt;_lab&lt;lab#&gt;.ipynb</tt>\n",
    "* __Example__:&nbsp;&nbsp;&nbsp; <tt>thork015_lab1.ipynb</tt>\n"
   ]
  },
  {
   "cell_type": "markdown",
   "metadata": {},
   "source": [
    "## 1. Lab information and submission preparation"
   ]
  },
  {
   "cell_type": "markdown",
   "metadata": {},
   "source": [
    "At the beginning of each lab assignment, you need to fill in basic information such as your name, Internet ID, and the time spent on the lab using the variables below. You also need to provide information in terms of who helped you, who you helped, and how much you used AI.\n",
    "\n",
    "### Instructions:\n",
    "\n",
    "1. **Replace `None` with appropriate values**:\n",
    "   - `your_name`: Enter your full name as a **string**.\n",
    "   - `your_intid`: Enter your **Internet ID** as a **string**.\n",
    "   - `hours_spent`: Enter the time you spent on the lab as an **integer** or **float**.  \n",
    "     *Example: If you spent 90 minutes, enter `1.5` (1 hour and 30 minutes).*\n",
    "\n",
    "\n",
    "2. **Fill in collaboration details**:\n",
    "   - `who_helped_you`: List any students who helped you and what they helped with.\n",
    "   - `who_you_helped`: List any students you helped and what you helped them with.\n",
    "   - `genAI_helped_me`: Indicate what percentage of the assignment was completed using generative AI.  \n",
    "     *This does not affect your grade; it helps us track AI usage and ensure academic integrity (e.g., if student A says they helped student B, then student B should list they received help from student A.*\n",
    "\n",
    "\n",
    "3. **Run the code cell**:\n",
    "   - Click on the cell.\n",
    "   - Click the \"Run Cell\" button (Play button above).\n",
    "\n",
    "By following these steps, you help us 'right size' the labs (ensuring they take an appropriate amount of time) and help us avoid any problems of academic dishonesty by recognizing the hard work of our peers who are willing to help us all out. It is win-win! \n",
    "\n",
    "Why do I need to tell you what percentage of the assignment was written/completed with the help of generative AI (e.g., ChatGPT, Co-Pilot, etc)? Again, you must give credit where credit is due so if you used generative AI or other technologies to complete the assignment, then say so. **This does not affect your grade, we are using this to understand where AI has been used in the assignment.** Recall the syllabus allows and encourages you to use AI, but we would like to understand how it is being used to help you learn to use these technologies to improve and speed up your learning.\n"
   ]
  },
  {
   "cell_type": "markdown",
   "metadata": {},
   "source": [
    "## 2. Basic Warm-up: Who are you and basics of data types"
   ]
  },
  {
   "cell_type": "markdown",
   "metadata": {},
   "source": [
    "2a. Using a single call to the <tt>**print**</tt> function, print your name using the <tt>**your_name**</tt> variable declared earlier. For example, your instructor's output would appear as:\n",
    "\n",
    "<blockquote>Eric Shook</blockquote>\n",
    "\n",
    "\n",
    "Note: If you receive an Error (a bug), then you should scroll up and make sure to \"Run\" the code cell above that assigns values to the variables your_name, your_intid, hours_spent."
   ]
  },
  {
   "cell_type": "code",
   "execution_count": 6,
   "metadata": {
    "tags": []
   },
   "outputs": [
    {
     "name": "stdout",
     "output_type": "stream",
     "text": [
      "Ankila\n"
     ]
    }
   ],
   "source": [
    "print(your_name)"
   ]
  },
  {
   "cell_type": "code",
   "execution_count": 70,
   "metadata": {},
   "outputs": [],
   "source": [
    "your_name = \"Ankila\"  # Replace None with your name (as a string)\n",
    "your_intid = \"Kuma\"  # Replace None with your Internet ID (as a string)\n",
    "hours_spent = 7  # Replace None with the number of hours spent (as an int or float)\n",
    "\n",
    "who_helped_you = \"google\"  # helped to explain \"Why am I getting an error?\" \n",
    "who_you_helped = \"ChatGpt\"  # helped to make me understand this Task,(I downloaded pycharm and vs for this task because 1st I thought, I will have to use these for the \"LABFILE\", but I was not able to run the code after spending 5-6 hr, I asked ChatGPT to explain this Task . and I did all by myself because I known basic of Python.)\n",
    "genAI_helped_me = \"0%\"  # Percentage of work completed using generative AI (e.g., ChatGPT, Co-Pilot, Cursor)\n"
   ]
  },
  {
   "cell_type": "markdown",
   "metadata": {},
   "source": [
    "2b. Run the following code cell, which prints out the number of hours you spent on the lab. \n"
   ]
  },
  {
   "cell_type": "code",
   "execution_count": 7,
   "metadata": {},
   "outputs": [
    {
     "name": "stdout",
     "output_type": "stream",
     "text": [
      "7\n"
     ]
    }
   ],
   "source": [
    "print(hours_spent)"
   ]
  },
  {
   "cell_type": "markdown",
   "metadata": {},
   "source": [
    "2c. Using a single call to the <tt>**print**</tt> function, print your Internet ID using the <tt>**your_int_id**</tt> variable declared earlier. For example, your instructors's output would appear as:\n",
    "\n",
    "<blockquote>eshook</blockquote>\n"
   ]
  },
  {
   "cell_type": "code",
   "execution_count": 9,
   "metadata": {
    "tags": []
   },
   "outputs": [
    {
     "name": "stdout",
     "output_type": "stream",
     "text": [
      "Kuma\n"
     ]
    }
   ],
   "source": [
    "print(your_intid)"
   ]
  },
  {
   "cell_type": "markdown",
   "metadata": {},
   "source": [
    "### Initial Data Types\n",
    "\n",
    "Many programming languages, including Python, use the following basic data types:\n",
    "\n",
    "- **Strings** – Text enclosed in `\"double quotes\"` or `'single quotes'`\n",
    "- **Booleans** – Represents `True` or `False`\n",
    "- **Integers** – Whole numbers like `1`, `45`, or `899`\n",
    "- **Floats** – Decimal numbers like `1.2343` or `4.56`\n",
    "\n",
    "#### Checking a Variable's Data Type  \n",
    "To determine the data type of a variable, use the `type()` function just as you would use the `print()` function.\n",
    "\n"
   ]
  },
  {
   "cell_type": "markdown",
   "metadata": {},
   "source": [
    "2d. Let's try using a new function. Use the `type()` function to check the data type of the variable below. \n",
    "\n",
    "<blockquote>fish = \"Clownfish\" </blockquote>"
   ]
  },
  {
   "cell_type": "code",
   "execution_count": 10,
   "metadata": {},
   "outputs": [],
   "source": [
    "fish = \"Clownfish\"\n"
   ]
  },
  {
   "cell_type": "markdown",
   "metadata": {},
   "source": [
    "2e. Now let's check the type of this variable: `number_of_fish`."
   ]
  },
  {
   "cell_type": "code",
   "execution_count": null,
   "metadata": {},
   "outputs": [],
   "source": [
    "number_of_fish = 12\n"
   ]
  },
  {
   "cell_type": "markdown",
   "metadata": {},
   "source": [
    "## 3. Solving Problems"
   ]
  },
  {
   "cell_type": "markdown",
   "metadata": {},
   "source": [
    "#### 3a. Create and Print a City Name  \n",
    "- Create a variable named `city_name` and assign it the string `\"Paris\"`.  \n",
    "- Print the variable.  \n"
   ]
  },
  {
   "cell_type": "code",
   "execution_count": 11,
   "metadata": {},
   "outputs": [
    {
     "name": "stdout",
     "output_type": "stream",
     "text": [
      "Paris\n"
     ]
    }
   ],
   "source": [
    "city_name = \"Paris\"\n",
    "print(city_name)"
   ]
  },
  {
   "cell_type": "markdown",
   "metadata": {},
   "source": [
    "#### 3b. Define and Print Geographic Coordinates  \n",
    "- Create two variables, `latitude` and `longitude`, to store the geographic coordinates of your city.  \n",
    "- Look up the coordinates and assign appropriate numeric values.  \n",
    "- Print both variables.  \n"
   ]
  },
  {
   "cell_type": "code",
   "execution_count": 14,
   "metadata": {},
   "outputs": [
    {
     "name": "stdout",
     "output_type": "stream",
     "text": [
      "28.7041° N 77.1025° E\n"
     ]
    }
   ],
   "source": [
    "latitude = '28.7041° N' \n",
    "longitude = '77.1025° E'\n",
    "print(latitude, longitude)"
   ]
  },
  {
   "cell_type": "markdown",
   "metadata": {},
   "source": [
    "#### 3c. Print a Descriptive Sentence  \n",
    "- Using the variables from **3a** and **3b**, print a sentence that describes the location of your city.  "
   ]
  },
  {
   "cell_type": "code",
   "execution_count": 30,
   "metadata": {},
   "outputs": [
    {
     "name": "stdout",
     "output_type": "stream",
     "text": [
      "Delhi,INDIA ('28.7041° N', '77.1025° E')\n"
     ]
    }
   ],
   "source": [
    "city_name = \"Delhi,INDIA\"\n",
    "latitude = '28.7041° N'\n",
    "longitute = '77.1025° E'\n",
    "print(city_name,(latitude, longitude))"
   ]
  },
  {
   "cell_type": "markdown",
   "metadata": {},
   "source": [
    "#### 3d. Check Data Types  \n",
    "- Use the `type()` function to print the data types of the following variables:  \n",
    "  - `city_name`  \n",
    "  - `latitude`  \n",
    "  - `longitude`  \n"
   ]
  },
  {
   "cell_type": "code",
   "execution_count": 31,
   "metadata": {},
   "outputs": [
    {
     "name": "stdout",
     "output_type": "stream",
     "text": [
      "<class 'str'>\n",
      "<class 'str'>\n",
      "<class 'str'>\n"
     ]
    }
   ],
   "source": [
    "print(type (city_name))\n",
    "print(type(latitude))\n",
    "print(type(longitude))"
   ]
  },
  {
   "cell_type": "markdown",
   "metadata": {},
   "source": [
    "#### 3e. Create and Print a Boolean Variable  \n",
    "- Create a Boolean variable named `is_capital` that indicates whether your city is a capital city (`True` or `False`).  \n",
    "- Print the variable.  "
   ]
  },
  {
   "cell_type": "code",
   "execution_count": 36,
   "metadata": {},
   "outputs": [
    {
     "name": "stdout",
     "output_type": "stream",
     "text": [
      "True\n"
     ]
    }
   ],
   "source": [
    "is_capital = True\n",
    "print(is_capital)"
   ]
  },
  {
   "cell_type": "markdown",
   "metadata": {},
   "source": [
    "\n",
    "#### 3f. Concatenate and Print a Message  \n",
    "- Concatenate `city_name` with the phrase `\" is a beautiful city!\"` and print the result.  \n",
    "- You may need to look up **\"string concatenation\"** to complete this task. This is a great opportunity to practice learning how to learn using online resources.  \n"
   ]
  },
  {
   "cell_type": "code",
   "execution_count": 37,
   "metadata": {},
   "outputs": [
    {
     "name": "stdout",
     "output_type": "stream",
     "text": [
      "Delhi,INDIA is a beautiful city!\n"
     ]
    }
   ],
   "source": [
    "print(city_name+\" is a beautiful city!\")"
   ]
  },
  {
   "cell_type": "markdown",
   "metadata": {},
   "source": [
    "#### 3g. Perform an Arithmetic Calculation  \n",
    "- Create two variables:  \n",
    "  - `population_in_millions` (float) – the city's population in millions.  \n",
    "  - `area_in_sq_km` (float) – the city's land area in square kilometers.  \n",
    "- Calculate and print the **population density** (population per square kilometer).  \n"
   ]
  },
  {
   "cell_type": "code",
   "execution_count": 49,
   "metadata": {},
   "outputs": [
    {
     "name": "stdout",
     "output_type": "stream",
     "text": [
      "population density:  22184.760620364126 population per square km\n"
     ]
    }
   ],
   "source": [
    "population_in_millions = 32.9\n",
    "area_sq_km = 1483\n",
    "population = population_in_millions*1_000_000\n",
    "population_density = population / area_sq_km\n",
    "print(\"population density: \", population_density, \"population per square km\")"
   ]
  },
  {
   "cell_type": "markdown",
   "metadata": {},
   "source": [
    "Great work! You started building your control and competence in programming in Python."
   ]
  },
  {
   "cell_type": "markdown",
   "metadata": {},
   "source": [
    "## 4. Reps (Repetitve actions to build your comfort levels)"
   ]
  },
  {
   "cell_type": "markdown",
   "metadata": {},
   "source": [
    "Here are 3 exercises that you should repeat **five times** (reps!), so that you are more comfortable with your environment."
   ]
  },
  {
   "cell_type": "markdown",
   "metadata": {},
   "source": [
    "### Exercise 1: Create a New Jupyter Notebook\n",
    "\n",
    "Objective: Learn how to create a new Jupyter Notebook.\n",
    "\n",
    "Steps:\n",
    "\n",
    "1. Open JupyterHub using the notebooks.latis.umn.edu server.\n",
    "2. Once you are in the Jupyter Hub environment, navigate to the directory where you want to create the notebook using the left navigation bar.\n",
    "3. Click File -> New -> Notebook.\n",
    "4. Select \"Python 3\".\n",
    "5. A new notebook will open in a new tab or window. \n",
    "6. Rename the notebook by clicking on the title at the top (usually named “Untitled”) and entering a new name of your choosing.\n",
    "7. Now continue to Exercise 2.\n",
    "\n",
    "### Exercise 2: Add a Markdown Cell with a Title\n",
    "\n",
    "Objective: Learn how to add a Markdown cell in a Jupyter Notebook and format a title.\n",
    "\n",
    "Steps:\n",
    "\n",
    "1. In your newly created Jupyter Notebook, click on the first cell.\n",
    "2. Change the cell type to “Markdown” using the toolbar dropdown menu where it might currently say “Code”.\n",
    "3. In the Markdown cell, type a title for your notebook preceded by a hash (#) symbol. For example, type \n",
    "\n",
    "```\n",
    "   # My First Notebook.\n",
    "```\n",
    "4. Run the Markdown cell. Hint: You can press “Shift + Enter” to run the cell to render the Markdown and display the title.\n",
    "5. Continue to Exercise 3.\n",
    "\n",
    "### Exercise 3: Print a Message in a Code Cell\n",
    "\n",
    "Objective: Learn how to add and execute a code cell in a Jupyter Notebook.\n",
    "\n",
    "Steps:\n",
    "\n",
    "1. Click under your Markdown cell to create a new cell.\n",
    "2. Ensure that the new cell is set to “Code” type (this is usually the default type).\n",
    "3. In this code cell, type the following Python command: \n",
    "```\n",
    "print(\"I did it!\").\n",
    "```\n",
    "4. Execute the code cell by pressing “Shift + Enter” or clicking the \"Run\" / \"Play\" button.\n",
    "5. The output below the cell should display the message: `I did it!`\n",
    "6. Now go back to Exercise 1, creating a new Notebook and repeat these three exercises four more times.\n",
    "\n",
    "These exercises are designed to provide a gentle introduction to Jupyter Notebooks, allowing you to become comfortable with creating, editing, and running cells in a notebook environment. Remember, the best way to learn is by doing, so I encourage you to try out these exercises hands-on!"
   ]
  },
  {
   "cell_type": "markdown",
   "metadata": {},
   "source": [
    "## 5. Stretch Exercises. Keep moving forward by solving these problems."
   ]
  },
  {
   "cell_type": "markdown",
   "metadata": {},
   "source": [
    "### Reminder: Reserved Words "
   ]
  },
  {
   "cell_type": "markdown",
   "metadata": {},
   "source": [
    "<tt>**and, del, global, not, with, as, elif, if, or, yield, assert, else, import, pass, break, except, in, raise, class, finally, is, return, continue, for, lambda, try, def, from, nonlocal, while **</tt>\n",
    "\n",
    "\n",
    "These are words that are considered reserved words in Python. (See page 5 in Python for Everybody) Each of these words has a special purpose in Python and may cause problems if used incorrectly. There is no need to memorize all of them at this point, but keep this for future reference. (*Hint: They may be highlighted a different color in Jupyter Notebooks*)"
   ]
  },
  {
   "cell_type": "markdown",
   "metadata": {},
   "source": [
    "### Fix the following code"
   ]
  },
  {
   "cell_type": "markdown",
   "metadata": {},
   "source": [
    "Fix the errors and inconsistencies in the code below. The <tt>**print**</tt> statement at the end of the code block should display the value of the variable containing the combined variables."
   ]
  },
  {
   "cell_type": "code",
   "execution_count": 55,
   "metadata": {},
   "outputs": [
    {
     "name": "stdout",
     "output_type": "stream",
     "text": [
      "5000000\n"
     ]
    }
   ],
   "source": [
    "# City population data (should display a total population of 5,000,000)\n",
    "\n",
    "global_city_A_population = 2000000\n",
    "global_city_B_population = 3000000\n",
    "\n",
    "total_Population = global_city_A_population + global_city_B_population\n",
    "\n",
    "print(total_Population)"
   ]
  },
  {
   "cell_type": "code",
   "execution_count": 68,
   "metadata": {},
   "outputs": [
    {
     "name": "stdout",
     "output_type": "stream",
     "text": [
      "Please bring pizza to this address: 269 19th Avenue S , Minneapolis , MN 55455\n"
     ]
    }
   ],
   "source": [
    "# Pizza Delivery Address (should display Please bring pizza to this address: 269 19th Avenue S, Minneapolis MN 55455)\n",
    "\n",
    "street_num = 269\n",
    "street_name = \"19th Avenue S\"\n",
    "city = \"Minneapolis\"\n",
    "state_abbrev = 'MN'\n",
    "zip_code = 55455\n",
    "\n",
    "# The line of code below uses string concatenation, which we will learn more about later in the semester \n",
    "complete_address = \"Please bring pizza to this address: \" + str(street_num) + \" \" + street_name + \" , \" + city + \" , \" + state_abbrev + \" \" + str(zip_code)\n",
    "# Hint: pay attention to the quotes!\n",
    "\n",
    "print(complete_address)"
   ]
  },
  {
   "cell_type": "markdown",
   "metadata": {},
   "source": [
    "## 6. Comments\n",
    "\n",
    "In Python, you can add comments to your code using the **`#`** symbol. Everything after `#` on a line is ignored by Python when the code runs. Comments are useful because they:\n",
    "\n",
    "- Explain what the code is doing, making it easier for you and others to understand. (Explain what you did)\n",
    "- Help you remember why you wrote the code in a particular way. (Explain why you did what you did)\n",
    "- Allow you to temporarily disable code for testing without deleting it. (Commenting out code)\n",
    "\n",
    "### Example:\n",
    "\n",
    "```python\n",
    "print(\"Hello, world!\")  # This text is ignored by Python\n",
    "```\n",
    "\n",
    "**Output:**\n",
    "\n",
    "```\n",
    "Hello, world!\n",
    "```\n",
    "\n",
    "### Your Turn: How Do You Feel About Coding?\n",
    "\n",
    "Below is a simple program where you can express how you feel right now after the lab is nearly complete.\n",
    "\n",
    "### Instructions:\n",
    "\n",
    "1. Keep one `second_statement` line **uncommented** (remove the `#` symbol).\n",
    "2. Comment out the other two lines (add a `#` at the beginning).\n",
    "3. Run the code to print your chosen statement.\n",
    "\n",
    "### Expected Output (if \"crushing this!\" is chosen):\n",
    "\n",
    "```\n",
    "I am: crushing this!\n",
    "```\n",
    "\n",
    "By using comments, you can quickly change your response by commenting and uncommenting lines of code.\n",
    "\n"
   ]
  },
  {
   "cell_type": "code",
   "execution_count": 69,
   "metadata": {},
   "outputs": [
    {
     "name": "stdout",
     "output_type": "stream",
     "text": [
      "I am: crushing this!\n"
     ]
    }
   ],
   "source": [
    "# Set the beginning of the phrase you will print (This is pre-assigned for you)\n",
    "first_statement = \"I am:\"\n",
    "\n",
    "# Choose one of the three options by uncommenting it\n",
    "# second_statement = \"terrified\"\n",
    "# second_statement = \"up to the challenge\"\n",
    "second_statement = \"crushing this!\"\n",
    "\n",
    "# Print the final message, which combines the two statements\n",
    "print(first_statement, second_statement)\n"
   ]
  },
  {
   "cell_type": "code",
   "execution_count": null,
   "metadata": {},
   "outputs": [],
   "source": []
  }
 ],
 "metadata": {
  "anaconda-cloud": {},
  "kernelspec": {
   "display_name": "Python 3",
   "language": "python",
   "name": "python3"
  },
  "language_info": {
   "codemirror_mode": {
    "name": "ipython",
    "version": 3
   },
   "file_extension": ".py",
   "mimetype": "text/x-python",
   "name": "python",
   "nbconvert_exporter": "python",
   "pygments_lexer": "ipython3",
   "version": "3.8.5"
  }
 },
 "nbformat": 4,
 "nbformat_minor": 4
}
