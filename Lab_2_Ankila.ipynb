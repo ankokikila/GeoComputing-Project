{
 "cells": [
  {
   "cell_type": "markdown",
   "metadata": {},
   "source": [
    "# Principles of Geocomputing: Lab 2 (4 points)"
   ]
  },
  {
   "cell_type": "markdown",
   "metadata": {},
   "source": [
    "This second lab builds on your foundational understanding of Python and Jupyter Notebooks. This lab adds a little more complexity and begins to assess your understanding of not only Python statements, but also conditionals and functions."
   ]
  },
  {
   "cell_type": "markdown",
   "metadata": {},
   "source": [
    "## Preparing this file for submission\n",
    "\n",
    "Before submitting this lab in Canvas, remove this cell and the \"Lab information and submission preparation\" cell below.\n",
    "\n",
    "When submitting this lab in Canvas, remove unneeded sections, and then upload to Canvas using the lab file naming convention:\n",
    "\n",
    "\n",
    "* __Standard__:&nbsp;&nbsp;&nbsp; <tt>&lt;InternetID&gt;_lab&lt;lab#&gt;.ipynb</tt>\n",
    "* __Example__:&nbsp;&nbsp;&nbsp; <tt>thork015_lab1.ipynb</tt>\n"
   ]
  },
  {
   "cell_type": "markdown",
   "metadata": {},
   "source": [
    "## 1. Lab information and submission preparation"
   ]
  },
  {
   "cell_type": "markdown",
   "metadata": {},
   "source": [
    "The first section of each lab assignment should contain your name, Internet ID, and hours spent, declared using the variables below (<tt>**hours_spent**</tt> should be an <tt>**int**</tt> or a <tt>**float**</tt>, not a string). You may be asked to make use of these variables within the lab, so be careful not to overwrite their values further down.\n",
    "\n",
    "For the first 3 variables below, replace the value <tt>None</tt> with an appropriate value.\n",
    "  * Your name (*your_name*) should be a String\n",
    "  * Your internet id (*your_intid*) should be a String\n",
    "  * The number of hours spent on the lab should be an Integer or a Float. Let's say you spend 90 minutes on the lab, then feel free to say 1.5 to indicate 1 hour and 30 minutes. This helps us track how much time each student is spending on each lab so we can make adjustments for future labs or potentially review key concepts.\n",
    "\n",
    "\n",
    "In the final three variables (*who_helped_you*, *who_you_helped*, and *genAI_helped_me*) you must indicate who/what helped you on this lab assignment. First, any student who helped you and which problem(s) they helped you with (*who_helped_you*). You must also indicate any student who you helped and which problems you helped them with (*who_you_helped*). This helps us avoid any problems of academic dishonesty by being honest and recognizing the hard work of our peers who are willing to help us all out. It is win-win! \n",
    "\n",
    "Lastly, what percentage of the assignment was written/completed with the help of generative AI (e.g., ChatGPT, Co-Pilot, etc)? Again, you must give credit where credit is due so if you used generative AI or other technologies to complete the assignment. This does not affect your grade, we are using this to understand where AI has been used in the assignment and so that you do not cross any lines with academic dishonesty, because you are acknowledging that generative AI and related technologies helped you with your work.\n",
    "\n",
    "**Reminder** Run the code cell below by clicking on the Cell and then click on the \"Run Cell\" button above, which looks like a Play button.\n"
   ]
  },
  {
   "cell_type": "code",
   "execution_count": 1,
   "metadata": {},
   "outputs": [],
   "source": [
    "your_name = \"Ankila\"\n",
    "your_intid = \"kuma0389\"\n",
    "hours_spent = 3\n",
    "\n",
    "who_helped_you = \"google, because I was getting this error in task 27(---------------------------------------------------------------------------\n",
    "TypeError                                 Traceback (most recent call last)\n",
    "/tmp/ipykernel_83/3743127672.py in <module>\n",
    "      6 \n",
    "      7 addition = num1+num2\n",
    "----> 8 subtraction = num1-num2\n",
    "      9 multiplication = num1*num2\n",
    "     10 division = num1/num2\n",
    "\n",
    "TypeError: unsupported operand type(s) for -: 'str' and 'str')\"\n",
    "\n",
    "who_you_helped = \"\"\n",
    "genAI_helped_me = \"%\""
   ]
  },
  {
   "cell_type": "markdown",
   "metadata": {},
   "source": [
    "## 2. Basic Warm-up"
   ]
  },
  {
   "cell_type": "markdown",
   "metadata": {},
   "source": [
    "### 2a. Commenting in Python\n",
    "\n",
    "Commenting in Python can either be done with a \n",
    "\n",
    "<code># Single line comment</code> \n",
    "\n",
    "or by using triple quotes such as \n",
    "\n",
    "<code>\"\"\" This is a comment\n",
    "    Multiline comment\"\"\"</code>\n",
    "    \n",
    "The triple quotes are used for multi-line comments. \n",
    "\n",
    "<u>Within a comment, write why comments are important in coding.  "
   ]
  },
  {
   "cell_type": "code",
   "execution_count": 57,
   "metadata": {
    "tags": []
   },
   "outputs": [],
   "source": [
    "#to understand or to explain \""
   ]
  },
  {
   "cell_type": "markdown",
   "metadata": {},
   "source": [
    "For the following warm-up questions, alter the **comparison operators** so that the print statement outputs \"It worked!\"  If you need a refresher on this topic, please consult **Python for Everybody**. \n",
    "\n",
    "You'll notice operators here, they are just like math class! \n",
    "- `<` Less than\n",
    "- `>` Greater than\n",
    "- `==` Equal to\n",
    "- `!=` Not Equal to\n",
    "- `<=` Less than **or** Equal to\n",
    "- `>=` Greater than **or** Equal to\n",
    "\n",
    "**Change the _comparison_ operators in the cells below so that the statement prints to the screen.**"
   ]
  },
  {
   "cell_type": "code",
   "execution_count": 3,
   "metadata": {},
   "outputs": [
    {
     "name": "stdout",
     "output_type": "stream",
     "text": [
      "It worked!\n"
     ]
    }
   ],
   "source": [
    "# 2b. Remember to change the comparison operators, not the values in these examples.\n",
    "if 57 < 88:\n",
    "    print(\"It worked!\")"
   ]
  },
  {
   "cell_type": "code",
   "execution_count": 6,
   "metadata": {},
   "outputs": [
    {
     "name": "stdout",
     "output_type": "stream",
     "text": [
      "It worked!\n"
     ]
    }
   ],
   "source": [
    "# 2c. \n",
    "my_var = 110\n",
    "if my_var != 111:\n",
    "    print(\"It worked!\")"
   ]
  },
  {
   "cell_type": "code",
   "execution_count": 8,
   "metadata": {},
   "outputs": [
    {
     "name": "stdout",
     "output_type": "stream",
     "text": [
      "It worked!\n"
     ]
    }
   ],
   "source": [
    "# 2d.\n",
    "# Here we introduce another comparison operator. The 'and' operator.\n",
    "# In this case both the left side and right side comparisons must be True.\n",
    "if \"Python\" != \"Java\" and \"Geospatial computing\" != \"Cool\":\n",
    "    print(\"It worked!\")"
   ]
  },
  {
   "cell_type": "code",
   "execution_count": 10,
   "metadata": {},
   "outputs": [
    {
     "name": "stdout",
     "output_type": "stream",
     "text": [
      "It worked!\n"
     ]
    }
   ],
   "source": [
    "# 2e.\n",
    "\n",
    "# Here we are using the modulus operator (%)\n",
    "# Look up the modulus operator to see what it does\n",
    "if (2 + 5 + 9)/2 > 7 % 4:\n",
    "    print(\"It worked!\")"
   ]
  },
  {
   "cell_type": "markdown",
   "metadata": {},
   "source": [
    "## 3. Solving Problems\n",
    "In this section, you will tackle problems to build your spatial thinking and computational thinking abilities."
   ]
  },
  {
   "cell_type": "markdown",
   "metadata": {},
   "source": [
    "### 3a. The **Math** Module\n",
    "\n",
    "For the next questions, we need to make use of &pi;. Instead of declaring a variable and rounding &pi; to something like <tt>**pi**=3.14159</tt>, we'll <tt>**import math**</tt> and use its constant for &pi;. Constants are similar to variables in that they have a value attached to name, but the difference is in the name: constants don't vary as variables can. Constants represent values and like other values constants have types.\n",
    "\n",
    "The cell below first imports the <tt>**math**</tt> module, then accesses the constant as <tt>**math.pi**</tt>.\n",
    "\n",
    "Add an if statement to check if math.pi is equal to 3.14, the floating point number."
   ]
  },
  {
   "cell_type": "code",
   "execution_count": 13,
   "metadata": {},
   "outputs": [
    {
     "name": "stdout",
     "output_type": "stream",
     "text": [
      "Math modules provides math.pi as: 3.141592653589793\n",
      "<class 'float'>\n",
      "2*pi = 6.283185307179586\n",
      "math.pi is not equal to 3.14\n"
     ]
    }
   ],
   "source": [
    "import math\n",
    "print(\"Math modules provides math.pi as:\", math.pi)\n",
    "print(type(math.pi))\n",
    "print(\"2*pi =\", 2 * math.pi)\n",
    "\n",
    "# Write an if statement if 3.14 is equal to math.pi\n",
    "if 3.14 == math.pi:\n",
    "    print(\"math.pi is equal to 3.14\")\n",
    "else:\n",
    "    print(\"math.pi is not equal to 3.14\")\n"
   ]
  },
  {
   "cell_type": "markdown",
   "metadata": {},
   "source": [
    "### 3b. Objective: Calculate the Circumference of a Circle\n",
    "\n",
    "Recall that the circumference of a circle can be found with this equation: _C_=2&pi;_r_. Set a variable named <tt>**circleCir**</tt> to be the circumference of a circle with a radius of 80\". Construct a <tt>**print**</tt> statement using that variable that outputs the following\n",
    "\n",
    "<blockquote>A circle with a radius of 80 inches has an circumference of 502.6548245743669 inches.</blockquote>"
   ]
  },
  {
   "cell_type": "code",
   "execution_count": 16,
   "metadata": {},
   "outputs": [
    {
     "name": "stdout",
     "output_type": "stream",
     "text": [
      "A circle with a radius of 80 inches has an circumference of 502.6548245743669 inches.\n"
     ]
    }
   ],
   "source": [
    "import math\n",
    "radius = 80\n",
    "circleCir = 2*math.pi*radius\n",
    "\n",
    "print(\"A circle with a radius of 80 inches has an circumference of 502.6548245743669 inches.\")\n"
   ]
  },
  {
   "cell_type": "markdown",
   "metadata": {},
   "source": [
    "### 3c. Basic Arithmetic Calculator\n",
    "\n",
    "Objective: Create a program that asks the user for two numbers and then prints the result of adding, subtracting, multiplying, and dividing them.\n",
    "\n",
    "Skills: Input/Output, variables, arithmetic operations.\n",
    "\n",
    "Steps:\n",
    "1. Use input() to collect two numbers from the user. \n",
    "2. Convert these inputs to integers or floats \n",
    "3. Perform 4 arithmetic operations: addition, subtraction, multiplication, and division. \n",
    "4. Save the results of each operation\n",
    "5. Print all 4 results using the print() function.\n"
   ]
  },
  {
   "cell_type": "code",
   "execution_count": 27,
   "metadata": {},
   "outputs": [
    {
     "name": "stdin",
     "output_type": "stream",
     "text": [
      "Enter the first number:  9\n",
      "Enter the second number:  7\n"
     ]
    },
    {
     "name": "stdout",
     "output_type": "stream",
     "text": [
      "result of addition is: 16.0 \n",
      "result of subtraction is: 2.0\n",
      "result of multiplication is:63.0\n",
      "result of division is :1.2857142857142858\n"
     ]
    }
   ],
   "source": [
    "num1 = input(\"Enter the first number: \")\n",
    "num2 = input(\"Enter the second number: \")\n",
    "\n",
    "num1 = float(num1)\n",
    "num2 = float(num2)\n",
    "\n",
    "addition = num1+num2\n",
    "subtraction = num1-num2\n",
    "multiplication = num1*num2\n",
    "division = num1/num2\n",
    "\n",
    "print(f\"result of addition is: {addition} \")\n",
    "print(f\"result of subtraction is: {subtraction}\")\n",
    "print(f\"result of multiplication is:{multiplication}\")\n",
    "print(f\"result of division is :{division}\")\n",
    "\n",
    "\n"
   ]
  },
  {
   "cell_type": "markdown",
   "metadata": {},
   "source": [
    "### 3d. Temperature Converter\n",
    "\n",
    "Objective: Write a program that converts temperature from Celsius to Fahrenheit.\n",
    "\n",
    "Skills: Arithmetic operations, working with formulas.\n",
    "\n",
    "Steps: \n",
    "1. Ask the user to input a temperature in Celsius. \n",
    "2. Convert this to Fahrenheit using the formula (Celsius * 9/5) + 32\n",
    "3. Print the result."
   ]
  },
  {
   "cell_type": "code",
   "execution_count": 37,
   "metadata": {},
   "outputs": [
    {
     "name": "stdin",
     "output_type": "stream",
     "text": [
      "Enter the temp in celsius: 2\n"
     ]
    },
    {
     "name": "stdout",
     "output_type": "stream",
     "text": [
      "temp in fahrenheit: 35.6\n"
     ]
    }
   ],
   "source": [
    "celsius = float(input(\"Enter the temp in celsius:\"))\n",
    "                \n",
    "fahrenheit = (celsius * 9/5) + 32\n",
    "\n",
    "print(f\"temp in fahrenheit: {fahrenheit}\")\n",
    "                "
   ]
  },
  {
   "cell_type": "markdown",
   "metadata": {},
   "source": [
    "### 3e. Odd or Even\n",
    "\n",
    "Objective: Write a function that checks if a number is odd or even.\n",
    "\n",
    "Skills: Modulo operator, conditional statements.\n",
    "\n",
    "Steps: \n",
    "1. Have the user input a number.\n",
    "2. Write a function that takes in a number\n",
    "3. In the function, use the modulo operator (%) to determine if it's odd or even\n",
    "4. Return \"odd\" or \"even\" in the function based on the number\n",
    "5. Call your function using the input number from the user\n",
    "6. Print a message telling the user which it is."
   ]
  },
  {
   "cell_type": "code",
   "execution_count": 41,
   "metadata": {},
   "outputs": [
    {
     "name": "stdin",
     "output_type": "stream",
     "text": [
      "enter a number:  7\n"
     ]
    },
    {
     "name": "stdout",
     "output_type": "stream",
     "text": [
      "the number7 is odd.\n"
     ]
    }
   ],
   "source": [
    "def check_odd_even(number):\n",
    "    if number % 2 == 0:\n",
    "        return \"even\"\n",
    "    else:\n",
    "        return \"odd\"\n",
    "user_input = int(input(\"enter a number: \"))\n",
    "\n",
    "result= check_odd_even(user_input)\n",
    "print(f\"the number{user_input} is {result}.\")\n",
    "    \n"
   ]
  },
  {
   "cell_type": "markdown",
   "metadata": {},
   "source": [
    "Great work! You started building your control and competence in programming in Python."
   ]
  },
  {
   "cell_type": "markdown",
   "metadata": {},
   "source": [
    "## 4. Reps (Repetitve actions to build your comfort levels)"
   ]
  },
  {
   "cell_type": "markdown",
   "metadata": {},
   "source": [
    "This series of exercises is designed to build your comfort writing Python functions."
   ]
  },
  {
   "cell_type": "markdown",
   "metadata": {},
   "source": [
    "### Exercise 1: Triple it\n",
    "\n",
    "Objective: Write a triple_it() function\n",
    "\n",
    "Look at the function below called **double_it()**. Using this function as a template write a function called **triple_it()** that will triple any number that is passed in as a parameter and return the tripled value.\n",
    "\n",
    "Then call your function with a number. Print out the result."
   ]
  },
  {
   "cell_type": "code",
   "execution_count": null,
   "metadata": {},
   "outputs": [],
   "source": [
    "# Example function you can use as a template\n",
    "def double_it(number):\n",
    "    doubled = number * 2\n",
    "    return doubled\n",
    "\n",
    "# Notice here, I am nesting function calls\n",
    "print(double_it(4))"
   ]
  },
  {
   "cell_type": "code",
   "execution_count": 44,
   "metadata": {},
   "outputs": [
    {
     "name": "stdout",
     "output_type": "stream",
     "text": [
      "15\n"
     ]
    }
   ],
   "source": [
    "# Write triple_it() here\n",
    "def triple_it(number):\n",
    "    tripled = number*3\n",
    "    return tripled\n",
    "result = triple_it(5)\n",
    "print(result)\n",
    "\n",
    "# Do NOT copy and paste the code above. Type it out yourself.\n",
    "# These reps will help you develop comfort writing functions yourself.\n"
   ]
  },
  {
   "cell_type": "markdown",
   "metadata": {},
   "source": [
    "### Exercise 2: Write quadruple_it\n",
    "\n",
    "Objective: Write a quadruple_it() function\n",
    "\n",
    "Steps:\n",
    "1. Define your quadruple_it() function\n",
    "2. Ensure it takes in a parameter\n",
    "3. Multiple the passed in parameter by 4\n",
    "4. Return the multiplied number\n",
    "5. Call your function and print out the result.\n",
    "\n"
   ]
  },
  {
   "cell_type": "code",
   "execution_count": 45,
   "metadata": {},
   "outputs": [
    {
     "name": "stdout",
     "output_type": "stream",
     "text": [
      "28\n"
     ]
    }
   ],
   "source": [
    "# Write quadruple_it() here\n",
    "# Do NOT copy and paste the code. Type it out yourself.\n",
    "\n",
    "def quadruple_it(number):\n",
    "    quad = number*4\n",
    "    return quad\n",
    "result = quadruple_it(7)\n",
    "print(result)\n",
    "\n",
    "\n"
   ]
  },
  {
   "cell_type": "markdown",
   "metadata": {},
   "source": [
    "### Exercise 3: Ten-fold\n",
    "\n",
    "Objective: Write a function that multiplies a number value by 10\n",
    "\n",
    "1. Define your tenfold_it() function\n",
    "2. Ensure it takes in a parameter\n",
    "3. Multiple the passed in parameter by 10\n",
    "4. Return the multiplied number\n",
    "5. Call your function and print out the result."
   ]
  },
  {
   "cell_type": "code",
   "execution_count": 46,
   "metadata": {},
   "outputs": [
    {
     "name": "stdout",
     "output_type": "stream",
     "text": [
      "70\n"
     ]
    }
   ],
   "source": [
    "# Write quadruple_it() here\n",
    "# Do NOT copy and paste the code. Type it out yourself.\n",
    "\n",
    "def tenfold_it(number):\n",
    "    tend = number*10\n",
    "    return tend\n",
    "result = tenfold_it(7)\n",
    "print (result)\n"
   ]
  },
  {
   "cell_type": "markdown",
   "metadata": {},
   "source": [
    "## 5. Stretch Exercise. Keep moving forward by solving this problem."
   ]
  },
  {
   "cell_type": "markdown",
   "metadata": {},
   "source": [
    "### Area or Line?\n",
    "\n",
    "In class we calculated the Euclidean distance between two points. We can also use two points to represent a rectangle (oftentimes called a Bounding Box). Usually we refer to these points as the Lower Left (ll) and Upper Right (ur) points. This is because you can use the x and y coordinates in different combinations to come up with the Upper Left and the Lower Right coordinates. Now, let's say in our GIS we want the ability to EITHER calculate the Euclidean distance between two points or calculate the area of a Bounding box represented as two points.\n",
    "\n",
    "In this last question write the code that handles this case using the code cell below. Hint: There are many ways to solve this lab question. It will require you to combine some of things we have learned in class so far in terms of sequential and conditional statements.\n"
   ]
  },
  {
   "cell_type": "code",
   "execution_count": 54,
   "metadata": {},
   "outputs": [
    {
     "name": "stdin",
     "output_type": "stream",
     "text": [
      "Enter operation ('line' or 'area'): 9\n"
     ]
    },
    {
     "name": "stdout",
     "output_type": "stream",
     "text": [
      "invalid operation.\n"
     ]
    }
   ],
   "source": [
    "# Points. Here are some example values, but your code should work for any values\n",
    "import math\n",
    "y1 = 1.0\n",
    "x1 = 2.0\n",
    "y2 = 3.0\n",
    "x2 = 4.0\n",
    "\n",
    "# Other values - try to test your code with your own values too. Just uncomment these lines and change the values to test different values yourself.\n",
    "y1 = 7.0\n",
    "x1 = 9.0\n",
    "y2 = 5.0\n",
    "x2 = 2.0\n",
    "\n",
    "#operation = None\n",
    "\n",
    "operation = input(\"Enter operation ('line' or 'area'):\")\n",
    "if operation == \"line\":\n",
    "    distance = math.sqrt((x2-x1)**2 + (y2-y1)**2)\n",
    "    print(f\"distance:{distance}\")\n",
    "elif operation == \"area\":\n",
    "    area = abs(x2-x1)*abs(y2-y1)\n",
    "    print(f\"area:{area}\")\n",
    "                  \n",
    "else:\n",
    "    print(\"invalid operation.\")\n",
    "                  \n",
    "\n",
    "# You need to add code to differentiate between a LINE or an AREA operation.\n",
    "\n",
    "# Once you know which operation you are doing you will need to run your calculations.\n",
    "\n",
    "# Now you need to print out your results. Only print out the relevant results (i.e., don't tell me the distance if the operation is area)\n"
   ]
  },
  {
   "cell_type": "markdown",
   "metadata": {},
   "source": [
    "## 6. Keep going\n",
    "\n",
    "Below are some prompts with Python code. The objective of this exercise is to follow along and **comment** what is going on at each step in your own words. \n",
    "We will learn more about principles and best-practices in the coming weeks. \n",
    "This exercise serves two purposes: 1. helping you read and understand existing code and 2. helping you learn how to comment code effectively.\n",
    "As we will learn comments should explain WHY the code was written (why does the code exist at all) as well as (and less importantly) WHAT the code is doing.\n",
    "In this example you may not know why, but you can document what is happening.\n",
    "\n",
    "* <i> Note: You only need to comment the code in the following three examples. Do not modify the code.</i>"
   ]
  },
  {
   "cell_type": "code",
   "execution_count": 56,
   "metadata": {},
   "outputs": [
    {
     "name": "stdout",
     "output_type": "stream",
     "text": [
      "x = 4 , y = 6 , z = 7\n"
     ]
    }
   ],
   "source": [
    "# Comment this code! (Do not change the code)\n",
    "#Initialize variables with starting values.\n",
    "x = 5\n",
    "y = 2\n",
    "z = 4\n",
    "#Updating the value of x by subtracting 1.\n",
    "x = x - 1\n",
    "#updating of value of y by subtracting new value of x,and then adding the value of z.\n",
    "y = x - y + z\n",
    "#updating the value of z by adding 3 to its new value.\n",
    "z = z + 3\n",
    "#then printing the results.\n",
    "print(\"x =\", x, \", y =\", y, \", z =\", z)"
   ]
  },
  {
   "cell_type": "markdown",
   "metadata": {},
   "source": [
    "You want to get a haircut, but need some help calculating a total cost with a tip and tax included. After much thought, you remember that you already wrote a Python script to do this. The only problem is that you forgot what you did, and you now need to comment the code to understand what is going on. Follow along and **comment** what is happening at each step. \n",
    "\n",
    "\n",
    "* **Cost of the Haircut:** $19.87\n",
    "* **Tax:**  4.3%\n",
    "* **Tip:**  20%\n"
   ]
  },
  {
   "cell_type": "code",
   "execution_count": 55,
   "metadata": {},
   "outputs": [
    {
     "name": "stdout",
     "output_type": "stream",
     "text": [
      "The total price of the haircut is 24.87 dollars.\n"
     ]
    }
   ],
   "source": [
    "# Comment this code! (Do not change the code)\n",
    "#initial cost of haircut\n",
    "hair_cut = 19.87\n",
    "#tax is 43% but now its in decimal after divided by 100\n",
    "tax = 4.3 / 100\n",
    "#tip is 20%, thats why it is divided by 100 \n",
    "tip = 20 / 100\n",
    "\n",
    "#calculating amount of tax based on the initial haircut price\n",
    "hair_cut_tax = hair_cut * tax\n",
    "\n",
    "#Adding tax to the original haircut price to get the new price with tax included\n",
    "hair_cut = hair_cut_tax + hair_cut\n",
    "#Calculating the tip based on the price after tax.\n",
    "total_tip = hair_cut * tip\n",
    "\n",
    "#Adding tip to the price with tax to get the new total amount.\n",
    "total_price = total_tip + hair_cut\n",
    "\n",
    "#Rounding the total price to 2 decimal places\n",
    "total_price = round(total_price, 2)\n",
    "#printing the final price with tax and tip.\n",
    "print(\"The total price of the haircut is\", total_price, \"dollars.\")"
   ]
  },
  {
   "cell_type": "code",
   "execution_count": null,
   "metadata": {},
   "outputs": [],
   "source": []
  }
 ],
 "metadata": {
  "anaconda-cloud": {},
  "kernelspec": {
   "display_name": "Python 3 (ipykernel)",
   "language": "python",
   "name": "python3"
  },
  "language_info": {
   "codemirror_mode": {
    "name": "ipython",
    "version": 3
   },
   "file_extension": ".py",
   "mimetype": "text/x-python",
   "name": "python",
   "nbconvert_exporter": "python",
   "pygments_lexer": "ipython3",
   "version": "3.9.7"
  }
 },
 "nbformat": 4,
 "nbformat_minor": 4
}
