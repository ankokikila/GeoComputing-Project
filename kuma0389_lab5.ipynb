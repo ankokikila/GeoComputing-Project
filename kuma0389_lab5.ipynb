{
 "cells": [
  {
   "cell_type": "markdown",
   "metadata": {},
   "source": [
    "# Principles of Geocomputing: Lab 5 (4 points)"
   ]
  },
  {
   "cell_type": "markdown",
   "metadata": {},
   "source": [
    "This lab takes a step back. You have learned several new programming techniques and tips as well as many new modules that provide more functionality and features to solve problems. \n",
    "\n",
    "Equally important, you are gaining new competencies in programming, so you should be able to start identifying pieces of code that could be improved. So now, we want you to show us how much you can improve example code and how much you, yourself, have improved!"
   ]
  },
  {
   "cell_type": "code",
   "execution_count": 33,
   "metadata": {},
   "outputs": [],
   "source": [
    "your_name = \"Ankila Kumari\"\n",
    "your_intid = \"kuma0389\"\n",
    "hours_spent = None\n",
    "\n",
    "who_helped_you = \"AI- for 3b - explation part. \"\n",
    "who_you_helped = \"\"\n",
    "genAI_helped_me = \"40%\""
   ]
  },
  {
   "cell_type": "markdown",
   "metadata": {},
   "source": [
    "## 2. Basic Warm-up\n",
    "This short section will give you a basic warm up in refactoring code, which is the process of rewriting and improving existing code."
   ]
  },
  {
   "cell_type": "markdown",
   "metadata": {},
   "source": [
    "### 2a. List comprehension\n",
    "Rewrite the following for loop into a list comprehension. List comprehensions can be excellent ways to capture simple loops like this code here."
   ]
  },
  {
   "cell_type": "code",
   "execution_count": 34,
   "metadata": {
    "tags": []
   },
   "outputs": [
    {
     "name": "stdout",
     "output_type": "stream",
     "text": [
      "['A', 'B', 'C', 'D', 'E', 'F', 'G', 'H', 'I', 'J']\n"
     ]
    }
   ],
   "source": [
    "letters = ['a', 'b', 'c', 'd', 'e', 'f', 'g', 'h', 'i', 'j']\n",
    "capitalized_letters = []\n",
    "for letter in letters:\n",
    "    capitalized_letters.append(letter.upper())\n",
    "print(capitalized_letters)"
   ]
  },
  {
   "cell_type": "code",
   "execution_count": 35,
   "metadata": {},
   "outputs": [
    {
     "name": "stdout",
     "output_type": "stream",
     "text": [
      "['A', 'B', 'C', 'D', 'E', 'F', 'G', 'H', 'I', 'J']\n"
     ]
    }
   ],
   "source": [
    "# A single line list comprehension that outputs capitalized_letters\n",
    "letters = ['a', 'b', 'c', 'd', 'e', 'f', 'g', 'h', 'i', 'j']\n",
    "capitalized_letters = [letter.upper() for letter in letters]\n",
    "print(capitalized_letters)"
   ]
  },
  {
   "cell_type": "markdown",
   "metadata": {},
   "source": [
    "### 2b. Modularity\n",
    "\n",
    "Rewrite/refactor the following code to remove repetitive code. \n",
    "\n",
    "**Hint**: You should use at least one for loop and write at least one function."
   ]
  },
  {
   "cell_type": "code",
   "execution_count": 36,
   "metadata": {},
   "outputs": [
    {
     "name": "stdout",
     "output_type": "stream",
     "text": [
      "The square of 1 is 1 and the cube is 1.\n",
      "The square of 2 is 4 and the cube is 8.\n",
      "The square of 3 is 9 and the cube is 27.\n"
     ]
    }
   ],
   "source": [
    "# Calculate square and cube for 1\n",
    "number = 1\n",
    "square = number ** 2\n",
    "cube = number ** 3\n",
    "print(f\"The square of {number} is {square} and the cube is {cube}.\")\n",
    "\n",
    "# Calculate square and cube for 2\n",
    "number = 2\n",
    "square = number ** 2\n",
    "cube = number ** 3\n",
    "print(f\"The square of {number} is {square} and the cube is {cube}.\")\n",
    "\n",
    "# Calculate square and cube for 3\n",
    "number = 3\n",
    "square = number ** 2\n",
    "cube = number ** 3\n",
    "print(f\"The square of {number} is {square} and the cube is {cube}.\")"
   ]
  },
  {
   "cell_type": "code",
   "execution_count": 37,
   "metadata": {},
   "outputs": [
    {
     "name": "stdout",
     "output_type": "stream",
     "text": [
      "The square of 1 is 1 and the cube is 1.\n",
      "The square of 2 is 4 and the cube is 8.\n",
      "The square of 3 is 9 and the cube is 27.\n"
     ]
    }
   ],
   "source": [
    "# Your refactored code here, that outputs the same thing as the code above.\n",
    "# But with more style (and less copy/paste code). So make the code DRY.\n",
    "def calculate_square_and_cube(number):\n",
    "    square = number ** 2\n",
    "    cube = number ** 3\n",
    "    return square, cube\n",
    "numbers = [1, 2, 3]\n",
    "\n",
    "for number in numbers:\n",
    "    square, cube = calculate_square_and_cube(number)\n",
    "    print(f\"The square of {number} is {square} and the cube is {cube}.\")"
   ]
  },
  {
   "cell_type": "markdown",
   "metadata": {},
   "source": [
    "## 3. Solving Problems\n",
    "\n",
    "In this section, you will tackle problems to build your spatial thinking and computational thinking abilities."
   ]
  },
  {
   "cell_type": "markdown",
   "metadata": {},
   "source": [
    "### 3a. Rewrite/refactor your code\n",
    "\n",
    "For this lab assignment, you are to take a piece of old code. An old lab, MVP, or in-class code YOU have written in the past. Then, you will apply your newly acquired programming knowledge to refactor it. \n",
    "\n",
    "Your goal is to enhance the code’s readability, performance, and/or maintainability. Look for areas in your code where traditional loops and conditional statements can be replaced with more modern and efficient programming techniques, such as list comprehensions or the use of functions from advanced modules like itertools or functools. Additionally, evaluate the use of data structures and see if there are opportunities to use NumPy arrays for better performance. Finally, look for geospatial modules that could improve your code.\n",
    "\n",
    "As you refactor your code, pay special attention to the use of comments to improve code readability. You are also encouraged to change the structure of the code to make it more modular and easier to understand. By the end of this assignment, you should have a revised version of your code that not only performs better but is also easier for others (and your future self) to read and understand. \n",
    "\n",
    "Hint: Look for some code you submitted with a comment along the lines of \"# Sorry I ran out of time to really make this work well\". These are great opportunities to go back, try again, and improve. This exercise can help you better understand how to program."
   ]
  },
  {
   "cell_type": "code",
   "execution_count": 46,
   "metadata": {},
   "outputs": [
    {
     "name": "stdout",
     "output_type": "stream",
     "text": [
      "Average Population of all cities: 82936.00\n",
      "Mean Center (Longitude, Latitude): (-7360422.748801, 4581756.940684)\n"
     ]
    }
   ],
   "source": [
    "# Select a piece of Python code **YOU** wrote that is approximately 50 lines.\n",
    "# Paste it here without any modifications.\n",
    "# Note, you do not have to select a HUGE piece of code for this lab.\n",
    "\n",
    "# Source of code: Lab_4 (3b) write a new function that calculates the following:Average population of all cities Mean center of all the city locations (now we get to use the spatial information)\n",
    "\n",
    "\n",
    "# YOUR CODE HERE\n",
    "cities = {\n",
    "\"type\": \"FeatureCollection\",\n",
    "\"features\": [\n",
    "{ \"type\": \"Feature\", \"properties\": { \"AREANAME\": \"Ewa Beach\", \"CLASS\": \"CDP\", \"ST\": \"HI\", \"STFIPS\": \"15\", \"PLACEFIP\": \"07450\", \"CAPITAL\": \"N\", \"AREALAND\": 1.417000, \"AREAWATER\": 0.449000, \"POP_CL\": 6, \"POP2000\": 14650, \"WHITE\": 1633, \"BLACK\": 96, \"AMERI_ES\": 16, \"ASIAN\": 7199, \"HAWN_PI\": 1556, \"OTHER\": 151, \"MULT_RACE\": 3999, \"HISPANIC\": 1421, \"MALES\": 7358, \"FEMALES\": 7292, \"AGE_UNDER5\": 1052, \"AGE_5_17\": 3221, \"AGE_18_21\": 881, \"AGE_22_29\": 1620, \"AGE_30_39\": 2122, \"AGE_40_49\": 1920, \"AGE_50_64\": 2246, \"AGE_65_UP\": 1588, \"MED_AGE\": 32.700000, \"MED_AGE_M\": 31.600000, \"MED_AGE_F\": 33.800000, \"HOUSEHOLDS\": 3305, \"AVE_HH_SZ\": 4.390000, \"HSEHLD_1_M\": 124, \"HSEHLD_1_F\": 123, \"MARHH_CHD\": 941, \"MARHH_NO_C\": 1216, \"MHH_CHILD\": 83, \"FHH_CHILD\": 227, \"FAMILIES\": 2941, \"AVE_FAM_SZ\": 4.470000, \"HSE_UNITS\": 3515, \"VACANT\": 210, \"OWNER_OCC\": 2278, \"RENTER_OCC\": 1027 }, \"geometry\": { \"type\": \"Point\", \"coordinates\": [ -7461303.702493, 4728515.729287 ] } }\n",
    ",\n",
    "{ \"type\": \"Feature\", \"properties\": { \"AREANAME\": \"Halawa\", \"CLASS\": \"CDP\", \"ST\": \"HI\", \"STFIPS\": \"15\", \"PLACEFIP\": \"10000\", \"CAPITAL\": \"N\", \"AREALAND\": 2.325000, \"AREAWATER\": 0.000000, \"POP_CL\": 6, \"POP2000\": 13891, \"WHITE\": 2153, \"BLACK\": 254, \"AMERI_ES\": 28, \"ASIAN\": 7070, \"HAWN_PI\": 1449, \"OTHER\": 116, \"MULT_RACE\": 2821, \"HISPANIC\": 905, \"MALES\": 6905, \"FEMALES\": 6986, \"AGE_UNDER5\": 779, \"AGE_5_17\": 2470, \"AGE_18_21\": 780, \"AGE_22_29\": 1574, \"AGE_30_39\": 1908, \"AGE_40_49\": 2080, \"AGE_50_64\": 2108, \"AGE_65_UP\": 2192, \"MED_AGE\": 37.400000, \"MED_AGE_M\": 35.800000, \"MED_AGE_F\": 38.800000, \"HOUSEHOLDS\": 4142, \"AVE_HH_SZ\": 3.280000, \"HSEHLD_1_M\": 289, \"HSEHLD_1_F\": 354, \"MARHH_CHD\": 955, \"MARHH_NO_C\": 1533, \"MHH_CHILD\": 71, \"FHH_CHILD\": 231, \"FAMILIES\": 3277, \"AVE_FAM_SZ\": 3.640000, \"HSE_UNITS\": 4289, \"VACANT\": 147, \"OWNER_OCC\": 2657, \"RENTER_OCC\": 1485 }, \"geometry\": { \"type\": \"Point\", \"coordinates\": [ -7439428.409338, 4728154.637490 ] } }\n",
    ",\n",
    "{ \"type\": \"Feature\", \"properties\": { \"AREANAME\": \"Hilo\", \"CLASS\": \"CDP\", \"ST\": \"HI\", \"STFIPS\": \"15\", \"PLACEFIP\": \"14650\", \"CAPITAL\": \"N\", \"AREALAND\": 54.289000, \"AREAWATER\": 4.147000, \"POP_CL\": 6, \"POP2000\": 40759, \"WHITE\": 6976, \"BLACK\": 183, \"AMERI_ES\": 137, \"ASIAN\": 15610, \"HAWN_PI\": 5348, \"OTHER\": 385, \"MULT_RACE\": 12120, \"HISPANIC\": 3579, \"MALES\": 19950, \"FEMALES\": 20809, \"AGE_UNDER5\": 2301, \"AGE_5_17\": 7764, \"AGE_18_21\": 2663, \"AGE_22_29\": 3722, \"AGE_30_39\": 4738, \"AGE_40_49\": 6176, \"AGE_50_64\": 6572, \"AGE_65_UP\": 6823, \"MED_AGE\": 38.600000, \"MED_AGE_M\": 37.200000, \"MED_AGE_F\": 39.800000, \"HOUSEHOLDS\": 14577, \"AVE_HH_SZ\": 2.700000, \"HSEHLD_1_M\": 1611, \"HSEHLD_1_F\": 1899, \"MARHH_CHD\": 2846, \"MARHH_NO_C\": 4227, \"MHH_CHILD\": 388, \"FHH_CHILD\": 1228, \"FAMILIES\": 10105, \"AVE_FAM_SZ\": 3.190000, \"HSE_UNITS\": 16026, \"VACANT\": 1449, \"OWNER_OCC\": 8873, \"RENTER_OCC\": 5704 }, \"geometry\": { \"type\": \"Point\", \"coordinates\": [ -7161818.443646, 4137136.665217 ] } }\n",
    ",\n",
    "{ \"type\": \"Feature\", \"properties\": { \"AREANAME\": \"Honolulu\", \"CLASS\": \"CDP\", \"ST\": \"HI\", \"STFIPS\": \"15\", \"PLACEFIP\": \"17000\", \"CAPITAL\": \"Y\", \"AREALAND\": 85.702000, \"AREAWATER\": 19.351000, \"POP_CL\": 8, \"POP2000\": 371657, \"WHITE\": 73093, \"BLACK\": 6038, \"AMERI_ES\": 689, \"ASIAN\": 207588, \"HAWN_PI\": 25457, \"OTHER\": 3318, \"MULT_RACE\": 55474, \"HISPANIC\": 16229, \"MALES\": 182628, \"FEMALES\": 189029, \"AGE_UNDER5\": 18896, \"AGE_5_17\": 52576, \"AGE_18_21\": 18274, \"AGE_22_29\": 41526, \"AGE_30_39\": 56230, \"AGE_40_49\": 55990, \"AGE_50_64\": 61908, \"AGE_65_UP\": 66257, \"MED_AGE\": 39.700000, \"MED_AGE_M\": 38.400000, \"MED_AGE_F\": 41.100000, \"HOUSEHOLDS\": 140337, \"AVE_HH_SZ\": 2.570000, \"HSEHLD_1_M\": 19657, \"HSEHLD_1_F\": 22032, \"MARHH_CHD\": 24570, \"MARHH_NO_C\": 39239, \"MHH_CHILD\": 2030, \"FHH_CHILD\": 6592, \"FAMILIES\": 87374, \"AVE_FAM_SZ\": 3.230000, \"HSE_UNITS\": 158663, \"VACANT\": 18326, \"OWNER_OCC\": 65861, \"RENTER_OCC\": 74476 }, \"geometry\": { \"type\": \"Point\", \"coordinates\": [ -7432121.465097, 4705302.093193 ] } }\n",
    ",\n",
    "{ \"type\": \"Feature\", \"properties\": { \"AREANAME\": \"Kahului\", \"CLASS\": \"CDP\", \"ST\": \"HI\", \"STFIPS\": \"15\", \"PLACEFIP\": \"22700\", \"CAPITAL\": \"N\", \"AREALAND\": 15.162000, \"AREAWATER\": 1.175000, \"POP_CL\": 6, \"POP2000\": 20146, \"WHITE\": 2027, \"BLACK\": 49, \"AMERI_ES\": 55, \"ASIAN\": 10803, \"HAWN_PI\": 1997, \"OTHER\": 296, \"MULT_RACE\": 4919, \"HISPANIC\": 1763, \"MALES\": 9936, \"FEMALES\": 10210, \"AGE_UNDER5\": 1438, \"AGE_5_17\": 3751, \"AGE_18_21\": 1051, \"AGE_22_29\": 2223, \"AGE_30_39\": 2833, \"AGE_40_49\": 2535, \"AGE_50_64\": 2948, \"AGE_65_UP\": 3367, \"MED_AGE\": 35.900000, \"MED_AGE_M\": 34.100000, \"MED_AGE_F\": 37.500000, \"HOUSEHOLDS\": 5880, \"AVE_HH_SZ\": 3.290000, \"HSEHLD_1_M\": 464, \"HSEHLD_1_F\": 728, \"MARHH_CHD\": 1371, \"MARHH_NO_C\": 1682, \"MHH_CHILD\": 185, \"FHH_CHILD\": 495, \"FAMILIES\": 4424, \"AVE_FAM_SZ\": 3.760000, \"HSE_UNITS\": 6079, \"VACANT\": 199, \"OWNER_OCC\": 3190, \"RENTER_OCC\": 2690 }, \"geometry\": { \"type\": \"Point\", \"coordinates\": [ -7260796.122058, 4481129.175313 ] } }\n",
    ",\n",
    "{ \"type\": \"Feature\", \"properties\": { \"AREANAME\": \"Kailua\", \"CLASS\": \"CDP\", \"ST\": \"HI\", \"STFIPS\": \"15\", \"PLACEFIP\": \"23150\", \"CAPITAL\": \"N\", \"AREALAND\": 6.644000, \"AREAWATER\": 2.888000, \"POP_CL\": 6, \"POP2000\": 36513, \"WHITE\": 16008, \"BLACK\": 277, \"AMERI_ES\": 109, \"ASIAN\": 7709, \"HAWN_PI\": 2947, \"OTHER\": 338, \"MULT_RACE\": 9125, \"HISPANIC\": 2228, \"MALES\": 18067, \"FEMALES\": 18446, \"AGE_UNDER5\": 2090, \"AGE_5_17\": 6724, \"AGE_18_21\": 1524, \"AGE_22_29\": 3130, \"AGE_30_39\": 5322, \"AGE_40_49\": 6214, \"AGE_50_64\": 6499, \"AGE_65_UP\": 5010, \"MED_AGE\": 39.100000, \"MED_AGE_M\": 38.000000, \"MED_AGE_F\": 40.200000, \"HOUSEHOLDS\": 12229, \"AVE_HH_SZ\": 2.980000, \"HSEHLD_1_M\": 897, \"HSEHLD_1_F\": 1130, \"MARHH_CHD\": 3056, \"MARHH_NO_C\": 4188, \"MHH_CHILD\": 256, \"FHH_CHILD\": 613, \"FAMILIES\": 9324, \"AVE_FAM_SZ\": 3.330000, \"HSE_UNITS\": 12780, \"VACANT\": 551, \"OWNER_OCC\": 8521, \"RENTER_OCC\": 3708 }, \"geometry\": { \"type\": \"Point\", \"coordinates\": [ -7407068.350175, 4710303.343603 ] } }\n",
    "]}\n",
    "\n",
    "def cities_average_information(geojson):\n",
    "    total_population = 0\n",
    "    total_latitude = 0\n",
    "    total_longitude = 0\n",
    "    city_count = len(geojson['features'])\n",
    "\n",
    "    for city in geojson['features']:\n",
    "        population = city['properties']['POP2000']\n",
    "        longitude, latitude = city['geometry']['coordinates']\n",
    "\n",
    "        total_population += population\n",
    "        total_longitude += longitude\n",
    "        total_latitude += latitude\n",
    "\n",
    "    average_population = total_population / city_count\n",
    "\n",
    "    mean_center_longitude = total_longitude / city_count\n",
    "    mean_center_latitude = total_latitude / city_count\n",
    "\n",
    "    print(f\"Average Population of all cities: {average_population:.2f}\")\n",
    "    print(f\"Mean Center (Longitude, Latitude): ({mean_center_longitude:.6f}, {mean_center_latitude:.6f})\")\n",
    "\n",
    "cities_average_information(cities)\n"
   ]
  },
  {
   "cell_type": "markdown",
   "metadata": {},
   "source": [
    "Now refactor your code. Refactor means we want you to make changes that improve your code."
   ]
  },
  {
   "cell_type": "code",
   "execution_count": 45,
   "metadata": {},
   "outputs": [
    {
     "name": "stdout",
     "output_type": "stream",
     "text": [
      "Average Population of all cities: 82936.00\n",
      "Mean Center (Longitude, Latitude): (-7360422.748801, 4581756.940684)\n"
     ]
    }
   ],
   "source": [
    "# YOUR NEW CODE HERE\n",
    "# This code should be an improvement to the code above.\n",
    "\n",
    "def cities_average_information(geojson):\n",
    "   \n",
    "    populations, coordinates = extract_city_data(geojson)\n",
    "    average_population = calculate_average(populations)\n",
    "    mean_center = calculate_mean_center(coordinates)\n",
    "    print_results(average_population, mean_center)\n",
    "\n",
    "\n",
    "def extract_city_data(geojson):\n",
    "    populations = [city['properties']['POP2000'] for city in geojson['features']]\n",
    "    coordinates = [city['geometry']['coordinates'] for city in geojson['features']]\n",
    "    return populations, coordinates\n",
    "\n",
    "\n",
    "def calculate_average(values):\n",
    "    return sum(values) / len(values) if values else 0\n",
    "\n",
    "\n",
    "def calculate_mean_center(coordinates):\n",
    "    total_longitude = sum(coord[0] for coord in coordinates)\n",
    "    total_latitude = sum(coord[1] for coord in coordinates)\n",
    "    city_count = len(coordinates)\n",
    "    mean_center_longitude = total_longitude / city_count if city_count else 0\n",
    "    mean_center_latitude = total_latitude / city_count if city_count else 0\n",
    "    return (mean_center_longitude, mean_center_latitude)\n",
    "\n",
    "\n",
    "def print_results(average_population, mean_center):\n",
    "    print(f\"Average Population of all cities: {average_population:.2f}\")\n",
    "    print(f\"Mean Center (Longitude, Latitude): ({mean_center[0]:.6f}, {mean_center[1]:.6f})\")\n",
    "\n",
    "\n",
    "\n",
    "cities_average_information(cities)\n"
   ]
  },
  {
   "cell_type": "markdown",
   "metadata": {},
   "source": [
    "### 3b. Reflection\n",
    "\n",
    "Write one paragraph that documents the changes you have made, explaining why you chose to make these revisions and how they improve the overall quality of the code.\n"
   ]
  },
  {
   "cell_type": "markdown",
   "metadata": {},
   "source": [
    "WRITE YOUR REFLECTION PARAGRAPH HERE DOCUMENTING WHAT/WHY CHANGES YOU MADE.\n",
    "\n",
    "I focus on improving readability, modularity, and performances.\n",
    "Used functions to break down the logic into more manageable parts.\n",
    "Used list comprehensions where possible for cleaner.\n",
    "\n",
    "Changes and improvements:\n",
    "Modularization:\n",
    "\n",
    "The logic for extracting city data, calculating averages, and printing results is moved to separate functions (extract_city_data, calculate_average, calculate_mean_center, and print_results). This makes the code cleaner and more maintainable.\n",
    "\n",
    "List Comprehensions:\n",
    "\n",
    "Replaced the loop in the extract_city_data function with list comprehensions to make the code more concise and Pythonic.\n",
    "\n",
    "Generalized Functions:\n",
    "\n",
    "The calculate_average and calculate_mean_center functions are reusable and can be used elsewhere in the program if necessary.\n",
    "\n",
    "Error Handling:\n",
    "\n",
    "Added checks to avoid division by zero (in case there are no cities or data).\n",
    "\n",
    "Improved Readability:\n",
    "\n",
    "The code is now organized into smaller, more understandable blocks. The function names are descriptive, and comments are included to explain the logic."
   ]
  },
  {
   "cell_type": "markdown",
   "metadata": {},
   "source": [
    "## 4. Reps (Repetitive actions to build your comfort levels)\n",
    "This series of exercises is designed to build your comfort writing Python code.\n",
    "\n",
    "_The number of reps has been reduced to help everyone catch up._"
   ]
  },
  {
   "cell_type": "markdown",
   "metadata": {},
   "source": [
    "### 4.a. \"Repetitive Repetition\"\n",
    "Original Code:\n",
    "\n",
    "```python\n",
    "print(\"Hello, Sarah!\")\n",
    "print(\"Hello, Max!\")\n",
    "print(\"Hello, Priya!\")\n",
    "print(\"Hello, Alex!\")\n",
    "print(\"Hello, Jamie!\")\n",
    "```\n",
    "\n",
    "**Goal:** Refactor this repetitive code to use a simple loop."
   ]
  },
  {
   "cell_type": "code",
   "execution_count": 40,
   "metadata": {},
   "outputs": [
    {
     "name": "stdout",
     "output_type": "stream",
     "text": [
      "Hello, sarah!\n",
      "Hello, Max!\n",
      "Hello, Priya!\n",
      "Hello, Alex!\n",
      "Hello, Jamie!\n"
     ]
    }
   ],
   "source": [
    "names = ['sarah', 'Max', 'Priya', 'Alex', 'Jamie']\n",
    "for name in names:\n",
    "    print(f\"Hello, {name}!\")"
   ]
  },
  {
   "cell_type": "markdown",
   "metadata": {},
   "source": [
    "### 4.b. Nested Ifs\n",
    "\n",
    "Original Code:\n",
    "\n",
    "```python\n",
    "age = 25\n",
    "\n",
    "if age >= 18:\n",
    "    if age <= 65:\n",
    "        print(\"Adult pricing\")\n",
    "```\n",
    "**Goal:** Simplify this nested condition into a single, easy-to-read condition."
   ]
  },
  {
   "cell_type": "code",
   "execution_count": 41,
   "metadata": {},
   "outputs": [
    {
     "name": "stdout",
     "output_type": "stream",
     "text": [
      "Adult pricing\n"
     ]
    }
   ],
   "source": [
    "age = 25\n",
    "\n",
    "if 18 <= age <= 65:\n",
    "    print(\"Adult pricing\")\n"
   ]
  },
  {
   "cell_type": "markdown",
   "metadata": {
    "tags": []
   },
   "source": [
    "### 4.c. Pointlessly Long Variable Names\n",
    "\n",
    "Original Code:\n",
    "\n",
    "```python\n",
    "number_of_students_currently_enrolled = 34\n",
    "number_of_teachers_currently_available = 5\n",
    "\n",
    "student_teacher_ratio_calculation = number_of_students_currently_enrolled / number_of_teachers_currently_available\n",
    "\n",
    "print(student_teacher_ratio_calculation)\n",
    "```\n",
    "**Goal:** Refactor to shorten variable names without losing clarity.\n"
   ]
  },
  {
   "cell_type": "code",
   "execution_count": 42,
   "metadata": {},
   "outputs": [
    {
     "name": "stdout",
     "output_type": "stream",
     "text": [
      "6.8\n"
     ]
    }
   ],
   "source": [
    "students = 34\n",
    "teachers = 5\n",
    "\n",
    "student_teacher_ratio = students / teachers\n",
    "\n",
    "print(student_teacher_ratio)\n"
   ]
  },
  {
   "cell_type": "markdown",
   "metadata": {},
   "source": [
    "### 4.d. Duplicate Calculations\n",
    "\n",
    "Original Code:\n",
    "\n",
    "```python\n",
    "def area_and_volume(side_length):\n",
    "    print(\"Area:\", side_length * side_length)\n",
    "    print(\"Volume:\", side_length * side_length * side_length)\n",
    "\n",
    "area_and_volume(4)\n",
    "```\n",
    "**Goal:** Refactor to eliminate duplicate calculations and improve readability by assigning calculations to variables."
   ]
  },
  {
   "cell_type": "code",
   "execution_count": 43,
   "metadata": {},
   "outputs": [
    {
     "name": "stdout",
     "output_type": "stream",
     "text": [
      "Area: 16\n",
      "Volume: 64\n"
     ]
    }
   ],
   "source": [
    "def area_and_volume(side_length):\n",
    "    area = side_length * side_length\n",
    "    volume = area * side_length\n",
    "    \n",
    "    print(\"Area:\", area)\n",
    "    print(\"Volume:\", volume)\n",
    "\n",
    "area_and_volume(4)\n"
   ]
  },
  {
   "cell_type": "markdown",
   "metadata": {},
   "source": [
    "## OPTIONAL 5. (Question 5 is optional - not required for submission)"
   ]
  },
  {
   "cell_type": "markdown",
   "metadata": {},
   "source": [
    "Here's a challenging exercise! This is designed for students who are really watching to stretch their abilities and practice their geospatial computing skills by calculating the nearest neighbor distance among a set of points:\n",
    "\n",
    "**Objective:**  \n",
    "Write a Python function to calculate the **nearest neighbor** for each point in a set of points. For each coordinate pair, your function should identify the closest other point and calculate the Euclidean distance between them.\n",
    "\n",
    "**Specification:**\n",
    "\n",
    "1. **Input:** A list of coordinate pairs (2D points).\n",
    "2. **Output:** For every point, print:\n",
    "   - The point itself (`[x, y]`)\n",
    "   - Its nearest neighbor (`[nearest_x, nearest_y]`)\n",
    "   - The Euclidean distance to its nearest neighbor.\n",
    "\n",
    "3. **Use the provided sample data below:**\n",
    "```python\n",
    "sample_points = [\n",
    "    [2, 3],\n",
    "    [5, 4],\n",
    "    [9, 6],\n",
    "    [4, 7],\n",
    "    [8, 1],\n",
    "    [7, 2],\n",
    "    [1, 5],\n",
    "    [6, 9],\n",
    "]\n",
    "```\n",
    "\n",
    "### **Example output structure:**\n",
    "```\n",
    "Point [2, 3] --> Nearest Neighbor: [1, 5], Distance: 2.24\n",
    "Point [5, 4] --> Nearest Neighbor: [4, 7], Distance: 3.16\n",
    "...\n",
    "```\n",
    "\n",
    "### **Hints:**\n",
    "- Use the Euclidean distance formula:\n",
    "\n",
    "  sqrt( (x_2 - x_1)^2 + (y_2 - y_1)^2 )\n",
    "  \n",
    "- Consider creating helper functions for readability.\n",
    "- Avoid comparing a point with itself.\n",
    "\n",
    "---\n",
    "\n",
    "### **Bonus Challenge:** for those who really want to   \n",
    "Optimize your solution to be more efficient. You can potentially use libraries like SciPy, look at more complicated spatial data structures such as KD-trees or grids or data sorting heuristics."
   ]
  },
  {
   "cell_type": "code",
   "execution_count": 44,
   "metadata": {},
   "outputs": [
    {
     "name": "stdout",
     "output_type": "stream",
     "text": [
      "Point [2, 3] --> Nearest Neighbor: [1, 5], Distance: 2.24\n",
      "Point [5, 4] --> Nearest Neighbor: [7, 2], Distance: 2.83\n",
      "Point [9, 6] --> Nearest Neighbor: [6, 9], Distance: 4.24\n",
      "Point [4, 7] --> Nearest Neighbor: [6, 9], Distance: 2.83\n",
      "Point [8, 1] --> Nearest Neighbor: [7, 2], Distance: 1.41\n",
      "Point [7, 2] --> Nearest Neighbor: [8, 1], Distance: 1.41\n",
      "Point [1, 5] --> Nearest Neighbor: [2, 3], Distance: 2.24\n",
      "Point [6, 9] --> Nearest Neighbor: [4, 7], Distance: 2.83\n"
     ]
    }
   ],
   "source": [
    "# Optional 5 code here...\n",
    "import math\n",
    "\n",
    "\n",
    "def euclidean_distance(point1, point2):\n",
    "    return math.sqrt((point2[0] - point1[0]) ** 2 + (point2[1] - point1[1]) ** 2)\n",
    "\n",
    "\n",
    "def nearest_neighbors(points):\n",
    "    for i, point in enumerate(points):\n",
    "       \n",
    "        nearest_distance = float('inf')\n",
    "        nearest_point = None\n",
    "        \n",
    "       \n",
    "        for j, other_point in enumerate(points):\n",
    "            if i != j:\n",
    "                distance = euclidean_distance(point, other_point)\n",
    "                \n",
    "                \n",
    "                if distance < nearest_distance:\n",
    "                    nearest_distance = distance\n",
    "                    nearest_point = other_point\n",
    "        \n",
    "        \n",
    "        print(f\"Point {point} --> Nearest Neighbor: {nearest_point}, Distance: {nearest_distance:.2f}\")\n",
    "\n",
    "# Sample points\n",
    "sample_points = [\n",
    "    [2, 3],\n",
    "    [5, 4],\n",
    "    [9, 6],\n",
    "    [4, 7],\n",
    "    [8, 1],\n",
    "    [7, 2],\n",
    "    [1, 5],\n",
    "    [6, 9],\n",
    "]\n",
    "\n",
    "nearest_neighbors(sample_points)\n"
   ]
  },
  {
   "cell_type": "markdown",
   "metadata": {},
   "source": [
    "## 6. Checking in\n",
    "\n",
    "In the Markdown cell below tell us how you think you are doing on a scale of 1-5 (1 is struggling, 5 is rocking it). Then complete the following 2 sentences."
   ]
  },
  {
   "cell_type": "markdown",
   "metadata": {},
   "source": [
    "### How are you doing?\n",
    "\n",
    "On a scale of 1-5, I am at a \n",
    "<Add 3.5>.\n",
    "<Add sometimes it's very hard to understand something from video and notes especially if I am sick. I am talking about MVP 2. \n",
    "\n",
    "\n",
    "I could use the most help understanding ... use of python in GIS.\n",
    "\n",
    "\n",
    "I have a really good understanding of ... Basics Python."
   ]
  }
 ],
 "metadata": {
  "anaconda-cloud": {},
  "kernelspec": {
   "display_name": "Python 3 (ipykernel)",
   "language": "python",
   "name": "python3"
  },
  "language_info": {
   "codemirror_mode": {
    "name": "ipython",
    "version": 3
   },
   "file_extension": ".py",
   "mimetype": "text/x-python",
   "name": "python",
   "nbconvert_exporter": "python",
   "pygments_lexer": "ipython3",
   "version": "3.9.7"
  }
 },
 "nbformat": 4,
 "nbformat_minor": 4
}
