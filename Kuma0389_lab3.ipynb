{
 "cells": [
  {
   "cell_type": "markdown",
   "metadata": {},
   "source": [
    "# Principles of Geocomputing: Lab 3 (4 points)"
   ]
  },
  {
   "cell_type": "markdown",
   "metadata": {},
   "source": [
    "This third lab starts to focus on the geospatial aspects of geospatial computing. We will build on your foundational programming knowledge and begin to incorporate working with spatial data models: raster and vector."
   ]
  },
  {
   "cell_type": "markdown",
   "metadata": {},
   "source": [
    "## 0. Submission Preparation\n",
    "\n",
    "**Please read these steps carefully, they have been updated based on feedback.**\n",
    "\n",
    "Before submitting this lab in Canvas:\n",
    " 1. Make sure that you executed all code cells, so we see the results of your code\n",
    " 2. Delete this cell (0. Submission preparation)\n",
    " 3. Save the Notebook (File -> Save Notebook)\n",
    " 4. Download the Notebook, as a .ipynb file (File -> Download)\n",
    " 5. Save this as a PDF file (File -> Save and Export Notebook as... -> PDF) \n",
    " 5. Rename the notebook **and the PDF** file using the lab file naming convention below.\n",
    " 6. Upload the renamed notebook file and the PDF file to Canvas.\n",
    "\n",
    "Lab file naming convention for your Notebook before uploading to Canvas\n",
    "* __Standard__:&nbsp;&nbsp;&nbsp; <tt>&lt;InternetID&gt;_lab&lt;lab#&gt;.ipynb</tt>\n",
    "* __Example__:&nbsp;&nbsp;&nbsp; <tt>thork015_lab1.ipynb</tt>\n",
    "\n",
    "Lab file naming convention for your PDF before uploading to Canvas\n",
    "* __Standard__:&nbsp;&nbsp;&nbsp; <tt>&lt;InternetID&gt;_lab&lt;lab#&gt;.pdf</tt>\n",
    "* __Example__:&nbsp;&nbsp;&nbsp; <tt>thork015_lab1.pdf</tt>\n",
    "\n",
    "The first section of each lab assignment should contain your name, Internet ID, and hours spent, declared using the variables below (<tt>**hours_spent**</tt> should be an <tt>**int**</tt> or a <tt>**float**</tt>, not a string). You may be asked to make use of these variables within the lab, so be careful not to overwrite their values further down.\n",
    "\n",
    "For the first 3 variables below, replace the value <tt>None</tt> with an appropriate value.\n",
    "  * Your name (*your_name*) should be a String\n",
    "  * Your internet id (*your_intid*) should be a String\n",
    "  * The number of hours spent on the lab should be an Integer or a Float. Let's say you spend 90 minutes on the lab, then feel free to say 1.5 to indicate 1 hour and 30 minutes. This helps us track how much time each student is spending on each lab so we can make adjustments for future labs or potentially review key concepts.\n",
    "\n",
    "\n",
    "In the final three variables (*who_helped_you*, *who_you_helped*, and *genAI_helped_me*) you must indicate who/what helped you on this lab assignment. First, any student who helped you and which problem(s) they helped you with (*who_helped_you*). You must also indicate any student who you helped and which problems you helped them with (*who_you_helped*). This helps us avoid any problems of academic dishonesty by being honest and recognizing the hard work of our peers who are willing to help us all out. It is win-win! \n",
    "\n",
    "Lastly, what percentage of the assignment was written/completed with the help of generative AI (e.g., ChatGPT, Co-Pilot, etc)? Again, you must give credit where credit is due so if you used generative AI or other technologies to complete the assignment. This does not affect your grade, we are using this to understand where AI has been used in the assignment and so that you do not cross any lines with academic dishonesty, because you are acknowledging that generative AI and related technologies helped you with your work.\n",
    "\n",
    "**Reminder** Run the code cell below by clicking on the Cell and then click on the \"Run Cell\" button above, which looks like a Play button.\n"
   ]
  },
  {
   "cell_type": "markdown",
   "metadata": {},
   "source": [
    "## 1. Lab Information"
   ]
  },
  {
   "cell_type": "code",
   "execution_count": 28,
   "metadata": {},
   "outputs": [],
   "source": [
    "your_name = \"Ankila Kumari\"\n",
    "your_intid = \"kuma0389\"\n",
    "hours_spent = 4\n",
    "\n",
    "who_helped_you = \"google-https://py.geocompx.org/05-raster-vector.used to understand vector and raster\"\n",
    "who_you_helped = \"\"\n",
    "genAI_helped_me = \"%\""
   ]
  },
  {
   "cell_type": "markdown",
   "metadata": {},
   "source": [
    "## 2. Basic Warm-up"
   ]
  },
  {
   "cell_type": "markdown",
   "metadata": {},
   "source": [
    "### 2a. Add numbers from strings\n",
    "\n",
    "Often you may find yourself with numeric data stored as a string instead of an <tt>**int**</tt> or <tt>**float**</tt>. Use casting to add `bushels_2015` and `bushels_2016` and save the result to a variable named `bushels_tot`, then call `print` to output the following text.\n",
    "\n",
    "<blockquote>There were # total bushels produced in 2015 and 2016</blockquote>\n",
    "\n",
    "Use your `bushels_2016` variable to produce the value where the \"#\" is."
   ]
  },
  {
   "cell_type": "code",
   "execution_count": 29,
   "metadata": {
    "tags": []
   },
   "outputs": [
    {
     "name": "stdout",
     "output_type": "stream",
     "text": [
      "There were 205 total bushels produced in 2015 and 2016\n"
     ]
    }
   ],
   "source": [
    "bushels_2015 = \"95\"\n",
    "bushels_2016 = \"110\"\n",
    "bushels_lot = None\n",
    "\n",
    "bushels_lot = int(bushels_2015) + int(bushels_2016)\n",
    "print(f\"There were {bushels_tot} total bushels produced in 2015 and 2016\")\n"
   ]
  },
  {
   "cell_type": "markdown",
   "metadata": {},
   "source": [
    "### 2b. Conditional print\n",
    "\n",
    "Using the original `bushels_2015` and `bushels_2016` variable values and types (strings) from above, construct an <tt>**if-else**</tt> conditional that prints either\n",
    "\n",
    "<blockquote>There were more bushels produced in 2015 than 2016 (# in 2015, # in 2016)</blockquote>\n",
    "\n",
    "or\n",
    "\n",
    "<blockquote>&nbsp;&nbsp;There were more bushels produced in 2016 than 2015 (# in 2016, # in 2015)</blockquote>\n",
    "\n",
    "depending on which is greater. Include the bushel counts for the appropriate year where you see the \"#\" in the example output, using the variables already provided \n",
    "\n",
    "IMPORTANTE NOTE! Don't type the numbers into your `print` statement. Instead use the variables directly so that if the values of the variables change, the print statement will print out their correct value.\n",
    "\n",
    "You don't need to handle the case where the values for 2015 and 2016 are identical, but think about how you might handle that in the future."
   ]
  },
  {
   "cell_type": "code",
   "execution_count": 30,
   "metadata": {},
   "outputs": [
    {
     "name": "stdout",
     "output_type": "stream",
     "text": [
      "There were more bushels produced in 2016 than 2015 (110 in 2016, 95 in 2015)\n"
     ]
    }
   ],
   "source": [
    "bushels_2015 = \"95\"\n",
    "bushels_2016 = \"110\"\n",
    "\n",
    "bushels_2015_int = int(bushels_2015)\n",
    "bushels_2016_int = int(bushels_2016)\n",
    "\n",
    "if bushels_2015_int > bushels_2016_int:\n",
    "    print(f\"There were more bushels produced in 2015 than 2016 ({bushels_2015_int} in 2015, {bushels_2016_int} in 2016)\")\n",
    "else:\n",
    "    print(f\"There were more bushels produced in 2016 than 2015 ({bushels_2016_int} in 2016, {bushels_2015_int} in 2015)\")"
   ]
  },
  {
   "cell_type": "code",
   "execution_count": 33,
   "metadata": {},
   "outputs": [
    {
     "name": "stdout",
     "output_type": "stream",
     "text": [
      "Peru\n",
      "United States\n",
      "South Korea\n",
      "Barbados\n",
      "China\n",
      "Chile\n",
      "Germany\n",
      "Morocco\n",
      "Thailand\n",
      "Japan\n",
      "Spain\n",
      "China\n",
      "South Korea\n",
      "Russia\n",
      "South Korea\n",
      "South Korea\n",
      "Mexico\n",
      "Oman\n",
      "Kenya\n",
      "Canada\n",
      "Canada\n",
      "Germany\n",
      "Bulgaria\n",
      "Mozambique\n",
      "Zambia\n",
      "Peru\n",
      "Peru\n",
      "Chile\n",
      "Cuba\n",
      "Mexico\n",
      "Japan\n",
      "France\n",
      "Russia\n",
      "India\n",
      "Thailand\n",
      "Albania\n",
      "Oman\n",
      "Algeria\n",
      "Angola\n",
      "Belize\n",
      "Bhutan\n",
      "Kenya\n",
      "Bolivia\n",
      "Brazil\n",
      "Chad\n",
      "Belgium\n",
      "Cameroon\n",
      "Fiji\n"
     ]
    }
   ],
   "source": [
    "# [IMPORTANT]\n",
    "# Run this code cell for the next two questions. \n",
    "\n",
    "# Do not delete this cell or alter it. \n",
    "countries = [\"Peru\", \"United States\", \"South Korea\", \"Barbados\", \"China\", \"Chile\", \"Germany\", \"Morocco\",\n",
    "             \"Thailand\", \"Japan\", \"Spain\", \"China\", \"South Korea\", \"Russia\", \"South Korea\", \"South Korea\",\n",
    "             \"Mexico\", \"Oman\", \"Kenya\", \"Canada\", \"Canada\", \"Germany\", \"Bulgaria\", \"Mozambique\", \"Zambia\", \"Peru\",\n",
    "             \"Peru\", \"Chile\", \"Cuba\", \"Mexico\", \"Japan\", \"France\", \"Russia\", \"India\", \"Thailand\", \"Albania\", \"Oman\",\n",
    "            \"Algeria\", \"Angola\", \"Belize\", \"Bhutan\", \"Kenya\", \"Bolivia\", \"Brazil\", \"Chad\", \"Belgium\", \"Cameroon\", \"Fiji\"]\n",
    "for country in countries:\n",
    "    print(country)"
   ]
  },
  {
   "cell_type": "code",
   "execution_count": 14,
   "metadata": {},
   "outputs": [
    {
     "name": "stdout",
     "output_type": "stream",
     "text": [
      "Peru\n",
      "United States\n",
      "South Korea\n",
      "Barbados\n",
      "China\n",
      "Chile\n",
      "Germany\n",
      "Morocco\n",
      "Thailand\n",
      "Japan\n",
      "Spain\n",
      "China\n",
      "South Korea\n",
      "Russia\n",
      "South Korea\n",
      "South Korea\n",
      "Mexico\n",
      "Oman\n",
      "Kenya\n",
      "Canada\n",
      "Canada\n",
      "Germany\n",
      "Bulgaria\n",
      "Mozambique\n",
      "Zambia\n",
      "Peru\n",
      "Peru\n",
      "Chile\n",
      "Cuba\n",
      "Mexico\n",
      "Japan\n",
      "France\n",
      "Russia\n",
      "India\n",
      "Thailand\n",
      "Albania\n",
      "OmanAlgeria\n",
      "Angola\n",
      "Belize\n",
      "Bhutan\n",
      "Kenya\n",
      "Bolivia\n",
      "Brazil\n",
      "Chad\n",
      "Belgium\n",
      "Cameroon\n",
      "Fiji\n"
     ]
    }
   ],
   "source": [
    "# 2c.\n",
    "# Print each country on a new line using the countries list.\n",
    "# Hint: Don't overthink this one.\n",
    "countries = [\"Peru\", \"United States\", \"South Korea\", \"Barbados\", \"China\", \"Chile\", \"Germany\", \"Morocco\",\n",
    "             \"Thailand\", \"Japan\", \"Spain\", \"China\", \"South Korea\", \"Russia\", \"South Korea\", \"South Korea\",\n",
    "             \"Mexico\", \"Oman\", \"Kenya\", \"Canada\", \"Canada\", \"Germany\", \"Bulgaria\", \"Mozambique\", \"Zambia\", \"Peru\",\n",
    "             \"Peru\", \"Chile\", \"Cuba\", \"Mexico\", \"Japan\", \"France\", \"Russia\", \"India\", \"Thailand\", \"Albania\", \"Oman\"\n",
    "            \"Algeria\", \"Angola\", \"Belize\", \"Bhutan\", \"Kenya\", \"Bolivia\", \"Brazil\", \"Chad\", \"Belgium\", \"Cameroon\", \"Fiji\"]\n",
    "# YOUR CODE HERE\n",
    "for country in countries:\n",
    "    print(country)\n",
    "\n"
   ]
  },
  {
   "cell_type": "code",
   "execution_count": 16,
   "metadata": {},
   "outputs": [
    {
     "name": "stdout",
     "output_type": "stream",
     "text": [
      "Albania\n",
      "Angola\n",
      "Barbados\n",
      "Belgium\n",
      "Belize\n",
      "Bhutan\n",
      "Bolivia\n",
      "Brazil\n",
      "Bulgaria\n",
      "Cameroon\n",
      "Canada\n",
      "Canada\n",
      "Chad\n",
      "Chile\n",
      "Chile\n",
      "China\n",
      "China\n",
      "Cuba\n",
      "Fiji\n",
      "France\n",
      "Germany\n",
      "Germany\n",
      "India\n",
      "Japan\n",
      "Japan\n",
      "Kenya\n",
      "Kenya\n",
      "Mexico\n",
      "Mexico\n",
      "Morocco\n",
      "Mozambique\n",
      "Oman\n",
      "OmanAlgeria\n",
      "Peru\n",
      "Peru\n",
      "Peru\n",
      "Russia\n",
      "Russia\n",
      "South Korea\n",
      "South Korea\n",
      "South Korea\n",
      "South Korea\n",
      "Spain\n",
      "Thailand\n",
      "Thailand\n",
      "United States\n",
      "Zambia\n"
     ]
    }
   ],
   "source": [
    "# 2d.\n",
    "# That was pretty cool. Now sort the countries list in **alphabetical order**, \n",
    "# store it into a new list named sorted_countries, \n",
    "# then print each country on each line. \n",
    "# (Hint: Python has several built-in methods for lists, look at the documentation, find a method that might help you with this question)\n",
    "countries = [\"Peru\", \"United States\", \"South Korea\", \"Barbados\", \"China\", \"Chile\", \"Germany\", \"Morocco\",\n",
    "             \"Thailand\", \"Japan\", \"Spain\", \"China\", \"South Korea\", \"Russia\", \"South Korea\", \"South Korea\",\n",
    "             \"Mexico\", \"Oman\", \"Kenya\", \"Canada\", \"Canada\", \"Germany\", \"Bulgaria\", \"Mozambique\", \"Zambia\", \"Peru\",\n",
    "             \"Peru\", \"Chile\", \"Cuba\", \"Mexico\", \"Japan\", \"France\", \"Russia\", \"India\", \"Thailand\", \"Albania\", \"Oman\"\n",
    "            \"Algeria\", \"Angola\", \"Belize\", \"Bhutan\", \"Kenya\", \"Bolivia\", \"Brazil\", \"Chad\", \"Belgium\", \"Cameroon\", \"Fiji\"]\n",
    "sorted_countries = sorted(countries)\n",
    "for country in sorted_countries:\n",
    "    print(country)\n",
    "\n",
    "# YOUR CODE HERE\n"
   ]
  },
  {
   "cell_type": "markdown",
   "metadata": {},
   "source": [
    "## 3. Solving Problems\n",
    "In this section, you will tackle problems to build your spatial thinking and computational thinking abilities."
   ]
  },
  {
   "cell_type": "markdown",
   "metadata": {},
   "source": [
    "### 3a. Working with GeoJSON data from class\n",
    "\n",
    "Let's practice working with GeoJSON data, which is one format for vector data. This question will help you practice getting values out of lists and dictionaries."
   ]
  },
  {
   "cell_type": "markdown",
   "metadata": {},
   "source": [
    "Using the *vec* data example from class, **write a function** that accepts a GeoJSON dictionary and prints out the following:\n",
    "  - Geometry Type: (what type of vector data is it?)\n",
    "  - ID of the feature: (what is the unique identifier for the feature?)\n",
    "  - City name: (what is the city name for the feature?)"
   ]
  },
  {
   "cell_type": "code",
   "execution_count": 17,
   "metadata": {},
   "outputs": [
    {
     "name": "stdout",
     "output_type": "stream",
     "text": [
      "Geometry Type:Point\n",
      "ID of the feature:Adak\n",
      "City name: Adak\n"
     ]
    }
   ],
   "source": [
    "vec = {\n",
    "    \"type\": \"FeatureCollection\",\n",
    "    \"features\": [{\n",
    "        \"geometry\": {\n",
    "            \"type\": \"Point\",\n",
    "            \"coordinates\": [-176.633, 51.883]\n",
    "        },\n",
    "        \"type\": \"Feature\",\n",
    "        \"properties\": {\n",
    "            \"wikipedia\": \"Adak,_Alaska\",\n",
    "            \"city\": \"Adak\"\n",
    "        },\n",
    "        \"id\": \"Adak\"\n",
    "    }]\n",
    "}\n",
    "\n",
    "# Insert your function and code below\n",
    "\n",
    "def extract_geojson_info(geojson):\n",
    "    feature = geojson[\"features\"][0]\n",
    "    geometry_type = feature[\"geometry\"][\"type\"]\n",
    "    feature_id = feature[\"id\"]\n",
    "    city_name = feature[\"properties\"][\"city\"]\n",
    "    \n",
    "    print(f\"Geometry Type:{geometry_type}\")\n",
    "    print(f\"ID of the feature:{ feature_id}\")\n",
    "    print(f\"City name: {city_name}\")\n",
    "    \n",
    "extract_geojson_info(vec)\n",
    "\n"
   ]
  },
  {
   "cell_type": "markdown",
   "metadata": {},
   "source": [
    "### 3b. Raster Calculator\n",
    "\n",
    "You have written basic calculators. Now time to make it geospatial! Write a raster calculator that can add OR subtract two rasters represented as nested lists. We will help you by creating the output raster in the function. You can also see that the `raster_calculator` function accepts the 2 rasters and an `operation_string` with 2 examples \"+\" and \"-\"."
   ]
  },
  {
   "cell_type": "code",
   "execution_count": 19,
   "metadata": {},
   "outputs": [
    {
     "name": "stdout",
     "output_type": "stream",
     "text": [
      "Output raster is [[-1, 1, -1, 1], [-1, 1, -1, 1], [-3, -1, -3, -1], [1, 3, 1, 3]]\n"
     ]
    }
   ],
   "source": [
    "my_raster_1 = [ [1,2,1,2], [3,4,3,4], [1,2,1,2], [3,4,3,4] ]\n",
    "my_raster_2 = [ [2,1,2,1], [4,3,4,3], [4,3,4,3], [2,1,2,1] ]\n",
    "\n",
    "# Define which operation you want to apply\n",
    "# By commenting/uncommenting the operation\n",
    "#operation = \"+\"\n",
    "operation=\"-\"\n",
    "\n",
    "def raster_calculator(raster1, raster2, operation_string):\n",
    "    output_raster = [ [0,0,0,0], [0,0,0,0], [0,0,0,0], [0,0,0,0] ]\n",
    "\n",
    "    # Insert your code here that modified output_raster to the correct values based on the operation_string\n",
    "    output_raster = [[0 for _ in row] for row in raster1]\n",
    "    # The modified output_raster will be returned and then printed out (see below)\n",
    "    \n",
    "    # YOUR CODE HERE\n",
    "    for i in range(len(raster1)):\n",
    "        for j in range(len(raster1[i])):\n",
    "            if operation_string == \"+\":\n",
    "                output_raster[i][j] = raster1[i][j] + raster2[i][j]\n",
    "            elif operation_string == \"-\":\n",
    "                output_raster[i][j] = raster1[i][j] - raster2[i][j]\n",
    "\n",
    "    \n",
    "    return output_raster\n",
    "    \n",
    "output_raster = raster_calculator(my_raster_1, my_raster_2, operation)\n",
    "\n",
    "print(\"Output raster is\", output_raster)\n"
   ]
  },
  {
   "cell_type": "markdown",
   "metadata": {},
   "source": [
    "## 4. Reps (Repetitve actions to build your comfort levels)"
   ]
  },
  {
   "cell_type": "markdown",
   "metadata": {},
   "source": [
    "This series of exercises is designed to build your comfort writing Python functions."
   ]
  },
  {
   "cell_type": "markdown",
   "metadata": {},
   "source": [
    "### Reps for Conditionals\n",
    "\n",
    "This section is all about practicing conditionals. \n",
    "\n",
    "Use these following variables for this section.\n",
    "* x = 2\n",
    "* y = 4\n",
    "* z = 6"
   ]
  },
  {
   "cell_type": "markdown",
   "metadata": {},
   "source": [
    "Define the variables and assign the values listed above. "
   ]
  },
  {
   "cell_type": "code",
   "execution_count": 23,
   "metadata": {},
   "outputs": [],
   "source": [
    "x = 2\n",
    "y = 4\n",
    "z = 6\n"
   ]
  },
  {
   "cell_type": "markdown",
   "metadata": {},
   "source": [
    "Use one or more conditionals to check whether variable **x** is less than variable **y**. Print the results."
   ]
  },
  {
   "cell_type": "code",
   "execution_count": 24,
   "metadata": {},
   "outputs": [
    {
     "name": "stdout",
     "output_type": "stream",
     "text": [
      "x is less than y.\n"
     ]
    }
   ],
   "source": [
    "x = 2\n",
    "y = 4\n",
    "z = 6\n",
    "if x< y:\n",
    "    print(\"x is less than y.\")\n",
    "else:\n",
    "    print(\"x is not less than y\")"
   ]
  },
  {
   "cell_type": "markdown",
   "metadata": {},
   "source": [
    "Use a conditional(s) to check whether variable **z** is greater than variable **y** and that **z** is smaller than the number **10**. Print the results."
   ]
  },
  {
   "cell_type": "code",
   "execution_count": 25,
   "metadata": {},
   "outputs": [
    {
     "name": "stdout",
     "output_type": "stream",
     "text": [
      "z is greater than variable y and that z is smaller than the number 10\n"
     ]
    }
   ],
   "source": [
    "x = 2\n",
    "y = 4\n",
    "z = 6\n",
    "if z > y and z< 10:\n",
    "    print(\"z is greater than variable y and that z is smaller than the number 10\")\n",
    "else:\n",
    "    print(\"z is not greater than variable y and that z is not smaller than the number 10\")"
   ]
  },
  {
   "cell_type": "markdown",
   "metadata": {},
   "source": [
    "Add variable **x** and **y** together and use a conditional to compare it to variable **z**. Print the results which include (in plain text) which condition you are using to compare the sum of x and y to the variable z."
   ]
  },
  {
   "cell_type": "code",
   "execution_count": 26,
   "metadata": {},
   "outputs": [
    {
     "name": "stdout",
     "output_type": "stream",
     "text": [
      "sum of x and y (6) is equals to z (6).\n"
     ]
    }
   ],
   "source": [
    "x = 2\n",
    "y = 4\n",
    "z = 6\n",
    "if x+y == z:\n",
    "    print(f\"sum of x and y ({x +y}) is equals to z ({z}).\")\n",
    "elif x+ y> z:\n",
    "    print(f\"sum of x and y ({x+y}) is greater than z ({z}).\")\n",
    "else:\n",
    "    print(f\"sum of x and y ({x+y}) is less than z({z}).\")\n",
    "    "
   ]
  },
  {
   "cell_type": "markdown",
   "metadata": {},
   "source": [
    "## 5. Stretch Exercise. Keep moving forward by solving this problem."
   ]
  },
  {
   "cell_type": "markdown",
   "metadata": {},
   "source": [
    "### Manhattan Distance\n",
    "\n",
    "We have looked at Euclidean distance already. Now let's look at Manhattan distance, one of several names for a distance that could be described as that of the sum of the legs of a right triangle instead of the hypotenuse. \n",
    "\n",
    "For instance, if we want to get from (0,0) to (3,4), instead of going directly between the two points (distance=5), we would go from (0,0) to (3,0) (distance=3) and then from (3,0) to (3,4) (distance=4) for a total distance of 7, the Manhattan distance. \n",
    "\n",
    "In the code below, fill in the function that calculates the manhattan distance between two points. Rather than hard coding the locations ask the user for the coordinate information. Specifically, for each coordinate in the two points, define a variable that uses the **input()** statement to receive input from the user. Print the calculated manhattan distance between the points in an easy to read fashion.\n",
    "\n",
    "**Important note** Notice that the *manhattan_distance* function accepts two parameters, point1 and point2. However, each point will need an x and y value. Use your new knowledge about data structures to accept two points. This differs from our earlier solutions where we accepted four parameters, namely x1,y1,x2,y2. "
   ]
  },
  {
   "cell_type": "code",
   "execution_count": 27,
   "metadata": {},
   "outputs": [
    {
     "name": "stdin",
     "output_type": "stream",
     "text": [
      "Enter the x-coordinate for the firsts point:  234\n",
      "Enter the y-coordinate for the first point:  123\n",
      "Enter the x-coordinate for the second point:  1234\n",
      "enter the y-coordinate for the second point:  12345\n"
     ]
    },
    {
     "name": "stdout",
     "output_type": "stream",
     "text": [
      "the manhattan distance between the point(234, 123) and (1234, 12345) is: 13222\n"
     ]
    }
   ],
   "source": [
    "# Function that calculates the Manhattan Distance between two points\n",
    "def manhattan_distance(point1, point2): # Do not change the function name or parameters.\n",
    "    x1, y1= point1\n",
    "    x2, y2 = point2\n",
    "    \n",
    "    distance = abs(x2-x1) + abs(y2-y1)\n",
    "    \n",
    "    return distance\n",
    "\n",
    "# Ask the user for the coordinate information\n",
    "x1 = int(input(\"Enter the x-coordinate for the firsts point: \"))\n",
    "y1 = int(input(\"Enter the y-coordinate for the first point: \"))\n",
    "\n",
    "\n",
    "# Create two points using the coordinate information for the user (hint: think about data structures we just covered)\n",
    "x2= int(input(\"Enter the x-coordinate for the second point: \"))\n",
    "y2 = int(input(\"enter the y-coordinate for the second point: \"))\n",
    "\n",
    "point1 = (x1, y1)\n",
    "point2 = (x2, y2)\n",
    "# Call your manhattan_distance function\n",
    "distance = manhattan_distance(point1, point2)\n",
    "\n",
    "# Get the distance and print it out in an easy to read fashion\n",
    "\n",
    "print(f\"the manhattan distance between the point{point1} and {point2} is: {distance}\")\n"
   ]
  },
  {
   "cell_type": "markdown",
   "metadata": {},
   "source": [
    "## 6. Keep going\n",
    "\n",
    "In the cell below, write a few comments regarding the labs. Please write a few sentences to tell us how the labs are going, if something could be improved or if something is working extremely well. I won't be grading the content, but it will assist in the creation of future labs. I would recommend using a markdown cell. A cell can be converted to markdown by clicking on the cell, then clicking on **Cell** in the menu, then clicking on **Cell Type**, then choosing **Markdown**. For text, you do not need to use any symbols and can just write. For more information on Markdown, see [here.](https://github.com/adam-p/markdown-here/wiki/Markdown-Cheatsheet)"
   ]
  },
  {
   "cell_type": "code",
   "execution_count": null,
   "metadata": {},
   "outputs": [],
   "source": [
    "The labs have been very engaging so far and have been helpful in strengthening my understanding of Python, allowing me to gradually enhance my skills. Additionally, it would be beneficial to have notifications within the notebook, as I missed two questions and didn’t receive any alerts, resulting in losing 0.2 marks."
   ]
  }
 ],
 "metadata": {
  "anaconda-cloud": {},
  "kernelspec": {
   "display_name": "Python 3 (ipykernel)",
   "language": "python",
   "name": "python3"
  },
  "language_info": {
   "codemirror_mode": {
    "name": "ipython",
    "version": 3
   },
   "file_extension": ".py",
   "mimetype": "text/x-python",
   "name": "python",
   "nbconvert_exporter": "python",
   "pygments_lexer": "ipython3",
   "version": "3.9.7"
  }
 },
 "nbformat": 4,
 "nbformat_minor": 4
}
